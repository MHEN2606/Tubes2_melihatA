{
 "cells": [
  {
   "cell_type": "code",
   "execution_count": 1,
   "id": "9364b777",
   "metadata": {
    "_cell_guid": "b1076dfc-b9ad-4769-8c92-a6c4dae69d19",
    "_uuid": "8f2839f25d086af736a60e9eeb907d3b93b6e0e5",
    "execution": {
     "iopub.execute_input": "2023-11-25T10:27:29.099246Z",
     "iopub.status.busy": "2023-11-25T10:27:29.098640Z",
     "iopub.status.idle": "2023-11-25T10:27:31.973870Z",
     "shell.execute_reply": "2023-11-25T10:27:31.973111Z"
    },
    "papermill": {
     "duration": 2.895371,
     "end_time": "2023-11-25T10:27:31.976179",
     "exception": false,
     "start_time": "2023-11-25T10:27:29.080808",
     "status": "completed"
    },
    "tags": []
   },
   "outputs": [
    {
     "name": "stdout",
     "output_type": "stream",
     "text": [
      "/kaggle/input/data-komputer-if3170/data_train.csv\n",
      "/kaggle/input/data-komputer-if3170/data_validation.csv\n",
      "/kaggle/input/data-komputer-if3170/test.csv\n"
     ]
    }
   ],
   "source": [
    "# This Python 3 environment comes with many helpful analytics libraries installed\n",
    "# It is defined by the kaggle/python Docker image: https://github.com/kaggle/docker-python\n",
    "# For example, here's several helpful packages to load\n",
    "\n",
    "import numpy as np # linear algebra\n",
    "import pandas as pd # data processing, CSV file I/O (e.g. pd.read_csv)\n",
    "import matplotlib.pyplot as plt\n",
    "import seaborn as sns\n",
    "\n",
    "from sklearn.neighbors import KNeighborsClassifier\n",
    "from sklearn.naive_bayes import GaussianNB\n",
    "from sklearn.preprocessing import MinMaxScaler, Normalizer, StandardScaler, FunctionTransformer\n",
    "from sklearn.pipeline import Pipeline\n",
    "from sklearn.metrics import confusion_matrix, ConfusionMatrixDisplay\n",
    "from sklearn.base import BaseEstimator, TransformerMixin\n",
    "from sklearn.compose import ColumnTransformer\n",
    "from sklearn.metrics import mean_squared_error\n",
    "from sklearn.model_selection import cross_val_score\n",
    "import joblib\n",
    "\n",
    "# Input data files are available in the read-only \"../input/\" directory\n",
    "# For example, running this (by clicking run or pressing Shift+Enter) will list all files under the input directory\n",
    "\n",
    "import os\n",
    "for dirname, _, filenames in os.walk('/kaggle/input'):\n",
    "    for filename in filenames:\n",
    "        print(os.path.join(dirname, filename))\n",
    "\n",
    "# You can write up to 20GB to the current directory (/kaggle/working/) that gets preserved as output when you create a version using \"Save & Run All\" \n",
    "# You can also write temporary files to /kaggle/temp/, but they won't be saved outside of the current session"
   ]
  },
  {
   "cell_type": "markdown",
   "id": "6c6feea6",
   "metadata": {
    "papermill": {
     "duration": 0.015879,
     "end_time": "2023-11-25T10:27:32.008040",
     "exception": false,
     "start_time": "2023-11-25T10:27:31.992161",
     "status": "completed"
    },
    "tags": []
   },
   "source": [
    "# Setup"
   ]
  },
  {
   "cell_type": "code",
   "execution_count": 2,
   "id": "73855ea0",
   "metadata": {
    "execution": {
     "iopub.execute_input": "2023-11-25T10:27:32.042974Z",
     "iopub.status.busy": "2023-11-25T10:27:32.042160Z",
     "iopub.status.idle": "2023-11-25T10:27:32.099020Z",
     "shell.execute_reply": "2023-11-25T10:27:32.097972Z"
    },
    "papermill": {
     "duration": 0.077973,
     "end_time": "2023-11-25T10:27:32.101809",
     "exception": false,
     "start_time": "2023-11-25T10:27:32.023836",
     "status": "completed"
    },
    "tags": []
   },
   "outputs": [
    {
     "data": {
      "text/html": [
       "<div>\n",
       "<style scoped>\n",
       "    .dataframe tbody tr th:only-of-type {\n",
       "        vertical-align: middle;\n",
       "    }\n",
       "\n",
       "    .dataframe tbody tr th {\n",
       "        vertical-align: top;\n",
       "    }\n",
       "\n",
       "    .dataframe thead th {\n",
       "        text-align: right;\n",
       "    }\n",
       "</style>\n",
       "<table border=\"1\" class=\"dataframe\">\n",
       "  <thead>\n",
       "    <tr style=\"text-align: right;\">\n",
       "      <th></th>\n",
       "      <th>battery_power</th>\n",
       "      <th>blue</th>\n",
       "      <th>clock_speed</th>\n",
       "      <th>dual_sim</th>\n",
       "      <th>fc</th>\n",
       "      <th>four_g</th>\n",
       "      <th>int_memory</th>\n",
       "      <th>m_dep</th>\n",
       "      <th>mobile_wt</th>\n",
       "      <th>n_cores</th>\n",
       "      <th>...</th>\n",
       "      <th>px_height</th>\n",
       "      <th>px_width</th>\n",
       "      <th>ram</th>\n",
       "      <th>sc_h</th>\n",
       "      <th>sc_w</th>\n",
       "      <th>talk_time</th>\n",
       "      <th>three_g</th>\n",
       "      <th>touch_screen</th>\n",
       "      <th>wifi</th>\n",
       "      <th>price_range</th>\n",
       "    </tr>\n",
       "  </thead>\n",
       "  <tbody>\n",
       "    <tr>\n",
       "      <th>0</th>\n",
       "      <td>804</td>\n",
       "      <td>1</td>\n",
       "      <td>0.8</td>\n",
       "      <td>1</td>\n",
       "      <td>12</td>\n",
       "      <td>1</td>\n",
       "      <td>41</td>\n",
       "      <td>0.9</td>\n",
       "      <td>89</td>\n",
       "      <td>1</td>\n",
       "      <td>...</td>\n",
       "      <td>709</td>\n",
       "      <td>818</td>\n",
       "      <td>2027</td>\n",
       "      <td>11</td>\n",
       "      <td>5</td>\n",
       "      <td>11</td>\n",
       "      <td>1</td>\n",
       "      <td>0</td>\n",
       "      <td>0</td>\n",
       "      <td>1</td>\n",
       "    </tr>\n",
       "    <tr>\n",
       "      <th>1</th>\n",
       "      <td>1042</td>\n",
       "      <td>0</td>\n",
       "      <td>2.2</td>\n",
       "      <td>0</td>\n",
       "      <td>15</td>\n",
       "      <td>1</td>\n",
       "      <td>11</td>\n",
       "      <td>0.6</td>\n",
       "      <td>139</td>\n",
       "      <td>5</td>\n",
       "      <td>...</td>\n",
       "      <td>68</td>\n",
       "      <td>1018</td>\n",
       "      <td>2826</td>\n",
       "      <td>18</td>\n",
       "      <td>0</td>\n",
       "      <td>2</td>\n",
       "      <td>1</td>\n",
       "      <td>0</td>\n",
       "      <td>0</td>\n",
       "      <td>2</td>\n",
       "    </tr>\n",
       "    <tr>\n",
       "      <th>2</th>\n",
       "      <td>1481</td>\n",
       "      <td>1</td>\n",
       "      <td>2.0</td>\n",
       "      <td>1</td>\n",
       "      <td>0</td>\n",
       "      <td>0</td>\n",
       "      <td>35</td>\n",
       "      <td>0.5</td>\n",
       "      <td>105</td>\n",
       "      <td>3</td>\n",
       "      <td>...</td>\n",
       "      <td>249</td>\n",
       "      <td>522</td>\n",
       "      <td>2635</td>\n",
       "      <td>17</td>\n",
       "      <td>16</td>\n",
       "      <td>4</td>\n",
       "      <td>1</td>\n",
       "      <td>0</td>\n",
       "      <td>1</td>\n",
       "      <td>2</td>\n",
       "    </tr>\n",
       "    <tr>\n",
       "      <th>3</th>\n",
       "      <td>1104</td>\n",
       "      <td>0</td>\n",
       "      <td>1.7</td>\n",
       "      <td>0</td>\n",
       "      <td>1</td>\n",
       "      <td>1</td>\n",
       "      <td>60</td>\n",
       "      <td>0.4</td>\n",
       "      <td>199</td>\n",
       "      <td>2</td>\n",
       "      <td>...</td>\n",
       "      <td>653</td>\n",
       "      <td>1413</td>\n",
       "      <td>1229</td>\n",
       "      <td>6</td>\n",
       "      <td>0</td>\n",
       "      <td>3</td>\n",
       "      <td>1</td>\n",
       "      <td>1</td>\n",
       "      <td>1</td>\n",
       "      <td>0</td>\n",
       "    </tr>\n",
       "    <tr>\n",
       "      <th>4</th>\n",
       "      <td>652</td>\n",
       "      <td>0</td>\n",
       "      <td>0.5</td>\n",
       "      <td>1</td>\n",
       "      <td>1</td>\n",
       "      <td>0</td>\n",
       "      <td>58</td>\n",
       "      <td>0.6</td>\n",
       "      <td>142</td>\n",
       "      <td>3</td>\n",
       "      <td>...</td>\n",
       "      <td>464</td>\n",
       "      <td>781</td>\n",
       "      <td>565</td>\n",
       "      <td>18</td>\n",
       "      <td>12</td>\n",
       "      <td>9</td>\n",
       "      <td>0</td>\n",
       "      <td>0</td>\n",
       "      <td>1</td>\n",
       "      <td>0</td>\n",
       "    </tr>\n",
       "    <tr>\n",
       "      <th>...</th>\n",
       "      <td>...</td>\n",
       "      <td>...</td>\n",
       "      <td>...</td>\n",
       "      <td>...</td>\n",
       "      <td>...</td>\n",
       "      <td>...</td>\n",
       "      <td>...</td>\n",
       "      <td>...</td>\n",
       "      <td>...</td>\n",
       "      <td>...</td>\n",
       "      <td>...</td>\n",
       "      <td>...</td>\n",
       "      <td>...</td>\n",
       "      <td>...</td>\n",
       "      <td>...</td>\n",
       "      <td>...</td>\n",
       "      <td>...</td>\n",
       "      <td>...</td>\n",
       "      <td>...</td>\n",
       "      <td>...</td>\n",
       "      <td>...</td>\n",
       "    </tr>\n",
       "    <tr>\n",
       "      <th>1395</th>\n",
       "      <td>536</td>\n",
       "      <td>1</td>\n",
       "      <td>1.4</td>\n",
       "      <td>0</td>\n",
       "      <td>0</td>\n",
       "      <td>1</td>\n",
       "      <td>53</td>\n",
       "      <td>0.7</td>\n",
       "      <td>135</td>\n",
       "      <td>3</td>\n",
       "      <td>...</td>\n",
       "      <td>547</td>\n",
       "      <td>705</td>\n",
       "      <td>1211</td>\n",
       "      <td>15</td>\n",
       "      <td>10</td>\n",
       "      <td>7</td>\n",
       "      <td>1</td>\n",
       "      <td>0</td>\n",
       "      <td>1</td>\n",
       "      <td>0</td>\n",
       "    </tr>\n",
       "    <tr>\n",
       "      <th>1396</th>\n",
       "      <td>1097</td>\n",
       "      <td>0</td>\n",
       "      <td>0.8</td>\n",
       "      <td>0</td>\n",
       "      <td>10</td>\n",
       "      <td>1</td>\n",
       "      <td>21</td>\n",
       "      <td>0.1</td>\n",
       "      <td>160</td>\n",
       "      <td>7</td>\n",
       "      <td>...</td>\n",
       "      <td>1277</td>\n",
       "      <td>1352</td>\n",
       "      <td>2219</td>\n",
       "      <td>15</td>\n",
       "      <td>6</td>\n",
       "      <td>12</td>\n",
       "      <td>1</td>\n",
       "      <td>0</td>\n",
       "      <td>1</td>\n",
       "      <td>2</td>\n",
       "    </tr>\n",
       "    <tr>\n",
       "      <th>1397</th>\n",
       "      <td>1179</td>\n",
       "      <td>1</td>\n",
       "      <td>0.5</td>\n",
       "      <td>0</td>\n",
       "      <td>7</td>\n",
       "      <td>1</td>\n",
       "      <td>32</td>\n",
       "      <td>0.3</td>\n",
       "      <td>182</td>\n",
       "      <td>2</td>\n",
       "      <td>...</td>\n",
       "      <td>85</td>\n",
       "      <td>1451</td>\n",
       "      <td>340</td>\n",
       "      <td>16</td>\n",
       "      <td>5</td>\n",
       "      <td>16</td>\n",
       "      <td>1</td>\n",
       "      <td>0</td>\n",
       "      <td>0</td>\n",
       "      <td>0</td>\n",
       "    </tr>\n",
       "    <tr>\n",
       "      <th>1398</th>\n",
       "      <td>719</td>\n",
       "      <td>1</td>\n",
       "      <td>0.5</td>\n",
       "      <td>1</td>\n",
       "      <td>0</td>\n",
       "      <td>1</td>\n",
       "      <td>23</td>\n",
       "      <td>0.4</td>\n",
       "      <td>113</td>\n",
       "      <td>6</td>\n",
       "      <td>...</td>\n",
       "      <td>431</td>\n",
       "      <td>1727</td>\n",
       "      <td>3990</td>\n",
       "      <td>14</td>\n",
       "      <td>9</td>\n",
       "      <td>12</td>\n",
       "      <td>1</td>\n",
       "      <td>1</td>\n",
       "      <td>1</td>\n",
       "      <td>3</td>\n",
       "    </tr>\n",
       "    <tr>\n",
       "      <th>1399</th>\n",
       "      <td>1439</td>\n",
       "      <td>0</td>\n",
       "      <td>0.9</td>\n",
       "      <td>0</td>\n",
       "      <td>12</td>\n",
       "      <td>1</td>\n",
       "      <td>20</td>\n",
       "      <td>0.8</td>\n",
       "      <td>147</td>\n",
       "      <td>1</td>\n",
       "      <td>...</td>\n",
       "      <td>626</td>\n",
       "      <td>932</td>\n",
       "      <td>1790</td>\n",
       "      <td>19</td>\n",
       "      <td>12</td>\n",
       "      <td>15</td>\n",
       "      <td>1</td>\n",
       "      <td>0</td>\n",
       "      <td>1</td>\n",
       "      <td>1</td>\n",
       "    </tr>\n",
       "  </tbody>\n",
       "</table>\n",
       "<p>1400 rows × 21 columns</p>\n",
       "</div>"
      ],
      "text/plain": [
       "      battery_power  blue  clock_speed  dual_sim  fc  four_g  int_memory  \\\n",
       "0               804     1          0.8         1  12       1          41   \n",
       "1              1042     0          2.2         0  15       1          11   \n",
       "2              1481     1          2.0         1   0       0          35   \n",
       "3              1104     0          1.7         0   1       1          60   \n",
       "4               652     0          0.5         1   1       0          58   \n",
       "...             ...   ...          ...       ...  ..     ...         ...   \n",
       "1395            536     1          1.4         0   0       1          53   \n",
       "1396           1097     0          0.8         0  10       1          21   \n",
       "1397           1179     1          0.5         0   7       1          32   \n",
       "1398            719     1          0.5         1   0       1          23   \n",
       "1399           1439     0          0.9         0  12       1          20   \n",
       "\n",
       "      m_dep  mobile_wt  n_cores  ...  px_height  px_width   ram  sc_h  sc_w  \\\n",
       "0       0.9         89        1  ...        709       818  2027    11     5   \n",
       "1       0.6        139        5  ...         68      1018  2826    18     0   \n",
       "2       0.5        105        3  ...        249       522  2635    17    16   \n",
       "3       0.4        199        2  ...        653      1413  1229     6     0   \n",
       "4       0.6        142        3  ...        464       781   565    18    12   \n",
       "...     ...        ...      ...  ...        ...       ...   ...   ...   ...   \n",
       "1395    0.7        135        3  ...        547       705  1211    15    10   \n",
       "1396    0.1        160        7  ...       1277      1352  2219    15     6   \n",
       "1397    0.3        182        2  ...         85      1451   340    16     5   \n",
       "1398    0.4        113        6  ...        431      1727  3990    14     9   \n",
       "1399    0.8        147        1  ...        626       932  1790    19    12   \n",
       "\n",
       "      talk_time  three_g  touch_screen  wifi  price_range  \n",
       "0            11        1             0     0            1  \n",
       "1             2        1             0     0            2  \n",
       "2             4        1             0     1            2  \n",
       "3             3        1             1     1            0  \n",
       "4             9        0             0     1            0  \n",
       "...         ...      ...           ...   ...          ...  \n",
       "1395          7        1             0     1            0  \n",
       "1396         12        1             0     1            2  \n",
       "1397         16        1             0     0            0  \n",
       "1398         12        1             1     1            3  \n",
       "1399         15        1             0     1            1  \n",
       "\n",
       "[1400 rows x 21 columns]"
      ]
     },
     "execution_count": 2,
     "metadata": {},
     "output_type": "execute_result"
    }
   ],
   "source": [
    "train_df = pd.read_csv(\"/kaggle/input/data-komputer-if3170/data_train.csv\")\n",
    "train_df"
   ]
  },
  {
   "cell_type": "code",
   "execution_count": 3,
   "id": "894573cf",
   "metadata": {
    "execution": {
     "iopub.execute_input": "2023-11-25T10:27:32.138202Z",
     "iopub.status.busy": "2023-11-25T10:27:32.137821Z",
     "iopub.status.idle": "2023-11-25T10:27:32.166913Z",
     "shell.execute_reply": "2023-11-25T10:27:32.165983Z"
    },
    "papermill": {
     "duration": 0.049192,
     "end_time": "2023-11-25T10:27:32.169311",
     "exception": false,
     "start_time": "2023-11-25T10:27:32.120119",
     "status": "completed"
    },
    "tags": []
   },
   "outputs": [
    {
     "data": {
      "text/html": [
       "<div>\n",
       "<style scoped>\n",
       "    .dataframe tbody tr th:only-of-type {\n",
       "        vertical-align: middle;\n",
       "    }\n",
       "\n",
       "    .dataframe tbody tr th {\n",
       "        vertical-align: top;\n",
       "    }\n",
       "\n",
       "    .dataframe thead th {\n",
       "        text-align: right;\n",
       "    }\n",
       "</style>\n",
       "<table border=\"1\" class=\"dataframe\">\n",
       "  <thead>\n",
       "    <tr style=\"text-align: right;\">\n",
       "      <th></th>\n",
       "      <th>battery_power</th>\n",
       "      <th>blue</th>\n",
       "      <th>clock_speed</th>\n",
       "      <th>dual_sim</th>\n",
       "      <th>fc</th>\n",
       "      <th>four_g</th>\n",
       "      <th>int_memory</th>\n",
       "      <th>m_dep</th>\n",
       "      <th>mobile_wt</th>\n",
       "      <th>n_cores</th>\n",
       "      <th>...</th>\n",
       "      <th>px_height</th>\n",
       "      <th>px_width</th>\n",
       "      <th>ram</th>\n",
       "      <th>sc_h</th>\n",
       "      <th>sc_w</th>\n",
       "      <th>talk_time</th>\n",
       "      <th>three_g</th>\n",
       "      <th>touch_screen</th>\n",
       "      <th>wifi</th>\n",
       "      <th>price_range</th>\n",
       "    </tr>\n",
       "  </thead>\n",
       "  <tbody>\n",
       "    <tr>\n",
       "      <th>0</th>\n",
       "      <td>842</td>\n",
       "      <td>0</td>\n",
       "      <td>2.2</td>\n",
       "      <td>0</td>\n",
       "      <td>1</td>\n",
       "      <td>0</td>\n",
       "      <td>7</td>\n",
       "      <td>0.6</td>\n",
       "      <td>188</td>\n",
       "      <td>2</td>\n",
       "      <td>...</td>\n",
       "      <td>20</td>\n",
       "      <td>756</td>\n",
       "      <td>2549</td>\n",
       "      <td>9</td>\n",
       "      <td>7</td>\n",
       "      <td>19</td>\n",
       "      <td>0</td>\n",
       "      <td>0</td>\n",
       "      <td>1</td>\n",
       "      <td>1</td>\n",
       "    </tr>\n",
       "    <tr>\n",
       "      <th>1</th>\n",
       "      <td>563</td>\n",
       "      <td>1</td>\n",
       "      <td>0.5</td>\n",
       "      <td>1</td>\n",
       "      <td>2</td>\n",
       "      <td>1</td>\n",
       "      <td>41</td>\n",
       "      <td>0.9</td>\n",
       "      <td>145</td>\n",
       "      <td>5</td>\n",
       "      <td>...</td>\n",
       "      <td>1263</td>\n",
       "      <td>1716</td>\n",
       "      <td>2603</td>\n",
       "      <td>11</td>\n",
       "      <td>2</td>\n",
       "      <td>9</td>\n",
       "      <td>1</td>\n",
       "      <td>1</td>\n",
       "      <td>0</td>\n",
       "      <td>2</td>\n",
       "    </tr>\n",
       "    <tr>\n",
       "      <th>2</th>\n",
       "      <td>769</td>\n",
       "      <td>1</td>\n",
       "      <td>2.9</td>\n",
       "      <td>1</td>\n",
       "      <td>0</td>\n",
       "      <td>0</td>\n",
       "      <td>9</td>\n",
       "      <td>0.1</td>\n",
       "      <td>182</td>\n",
       "      <td>5</td>\n",
       "      <td>...</td>\n",
       "      <td>248</td>\n",
       "      <td>874</td>\n",
       "      <td>3946</td>\n",
       "      <td>5</td>\n",
       "      <td>2</td>\n",
       "      <td>7</td>\n",
       "      <td>0</td>\n",
       "      <td>0</td>\n",
       "      <td>0</td>\n",
       "      <td>3</td>\n",
       "    </tr>\n",
       "    <tr>\n",
       "      <th>3</th>\n",
       "      <td>775</td>\n",
       "      <td>0</td>\n",
       "      <td>1.0</td>\n",
       "      <td>0</td>\n",
       "      <td>3</td>\n",
       "      <td>0</td>\n",
       "      <td>46</td>\n",
       "      <td>0.7</td>\n",
       "      <td>159</td>\n",
       "      <td>2</td>\n",
       "      <td>...</td>\n",
       "      <td>862</td>\n",
       "      <td>1864</td>\n",
       "      <td>568</td>\n",
       "      <td>17</td>\n",
       "      <td>15</td>\n",
       "      <td>11</td>\n",
       "      <td>1</td>\n",
       "      <td>1</td>\n",
       "      <td>1</td>\n",
       "      <td>0</td>\n",
       "    </tr>\n",
       "    <tr>\n",
       "      <th>4</th>\n",
       "      <td>595</td>\n",
       "      <td>0</td>\n",
       "      <td>0.9</td>\n",
       "      <td>1</td>\n",
       "      <td>7</td>\n",
       "      <td>1</td>\n",
       "      <td>23</td>\n",
       "      <td>0.1</td>\n",
       "      <td>121</td>\n",
       "      <td>3</td>\n",
       "      <td>...</td>\n",
       "      <td>441</td>\n",
       "      <td>810</td>\n",
       "      <td>3752</td>\n",
       "      <td>10</td>\n",
       "      <td>2</td>\n",
       "      <td>18</td>\n",
       "      <td>1</td>\n",
       "      <td>1</td>\n",
       "      <td>0</td>\n",
       "      <td>3</td>\n",
       "    </tr>\n",
       "    <tr>\n",
       "      <th>...</th>\n",
       "      <td>...</td>\n",
       "      <td>...</td>\n",
       "      <td>...</td>\n",
       "      <td>...</td>\n",
       "      <td>...</td>\n",
       "      <td>...</td>\n",
       "      <td>...</td>\n",
       "      <td>...</td>\n",
       "      <td>...</td>\n",
       "      <td>...</td>\n",
       "      <td>...</td>\n",
       "      <td>...</td>\n",
       "      <td>...</td>\n",
       "      <td>...</td>\n",
       "      <td>...</td>\n",
       "      <td>...</td>\n",
       "      <td>...</td>\n",
       "      <td>...</td>\n",
       "      <td>...</td>\n",
       "      <td>...</td>\n",
       "      <td>...</td>\n",
       "    </tr>\n",
       "    <tr>\n",
       "      <th>595</th>\n",
       "      <td>1547</td>\n",
       "      <td>1</td>\n",
       "      <td>2.9</td>\n",
       "      <td>0</td>\n",
       "      <td>2</td>\n",
       "      <td>0</td>\n",
       "      <td>57</td>\n",
       "      <td>0.4</td>\n",
       "      <td>114</td>\n",
       "      <td>1</td>\n",
       "      <td>...</td>\n",
       "      <td>347</td>\n",
       "      <td>957</td>\n",
       "      <td>1620</td>\n",
       "      <td>9</td>\n",
       "      <td>2</td>\n",
       "      <td>19</td>\n",
       "      <td>0</td>\n",
       "      <td>1</td>\n",
       "      <td>1</td>\n",
       "      <td>1</td>\n",
       "    </tr>\n",
       "    <tr>\n",
       "      <th>596</th>\n",
       "      <td>1882</td>\n",
       "      <td>0</td>\n",
       "      <td>2.0</td>\n",
       "      <td>0</td>\n",
       "      <td>11</td>\n",
       "      <td>1</td>\n",
       "      <td>44</td>\n",
       "      <td>0.8</td>\n",
       "      <td>113</td>\n",
       "      <td>8</td>\n",
       "      <td>...</td>\n",
       "      <td>4</td>\n",
       "      <td>743</td>\n",
       "      <td>3579</td>\n",
       "      <td>19</td>\n",
       "      <td>8</td>\n",
       "      <td>20</td>\n",
       "      <td>1</td>\n",
       "      <td>1</td>\n",
       "      <td>0</td>\n",
       "      <td>3</td>\n",
       "    </tr>\n",
       "    <tr>\n",
       "      <th>597</th>\n",
       "      <td>674</td>\n",
       "      <td>1</td>\n",
       "      <td>2.9</td>\n",
       "      <td>1</td>\n",
       "      <td>1</td>\n",
       "      <td>0</td>\n",
       "      <td>21</td>\n",
       "      <td>0.2</td>\n",
       "      <td>198</td>\n",
       "      <td>3</td>\n",
       "      <td>...</td>\n",
       "      <td>576</td>\n",
       "      <td>1809</td>\n",
       "      <td>1180</td>\n",
       "      <td>6</td>\n",
       "      <td>3</td>\n",
       "      <td>4</td>\n",
       "      <td>1</td>\n",
       "      <td>1</td>\n",
       "      <td>1</td>\n",
       "      <td>0</td>\n",
       "    </tr>\n",
       "    <tr>\n",
       "      <th>598</th>\n",
       "      <td>1965</td>\n",
       "      <td>1</td>\n",
       "      <td>2.6</td>\n",
       "      <td>1</td>\n",
       "      <td>0</td>\n",
       "      <td>0</td>\n",
       "      <td>39</td>\n",
       "      <td>0.2</td>\n",
       "      <td>187</td>\n",
       "      <td>4</td>\n",
       "      <td>...</td>\n",
       "      <td>915</td>\n",
       "      <td>1965</td>\n",
       "      <td>2032</td>\n",
       "      <td>11</td>\n",
       "      <td>10</td>\n",
       "      <td>16</td>\n",
       "      <td>1</td>\n",
       "      <td>1</td>\n",
       "      <td>1</td>\n",
       "      <td>2</td>\n",
       "    </tr>\n",
       "    <tr>\n",
       "      <th>599</th>\n",
       "      <td>510</td>\n",
       "      <td>1</td>\n",
       "      <td>2.0</td>\n",
       "      <td>1</td>\n",
       "      <td>5</td>\n",
       "      <td>1</td>\n",
       "      <td>45</td>\n",
       "      <td>0.9</td>\n",
       "      <td>168</td>\n",
       "      <td>6</td>\n",
       "      <td>...</td>\n",
       "      <td>483</td>\n",
       "      <td>754</td>\n",
       "      <td>3919</td>\n",
       "      <td>19</td>\n",
       "      <td>4</td>\n",
       "      <td>2</td>\n",
       "      <td>1</td>\n",
       "      <td>1</td>\n",
       "      <td>1</td>\n",
       "      <td>3</td>\n",
       "    </tr>\n",
       "  </tbody>\n",
       "</table>\n",
       "<p>600 rows × 21 columns</p>\n",
       "</div>"
      ],
      "text/plain": [
       "     battery_power  blue  clock_speed  dual_sim  fc  four_g  int_memory  \\\n",
       "0              842     0          2.2         0   1       0           7   \n",
       "1              563     1          0.5         1   2       1          41   \n",
       "2              769     1          2.9         1   0       0           9   \n",
       "3              775     0          1.0         0   3       0          46   \n",
       "4              595     0          0.9         1   7       1          23   \n",
       "..             ...   ...          ...       ...  ..     ...         ...   \n",
       "595           1547     1          2.9         0   2       0          57   \n",
       "596           1882     0          2.0         0  11       1          44   \n",
       "597            674     1          2.9         1   1       0          21   \n",
       "598           1965     1          2.6         1   0       0          39   \n",
       "599            510     1          2.0         1   5       1          45   \n",
       "\n",
       "     m_dep  mobile_wt  n_cores  ...  px_height  px_width   ram  sc_h  sc_w  \\\n",
       "0      0.6        188        2  ...         20       756  2549     9     7   \n",
       "1      0.9        145        5  ...       1263      1716  2603    11     2   \n",
       "2      0.1        182        5  ...        248       874  3946     5     2   \n",
       "3      0.7        159        2  ...        862      1864   568    17    15   \n",
       "4      0.1        121        3  ...        441       810  3752    10     2   \n",
       "..     ...        ...      ...  ...        ...       ...   ...   ...   ...   \n",
       "595    0.4        114        1  ...        347       957  1620     9     2   \n",
       "596    0.8        113        8  ...          4       743  3579    19     8   \n",
       "597    0.2        198        3  ...        576      1809  1180     6     3   \n",
       "598    0.2        187        4  ...        915      1965  2032    11    10   \n",
       "599    0.9        168        6  ...        483       754  3919    19     4   \n",
       "\n",
       "     talk_time  three_g  touch_screen  wifi  price_range  \n",
       "0           19        0             0     1            1  \n",
       "1            9        1             1     0            2  \n",
       "2            7        0             0     0            3  \n",
       "3           11        1             1     1            0  \n",
       "4           18        1             1     0            3  \n",
       "..         ...      ...           ...   ...          ...  \n",
       "595         19        0             1     1            1  \n",
       "596         20        1             1     0            3  \n",
       "597          4        1             1     1            0  \n",
       "598         16        1             1     1            2  \n",
       "599          2        1             1     1            3  \n",
       "\n",
       "[600 rows x 21 columns]"
      ]
     },
     "execution_count": 3,
     "metadata": {},
     "output_type": "execute_result"
    }
   ],
   "source": [
    "validation_df = pd.read_csv(\"/kaggle/input/data-komputer-if3170/data_validation.csv\")\n",
    "validation_df"
   ]
  },
  {
   "cell_type": "code",
   "execution_count": 4,
   "id": "2ae03fc4",
   "metadata": {
    "execution": {
     "iopub.execute_input": "2023-11-25T10:27:32.205190Z",
     "iopub.status.busy": "2023-11-25T10:27:32.204814Z",
     "iopub.status.idle": "2023-11-25T10:27:32.238802Z",
     "shell.execute_reply": "2023-11-25T10:27:32.237680Z"
    },
    "papermill": {
     "duration": 0.054473,
     "end_time": "2023-11-25T10:27:32.240913",
     "exception": false,
     "start_time": "2023-11-25T10:27:32.186440",
     "status": "completed"
    },
    "tags": []
   },
   "outputs": [
    {
     "data": {
      "text/html": [
       "<div>\n",
       "<style scoped>\n",
       "    .dataframe tbody tr th:only-of-type {\n",
       "        vertical-align: middle;\n",
       "    }\n",
       "\n",
       "    .dataframe tbody tr th {\n",
       "        vertical-align: top;\n",
       "    }\n",
       "\n",
       "    .dataframe thead th {\n",
       "        text-align: right;\n",
       "    }\n",
       "</style>\n",
       "<table border=\"1\" class=\"dataframe\">\n",
       "  <thead>\n",
       "    <tr style=\"text-align: right;\">\n",
       "      <th></th>\n",
       "      <th>id</th>\n",
       "      <th>battery_power</th>\n",
       "      <th>blue</th>\n",
       "      <th>clock_speed</th>\n",
       "      <th>dual_sim</th>\n",
       "      <th>fc</th>\n",
       "      <th>four_g</th>\n",
       "      <th>int_memory</th>\n",
       "      <th>m_dep</th>\n",
       "      <th>mobile_wt</th>\n",
       "      <th>...</th>\n",
       "      <th>pc</th>\n",
       "      <th>px_height</th>\n",
       "      <th>px_width</th>\n",
       "      <th>ram</th>\n",
       "      <th>sc_h</th>\n",
       "      <th>sc_w</th>\n",
       "      <th>talk_time</th>\n",
       "      <th>three_g</th>\n",
       "      <th>touch_screen</th>\n",
       "      <th>wifi</th>\n",
       "    </tr>\n",
       "  </thead>\n",
       "  <tbody>\n",
       "    <tr>\n",
       "      <th>0</th>\n",
       "      <td>0</td>\n",
       "      <td>1076</td>\n",
       "      <td>1</td>\n",
       "      <td>2.2</td>\n",
       "      <td>0</td>\n",
       "      <td>3</td>\n",
       "      <td>1</td>\n",
       "      <td>53</td>\n",
       "      <td>0.1</td>\n",
       "      <td>114</td>\n",
       "      <td>...</td>\n",
       "      <td>6</td>\n",
       "      <td>127</td>\n",
       "      <td>1314</td>\n",
       "      <td>1003</td>\n",
       "      <td>16</td>\n",
       "      <td>9</td>\n",
       "      <td>10</td>\n",
       "      <td>1</td>\n",
       "      <td>0</td>\n",
       "      <td>0</td>\n",
       "    </tr>\n",
       "    <tr>\n",
       "      <th>1</th>\n",
       "      <td>1</td>\n",
       "      <td>1310</td>\n",
       "      <td>0</td>\n",
       "      <td>2.4</td>\n",
       "      <td>0</td>\n",
       "      <td>0</td>\n",
       "      <td>0</td>\n",
       "      <td>40</td>\n",
       "      <td>0.5</td>\n",
       "      <td>118</td>\n",
       "      <td>...</td>\n",
       "      <td>0</td>\n",
       "      <td>1499</td>\n",
       "      <td>1687</td>\n",
       "      <td>3348</td>\n",
       "      <td>9</td>\n",
       "      <td>2</td>\n",
       "      <td>13</td>\n",
       "      <td>0</td>\n",
       "      <td>0</td>\n",
       "      <td>1</td>\n",
       "    </tr>\n",
       "    <tr>\n",
       "      <th>2</th>\n",
       "      <td>2</td>\n",
       "      <td>1915</td>\n",
       "      <td>0</td>\n",
       "      <td>1.1</td>\n",
       "      <td>0</td>\n",
       "      <td>6</td>\n",
       "      <td>0</td>\n",
       "      <td>30</td>\n",
       "      <td>0.6</td>\n",
       "      <td>181</td>\n",
       "      <td>...</td>\n",
       "      <td>8</td>\n",
       "      <td>266</td>\n",
       "      <td>1754</td>\n",
       "      <td>3815</td>\n",
       "      <td>13</td>\n",
       "      <td>4</td>\n",
       "      <td>7</td>\n",
       "      <td>0</td>\n",
       "      <td>0</td>\n",
       "      <td>0</td>\n",
       "    </tr>\n",
       "    <tr>\n",
       "      <th>3</th>\n",
       "      <td>3</td>\n",
       "      <td>587</td>\n",
       "      <td>0</td>\n",
       "      <td>1.4</td>\n",
       "      <td>0</td>\n",
       "      <td>9</td>\n",
       "      <td>1</td>\n",
       "      <td>8</td>\n",
       "      <td>0.5</td>\n",
       "      <td>142</td>\n",
       "      <td>...</td>\n",
       "      <td>13</td>\n",
       "      <td>128</td>\n",
       "      <td>593</td>\n",
       "      <td>3182</td>\n",
       "      <td>9</td>\n",
       "      <td>7</td>\n",
       "      <td>10</td>\n",
       "      <td>1</td>\n",
       "      <td>0</td>\n",
       "      <td>0</td>\n",
       "    </tr>\n",
       "    <tr>\n",
       "      <th>4</th>\n",
       "      <td>4</td>\n",
       "      <td>1526</td>\n",
       "      <td>0</td>\n",
       "      <td>1.8</td>\n",
       "      <td>0</td>\n",
       "      <td>5</td>\n",
       "      <td>1</td>\n",
       "      <td>11</td>\n",
       "      <td>0.1</td>\n",
       "      <td>131</td>\n",
       "      <td>...</td>\n",
       "      <td>7</td>\n",
       "      <td>150</td>\n",
       "      <td>1606</td>\n",
       "      <td>706</td>\n",
       "      <td>18</td>\n",
       "      <td>7</td>\n",
       "      <td>18</td>\n",
       "      <td>1</td>\n",
       "      <td>1</td>\n",
       "      <td>0</td>\n",
       "    </tr>\n",
       "    <tr>\n",
       "      <th>...</th>\n",
       "      <td>...</td>\n",
       "      <td>...</td>\n",
       "      <td>...</td>\n",
       "      <td>...</td>\n",
       "      <td>...</td>\n",
       "      <td>...</td>\n",
       "      <td>...</td>\n",
       "      <td>...</td>\n",
       "      <td>...</td>\n",
       "      <td>...</td>\n",
       "      <td>...</td>\n",
       "      <td>...</td>\n",
       "      <td>...</td>\n",
       "      <td>...</td>\n",
       "      <td>...</td>\n",
       "      <td>...</td>\n",
       "      <td>...</td>\n",
       "      <td>...</td>\n",
       "      <td>...</td>\n",
       "      <td>...</td>\n",
       "      <td>...</td>\n",
       "    </tr>\n",
       "    <tr>\n",
       "      <th>1995</th>\n",
       "      <td>1995</td>\n",
       "      <td>1841</td>\n",
       "      <td>0</td>\n",
       "      <td>0.9</td>\n",
       "      <td>0</td>\n",
       "      <td>0</td>\n",
       "      <td>1</td>\n",
       "      <td>13</td>\n",
       "      <td>0.6</td>\n",
       "      <td>112</td>\n",
       "      <td>...</td>\n",
       "      <td>3</td>\n",
       "      <td>1311</td>\n",
       "      <td>1679</td>\n",
       "      <td>1645</td>\n",
       "      <td>15</td>\n",
       "      <td>9</td>\n",
       "      <td>12</td>\n",
       "      <td>1</td>\n",
       "      <td>1</td>\n",
       "      <td>1</td>\n",
       "    </tr>\n",
       "    <tr>\n",
       "      <th>1996</th>\n",
       "      <td>1996</td>\n",
       "      <td>1064</td>\n",
       "      <td>1</td>\n",
       "      <td>1.8</td>\n",
       "      <td>1</td>\n",
       "      <td>0</td>\n",
       "      <td>0</td>\n",
       "      <td>12</td>\n",
       "      <td>0.3</td>\n",
       "      <td>147</td>\n",
       "      <td>...</td>\n",
       "      <td>5</td>\n",
       "      <td>105</td>\n",
       "      <td>717</td>\n",
       "      <td>1509</td>\n",
       "      <td>16</td>\n",
       "      <td>10</td>\n",
       "      <td>14</td>\n",
       "      <td>0</td>\n",
       "      <td>0</td>\n",
       "      <td>0</td>\n",
       "    </tr>\n",
       "    <tr>\n",
       "      <th>1997</th>\n",
       "      <td>1997</td>\n",
       "      <td>1448</td>\n",
       "      <td>0</td>\n",
       "      <td>1.4</td>\n",
       "      <td>1</td>\n",
       "      <td>0</td>\n",
       "      <td>0</td>\n",
       "      <td>22</td>\n",
       "      <td>0.2</td>\n",
       "      <td>142</td>\n",
       "      <td>...</td>\n",
       "      <td>5</td>\n",
       "      <td>345</td>\n",
       "      <td>652</td>\n",
       "      <td>3807</td>\n",
       "      <td>11</td>\n",
       "      <td>7</td>\n",
       "      <td>9</td>\n",
       "      <td>0</td>\n",
       "      <td>0</td>\n",
       "      <td>0</td>\n",
       "    </tr>\n",
       "    <tr>\n",
       "      <th>1998</th>\n",
       "      <td>1998</td>\n",
       "      <td>1085</td>\n",
       "      <td>0</td>\n",
       "      <td>2.4</td>\n",
       "      <td>0</td>\n",
       "      <td>3</td>\n",
       "      <td>1</td>\n",
       "      <td>38</td>\n",
       "      <td>0.7</td>\n",
       "      <td>116</td>\n",
       "      <td>...</td>\n",
       "      <td>8</td>\n",
       "      <td>121</td>\n",
       "      <td>905</td>\n",
       "      <td>885</td>\n",
       "      <td>18</td>\n",
       "      <td>4</td>\n",
       "      <td>8</td>\n",
       "      <td>1</td>\n",
       "      <td>0</td>\n",
       "      <td>0</td>\n",
       "    </tr>\n",
       "    <tr>\n",
       "      <th>1999</th>\n",
       "      <td>1999</td>\n",
       "      <td>1689</td>\n",
       "      <td>0</td>\n",
       "      <td>1.1</td>\n",
       "      <td>0</td>\n",
       "      <td>2</td>\n",
       "      <td>0</td>\n",
       "      <td>25</td>\n",
       "      <td>0.3</td>\n",
       "      <td>105</td>\n",
       "      <td>...</td>\n",
       "      <td>4</td>\n",
       "      <td>248</td>\n",
       "      <td>1342</td>\n",
       "      <td>3726</td>\n",
       "      <td>15</td>\n",
       "      <td>7</td>\n",
       "      <td>9</td>\n",
       "      <td>1</td>\n",
       "      <td>0</td>\n",
       "      <td>0</td>\n",
       "    </tr>\n",
       "  </tbody>\n",
       "</table>\n",
       "<p>2000 rows × 21 columns</p>\n",
       "</div>"
      ],
      "text/plain": [
       "        id  battery_power  blue  clock_speed  dual_sim  fc  four_g  \\\n",
       "0        0           1076     1          2.2         0   3       1   \n",
       "1        1           1310     0          2.4         0   0       0   \n",
       "2        2           1915     0          1.1         0   6       0   \n",
       "3        3            587     0          1.4         0   9       1   \n",
       "4        4           1526     0          1.8         0   5       1   \n",
       "...    ...            ...   ...          ...       ...  ..     ...   \n",
       "1995  1995           1841     0          0.9         0   0       1   \n",
       "1996  1996           1064     1          1.8         1   0       0   \n",
       "1997  1997           1448     0          1.4         1   0       0   \n",
       "1998  1998           1085     0          2.4         0   3       1   \n",
       "1999  1999           1689     0          1.1         0   2       0   \n",
       "\n",
       "      int_memory  m_dep  mobile_wt  ...  pc  px_height  px_width   ram  sc_h  \\\n",
       "0             53    0.1        114  ...   6        127      1314  1003    16   \n",
       "1             40    0.5        118  ...   0       1499      1687  3348     9   \n",
       "2             30    0.6        181  ...   8        266      1754  3815    13   \n",
       "3              8    0.5        142  ...  13        128       593  3182     9   \n",
       "4             11    0.1        131  ...   7        150      1606   706    18   \n",
       "...          ...    ...        ...  ...  ..        ...       ...   ...   ...   \n",
       "1995          13    0.6        112  ...   3       1311      1679  1645    15   \n",
       "1996          12    0.3        147  ...   5        105       717  1509    16   \n",
       "1997          22    0.2        142  ...   5        345       652  3807    11   \n",
       "1998          38    0.7        116  ...   8        121       905   885    18   \n",
       "1999          25    0.3        105  ...   4        248      1342  3726    15   \n",
       "\n",
       "      sc_w  talk_time  three_g  touch_screen  wifi  \n",
       "0        9         10        1             0     0  \n",
       "1        2         13        0             0     1  \n",
       "2        4          7        0             0     0  \n",
       "3        7         10        1             0     0  \n",
       "4        7         18        1             1     0  \n",
       "...    ...        ...      ...           ...   ...  \n",
       "1995     9         12        1             1     1  \n",
       "1996    10         14        0             0     0  \n",
       "1997     7          9        0             0     0  \n",
       "1998     4          8        1             0     0  \n",
       "1999     7          9        1             0     0  \n",
       "\n",
       "[2000 rows x 21 columns]"
      ]
     },
     "execution_count": 4,
     "metadata": {},
     "output_type": "execute_result"
    }
   ],
   "source": [
    "test_df = pd.read_csv(\"/kaggle/input/data-komputer-if3170/test.csv\")\n",
    "test_df"
   ]
  },
  {
   "cell_type": "code",
   "execution_count": 5,
   "id": "5a1e8de5",
   "metadata": {
    "execution": {
     "iopub.execute_input": "2023-11-25T10:27:32.277978Z",
     "iopub.status.busy": "2023-11-25T10:27:32.277345Z",
     "iopub.status.idle": "2023-11-25T10:27:32.282140Z",
     "shell.execute_reply": "2023-11-25T10:27:32.281352Z"
    },
    "papermill": {
     "duration": 0.025694,
     "end_time": "2023-11-25T10:27:32.284197",
     "exception": false,
     "start_time": "2023-11-25T10:27:32.258503",
     "status": "completed"
    },
    "tags": []
   },
   "outputs": [],
   "source": [
    "remove_col = ['fc','clock_speed','m_dep','mobile_wt','n_cores','pc','sc_h','sc_w','talk_time', 'int_memory']"
   ]
  },
  {
   "cell_type": "code",
   "execution_count": 6,
   "id": "2d7867d0",
   "metadata": {
    "execution": {
     "iopub.execute_input": "2023-11-25T10:27:32.320705Z",
     "iopub.status.busy": "2023-11-25T10:27:32.319660Z",
     "iopub.status.idle": "2023-11-25T10:27:32.331324Z",
     "shell.execute_reply": "2023-11-25T10:27:32.330284Z"
    },
    "papermill": {
     "duration": 0.032319,
     "end_time": "2023-11-25T10:27:32.333596",
     "exception": false,
     "start_time": "2023-11-25T10:27:32.301277",
     "status": "completed"
    },
    "tags": []
   },
   "outputs": [
    {
     "data": {
      "text/plain": [
       "['battery_power', 'px_height', 'px_width', 'ram']"
      ]
     },
     "execution_count": 6,
     "metadata": {},
     "output_type": "execute_result"
    }
   ],
   "source": [
    "non_numeric_columns = [\"blue\", \"wifi\", \"touch_screen\", \"three_g\", \"four_g\", \"dual_sim\"]\n",
    "drop_col = non_numeric_columns.copy()\n",
    "drop_col.append(\"price_range\")\n",
    "numeric_columns = train_df.drop(drop_col, axis=1).columns.tolist()\n",
    "# numeric_columns.remove(\"fc\")\n",
    "# numeric_columns.remove(remove_col)\n",
    "for el in remove_col:\n",
    "    numeric_columns.remove(el)\n",
    "    \n",
    "numeric_columns"
   ]
  },
  {
   "cell_type": "markdown",
   "id": "3098e073",
   "metadata": {
    "papermill": {
     "duration": 0.017293,
     "end_time": "2023-11-25T10:27:32.368271",
     "exception": false,
     "start_time": "2023-11-25T10:27:32.350978",
     "status": "completed"
    },
    "tags": []
   },
   "source": [
    "# Data Preprocessing\n",
    "Dari analisis EDA yang dilakukan akan dilakukan data preprocessing untuk melakukan pelatihan model"
   ]
  },
  {
   "cell_type": "markdown",
   "id": "e3189832",
   "metadata": {
    "papermill": {
     "duration": 0.077584,
     "end_time": "2023-11-25T10:27:32.463829",
     "exception": false,
     "start_time": "2023-11-25T10:27:32.386245",
     "status": "completed"
    },
    "tags": []
   },
   "source": [
    "## Removing Outliers\n",
    "\n",
    "Remove outliers using IQR"
   ]
  },
  {
   "cell_type": "code",
   "execution_count": 7,
   "id": "ccfbe40c",
   "metadata": {
    "execution": {
     "iopub.execute_input": "2023-11-25T10:27:32.501252Z",
     "iopub.status.busy": "2023-11-25T10:27:32.500565Z",
     "iopub.status.idle": "2023-11-25T10:27:32.507950Z",
     "shell.execute_reply": "2023-11-25T10:27:32.507181Z"
    },
    "papermill": {
     "duration": 0.028943,
     "end_time": "2023-11-25T10:27:32.510479",
     "exception": false,
     "start_time": "2023-11-25T10:27:32.481536",
     "status": "completed"
    },
    "tags": []
   },
   "outputs": [],
   "source": [
    "class OutlierRemoval(BaseEstimator, TransformerMixin):\n",
    "    def __init__(self, columns=None):\n",
    "        self.columns = columns\n",
    "        self.lower_bounds = {}\n",
    "        self.upper_bounds = {}\n",
    "        \n",
    "    def fit(self, X, y=None):\n",
    "        if self.columns is None:\n",
    "            self.columns = X.columns\n",
    "\n",
    "        for column in self.columns:\n",
    "            q3 = X[column].quantile(q=0.75)\n",
    "            q1 = X[column].quantile(q=0.25)\n",
    "            IQR = q3 - q1\n",
    "            lower_bound = q1 - 1.5 * IQR\n",
    "            upper_bound = q3 + 1.5 * IQR\n",
    "            \n",
    "            self.lower_bounds[column] = lower_bound\n",
    "            self.upper_bounds[column] = upper_bound\n",
    "        \n",
    "        return self\n",
    "    \n",
    "    def transform(self, X):\n",
    "        for column in self.columns:\n",
    "            X = X[(X[column] >= self.lower_bounds[column]) & (X[column] <= self.upper_bounds[column])]\n",
    "        return X"
   ]
  },
  {
   "cell_type": "markdown",
   "id": "c72ba842",
   "metadata": {
    "papermill": {
     "duration": 0.017343,
     "end_time": "2023-11-25T10:27:32.546612",
     "exception": false,
     "start_time": "2023-11-25T10:27:32.529269",
     "status": "completed"
    },
    "tags": []
   },
   "source": [
    "## Invalid Data Filling\n",
    "\n",
    "Invalid data will be filled with median using interpolation"
   ]
  },
  {
   "cell_type": "code",
   "execution_count": 8,
   "id": "869b57d3",
   "metadata": {
    "execution": {
     "iopub.execute_input": "2023-11-25T10:27:32.584398Z",
     "iopub.status.busy": "2023-11-25T10:27:32.583953Z",
     "iopub.status.idle": "2023-11-25T10:27:32.590069Z",
     "shell.execute_reply": "2023-11-25T10:27:32.589112Z"
    },
    "papermill": {
     "duration": 0.02765,
     "end_time": "2023-11-25T10:27:32.592240",
     "exception": false,
     "start_time": "2023-11-25T10:27:32.564590",
     "status": "completed"
    },
    "tags": []
   },
   "outputs": [],
   "source": [
    "class InvalidReplacement(BaseEstimator, TransformerMixin):\n",
    "    def __init__(self):\n",
    "        return None\n",
    "    \n",
    "    def fit(self, X, y=None):\n",
    "        self.median = X['px_height'].median()\n",
    "        return self\n",
    "    \n",
    "    def transform(self, X):\n",
    "        X_ = X.copy()\n",
    "        X_['px_height'] = X_['px_height'].replace(0, self.median)\n",
    "        return X_"
   ]
  },
  {
   "cell_type": "markdown",
   "id": "31b3d37b",
   "metadata": {
    "papermill": {
     "duration": 0.01706,
     "end_time": "2023-11-25T10:27:32.627719",
     "exception": false,
     "start_time": "2023-11-25T10:27:32.610659",
     "status": "completed"
    },
    "tags": []
   },
   "source": [
    "## Feature Selection\n",
    "Remove fc column because it correlates the highest with pc"
   ]
  },
  {
   "cell_type": "code",
   "execution_count": 9,
   "id": "4bdc6852",
   "metadata": {
    "execution": {
     "iopub.execute_input": "2023-11-25T10:27:32.668867Z",
     "iopub.status.busy": "2023-11-25T10:27:32.667997Z",
     "iopub.status.idle": "2023-11-25T10:27:32.673794Z",
     "shell.execute_reply": "2023-11-25T10:27:32.672830Z"
    },
    "papermill": {
     "duration": 0.031529,
     "end_time": "2023-11-25T10:27:32.676642",
     "exception": false,
     "start_time": "2023-11-25T10:27:32.645113",
     "status": "completed"
    },
    "tags": []
   },
   "outputs": [],
   "source": [
    "class DropColumn(BaseEstimator, TransformerMixin):\n",
    "    def __init__(self, column):\n",
    "        self.column = column\n",
    "        return None\n",
    "    \n",
    "    def fit(self, X, y=None):\n",
    "        return self\n",
    "    \n",
    "    def transform(self, X):\n",
    "        X_ = X.drop(columns = self.column)\n",
    "        return X_"
   ]
  },
  {
   "cell_type": "markdown",
   "id": "dc8a7600",
   "metadata": {
    "papermill": {
     "duration": 0.020054,
     "end_time": "2023-11-25T10:27:32.717927",
     "exception": false,
     "start_time": "2023-11-25T10:27:32.697873",
     "status": "completed"
    },
    "tags": []
   },
   "source": [
    "## Scaling and Normalizing\n",
    "Scale values of numeric columns minus column`fc`"
   ]
  },
  {
   "cell_type": "code",
   "execution_count": 10,
   "id": "d6e3065f",
   "metadata": {
    "execution": {
     "iopub.execute_input": "2023-11-25T10:27:32.768721Z",
     "iopub.status.busy": "2023-11-25T10:27:32.768202Z",
     "iopub.status.idle": "2023-11-25T10:27:32.774960Z",
     "shell.execute_reply": "2023-11-25T10:27:32.773387Z"
    },
    "papermill": {
     "duration": 0.036665,
     "end_time": "2023-11-25T10:27:32.777538",
     "exception": false,
     "start_time": "2023-11-25T10:27:32.740873",
     "status": "completed"
    },
    "tags": []
   },
   "outputs": [],
   "source": [
    "# log transform\n",
    "def log_transform(data):\n",
    "    return np.log1p(data)\n",
    "\n",
    "# square root transform\n",
    "def sqrt_transform(data):\n",
    "    return data**(1/2)"
   ]
  },
  {
   "cell_type": "markdown",
   "id": "9ec3f2a1",
   "metadata": {
    "papermill": {
     "duration": 0.02143,
     "end_time": "2023-11-25T10:27:32.818364",
     "exception": false,
     "start_time": "2023-11-25T10:27:32.796934",
     "status": "completed"
    },
    "tags": []
   },
   "source": [
    "## Screen Area\n",
    "Calculating screen resolution from px_height * px_width"
   ]
  },
  {
   "cell_type": "code",
   "execution_count": 11,
   "id": "d4304cf4",
   "metadata": {
    "execution": {
     "iopub.execute_input": "2023-11-25T10:27:32.855927Z",
     "iopub.status.busy": "2023-11-25T10:27:32.854816Z",
     "iopub.status.idle": "2023-11-25T10:27:32.861345Z",
     "shell.execute_reply": "2023-11-25T10:27:32.860456Z"
    },
    "papermill": {
     "duration": 0.027677,
     "end_time": "2023-11-25T10:27:32.863713",
     "exception": false,
     "start_time": "2023-11-25T10:27:32.836036",
     "status": "completed"
    },
    "tags": []
   },
   "outputs": [],
   "source": [
    "class PixelAreaCalculator(BaseEstimator, TransformerMixin):\n",
    "    def __init__(self):\n",
    "        return None\n",
    "    \n",
    "    def fit(self, X, y = None):\n",
    "        return self\n",
    "    \n",
    "    def transform(self, X):\n",
    "        X_ = X.copy()\n",
    "        X_['px_area'] = X['px_height'] * X['px_width']\n",
    "        return X_"
   ]
  },
  {
   "cell_type": "code",
   "execution_count": 12,
   "id": "004f8110",
   "metadata": {
    "execution": {
     "iopub.execute_input": "2023-11-25T10:27:32.901013Z",
     "iopub.status.busy": "2023-11-25T10:27:32.900622Z",
     "iopub.status.idle": "2023-11-25T10:27:32.905801Z",
     "shell.execute_reply": "2023-11-25T10:27:32.904653Z"
    },
    "papermill": {
     "duration": 0.026675,
     "end_time": "2023-11-25T10:27:32.908031",
     "exception": false,
     "start_time": "2023-11-25T10:27:32.881356",
     "status": "completed"
    },
    "tags": []
   },
   "outputs": [],
   "source": [
    "numericTransformation = ColumnTransformer(\n",
    "    transformers = [\n",
    "#         ('scaling', StandardScaler(), numeric_columns)\n",
    "#         ('normalizing', Normalizer(), ['px_height'])\n",
    "          ('log_transform', FunctionTransformer(log_transform, validate=False), ['battery_power', 'ram', 'px_area'])\n",
    "#         ('sqrt_transform', FunctionTransformer(sqrt_transform, validate=False), ['battery_power','ram', 'px_area']),\n",
    "    ],\n",
    "    remainder = 'passthrough'\n",
    ")"
   ]
  },
  {
   "cell_type": "markdown",
   "id": "9b91edd1",
   "metadata": {
    "papermill": {
     "duration": 0.017427,
     "end_time": "2023-11-25T10:27:32.943984",
     "exception": false,
     "start_time": "2023-11-25T10:27:32.926557",
     "status": "completed"
    },
    "tags": []
   },
   "source": [
    "## Pipeline\n",
    "Pipeline for all preprocessing"
   ]
  },
  {
   "cell_type": "code",
   "execution_count": 13,
   "id": "b202f3dd",
   "metadata": {
    "execution": {
     "iopub.execute_input": "2023-11-25T10:27:32.981796Z",
     "iopub.status.busy": "2023-11-25T10:27:32.981001Z",
     "iopub.status.idle": "2023-11-25T10:27:33.019174Z",
     "shell.execute_reply": "2023-11-25T10:27:33.017741Z"
    },
    "papermill": {
     "duration": 0.059756,
     "end_time": "2023-11-25T10:27:33.021354",
     "exception": false,
     "start_time": "2023-11-25T10:27:32.961598",
     "status": "completed"
    },
    "tags": []
   },
   "outputs": [
    {
     "name": "stdout",
     "output_type": "stream",
     "text": [
      "(1400, 4)\n"
     ]
    },
    {
     "data": {
      "text/html": [
       "<div>\n",
       "<style scoped>\n",
       "    .dataframe tbody tr th:only-of-type {\n",
       "        vertical-align: middle;\n",
       "    }\n",
       "\n",
       "    .dataframe tbody tr th {\n",
       "        vertical-align: top;\n",
       "    }\n",
       "\n",
       "    .dataframe thead th {\n",
       "        text-align: right;\n",
       "    }\n",
       "</style>\n",
       "<table border=\"1\" class=\"dataframe\">\n",
       "  <thead>\n",
       "    <tr style=\"text-align: right;\">\n",
       "      <th></th>\n",
       "      <th>battery_power</th>\n",
       "      <th>ram</th>\n",
       "      <th>px_area</th>\n",
       "      <th>price_range</th>\n",
       "    </tr>\n",
       "  </thead>\n",
       "  <tbody>\n",
       "    <tr>\n",
       "      <th>0</th>\n",
       "      <td>6.690842</td>\n",
       "      <td>7.614805</td>\n",
       "      <td>13.270720</td>\n",
       "      <td>1.0</td>\n",
       "    </tr>\n",
       "    <tr>\n",
       "      <th>1</th>\n",
       "      <td>6.949856</td>\n",
       "      <td>7.946971</td>\n",
       "      <td>11.145117</td>\n",
       "      <td>2.0</td>\n",
       "    </tr>\n",
       "    <tr>\n",
       "      <th>2</th>\n",
       "      <td>7.301148</td>\n",
       "      <td>7.877018</td>\n",
       "      <td>11.775128</td>\n",
       "      <td>2.0</td>\n",
       "    </tr>\n",
       "    <tr>\n",
       "      <th>3</th>\n",
       "      <td>7.007601</td>\n",
       "      <td>7.114769</td>\n",
       "      <td>13.735049</td>\n",
       "      <td>0.0</td>\n",
       "    </tr>\n",
       "    <tr>\n",
       "      <th>4</th>\n",
       "      <td>6.481577</td>\n",
       "      <td>6.338594</td>\n",
       "      <td>12.800462</td>\n",
       "      <td>0.0</td>\n",
       "    </tr>\n",
       "    <tr>\n",
       "      <th>...</th>\n",
       "      <td>...</td>\n",
       "      <td>...</td>\n",
       "      <td>...</td>\n",
       "      <td>...</td>\n",
       "    </tr>\n",
       "    <tr>\n",
       "      <th>1395</th>\n",
       "      <td>6.285998</td>\n",
       "      <td>7.100027</td>\n",
       "      <td>12.862649</td>\n",
       "      <td>0.0</td>\n",
       "    </tr>\n",
       "    <tr>\n",
       "      <th>1396</th>\n",
       "      <td>7.001246</td>\n",
       "      <td>7.705262</td>\n",
       "      <td>14.361610</td>\n",
       "      <td>2.0</td>\n",
       "    </tr>\n",
       "    <tr>\n",
       "      <th>1397</th>\n",
       "      <td>7.073270</td>\n",
       "      <td>5.831882</td>\n",
       "      <td>11.722668</td>\n",
       "      <td>0.0</td>\n",
       "    </tr>\n",
       "    <tr>\n",
       "      <th>1398</th>\n",
       "      <td>6.579251</td>\n",
       "      <td>8.291797</td>\n",
       "      <td>13.520251</td>\n",
       "      <td>3.0</td>\n",
       "    </tr>\n",
       "    <tr>\n",
       "      <th>1399</th>\n",
       "      <td>7.272398</td>\n",
       "      <td>7.490529</td>\n",
       "      <td>13.276685</td>\n",
       "      <td>1.0</td>\n",
       "    </tr>\n",
       "  </tbody>\n",
       "</table>\n",
       "<p>1400 rows × 4 columns</p>\n",
       "</div>"
      ],
      "text/plain": [
       "      battery_power       ram    px_area  price_range\n",
       "0          6.690842  7.614805  13.270720          1.0\n",
       "1          6.949856  7.946971  11.145117          2.0\n",
       "2          7.301148  7.877018  11.775128          2.0\n",
       "3          7.007601  7.114769  13.735049          0.0\n",
       "4          6.481577  6.338594  12.800462          0.0\n",
       "...             ...       ...        ...          ...\n",
       "1395       6.285998  7.100027  12.862649          0.0\n",
       "1396       7.001246  7.705262  14.361610          2.0\n",
       "1397       7.073270  5.831882  11.722668          0.0\n",
       "1398       6.579251  8.291797  13.520251          3.0\n",
       "1399       7.272398  7.490529  13.276685          1.0\n",
       "\n",
       "[1400 rows x 4 columns]"
      ]
     },
     "execution_count": 13,
     "metadata": {},
     "output_type": "execute_result"
    }
   ],
   "source": [
    "pipeline = Pipeline([\n",
    "    ('removing outliers', OutlierRemoval(columns=numeric_columns)),\n",
    "    ('invalid data replacement', InvalidReplacement()),\n",
    "    ('pixel area calculation', PixelAreaCalculator()),\n",
    "    ('feature selection', DropColumn(['px_height', 'px_width'] + non_numeric_columns + remove_col))\n",
    "])\n",
    "\n",
    "full_pipeline = Pipeline([\n",
    "    ('preprocessor', pipeline),\n",
    "    ('scaling', numericTransformation)\n",
    "])\n",
    "\n",
    "transformed_column_names = ['battery_power', 'ram', 'px_area','price_range']\n",
    "processed_data = full_pipeline.fit_transform(train_df)\n",
    "print(processed_data.shape)\n",
    "processed_df = processed_data.copy()\n",
    "processed_df = pd.DataFrame(processed_data, columns = transformed_column_names)\n",
    "processed_df"
   ]
  },
  {
   "cell_type": "code",
   "execution_count": 14,
   "id": "0af00df4",
   "metadata": {
    "execution": {
     "iopub.execute_input": "2023-11-25T10:27:33.059383Z",
     "iopub.status.busy": "2023-11-25T10:27:33.058545Z",
     "iopub.status.idle": "2023-11-25T10:27:35.890277Z",
     "shell.execute_reply": "2023-11-25T10:27:35.889482Z"
    },
    "papermill": {
     "duration": 2.85332,
     "end_time": "2023-11-25T10:27:35.892700",
     "exception": false,
     "start_time": "2023-11-25T10:27:33.039380",
     "status": "completed"
    },
    "tags": []
   },
   "outputs": [
    {
     "data": {
      "image/png": "[encoded data removed]",
      "text/plain": [
       "<Figure size 1000x1000 with 15 Axes>"
      ]
     },
     "metadata": {},
     "output_type": "display_data"
    }
   ],
   "source": [
    "fig, ax = plt.subplots(5, 3, figsize = (10,10))\n",
    "\n",
    "for i, col in enumerate(processed_df.columns):\n",
    "    r = i // 3\n",
    "    c = i % 3\n",
    "    \n",
    "    sns.histplot(kde=True,data=processed_df[col], ax=ax[r,c])    \n",
    "    ax[r, c].set_title(f'Distribution of {col}')\n",
    "    ax[r, c].set_xlabel(col)\n",
    "    ax[r, c].set_ylabel(\"Frequency\")\n",
    "    \n",
    "plt.tight_layout()\n",
    "plt.show()"
   ]
  },
  {
   "cell_type": "markdown",
   "id": "c2cbaa42",
   "metadata": {
    "papermill": {
     "duration": 0.018943,
     "end_time": "2023-11-25T10:27:35.931009",
     "exception": false,
     "start_time": "2023-11-25T10:27:35.912066",
     "status": "completed"
    },
    "tags": []
   },
   "source": [
    "# Split Data"
   ]
  },
  {
   "cell_type": "code",
   "execution_count": 15,
   "id": "1655c113",
   "metadata": {
    "execution": {
     "iopub.execute_input": "2023-11-25T10:27:35.972212Z",
     "iopub.status.busy": "2023-11-25T10:27:35.970829Z",
     "iopub.status.idle": "2023-11-25T10:27:35.977524Z",
     "shell.execute_reply": "2023-11-25T10:27:35.976403Z"
    },
    "papermill": {
     "duration": 0.029664,
     "end_time": "2023-11-25T10:27:35.979858",
     "exception": false,
     "start_time": "2023-11-25T10:27:35.950194",
     "status": "completed"
    },
    "tags": []
   },
   "outputs": [],
   "source": [
    "y_train = processed_df['price_range']\n",
    "X_train = processed_df.drop(columns=['price_range'])"
   ]
  },
  {
   "cell_type": "code",
   "execution_count": 16,
   "id": "bfbef1ba",
   "metadata": {
    "execution": {
     "iopub.execute_input": "2023-11-25T10:27:36.021391Z",
     "iopub.status.busy": "2023-11-25T10:27:36.020444Z",
     "iopub.status.idle": "2023-11-25T10:27:36.028628Z",
     "shell.execute_reply": "2023-11-25T10:27:36.027604Z"
    },
    "papermill": {
     "duration": 0.03145,
     "end_time": "2023-11-25T10:27:36.030819",
     "exception": false,
     "start_time": "2023-11-25T10:27:35.999369",
     "status": "completed"
    },
    "tags": []
   },
   "outputs": [
    {
     "data": {
      "text/plain": [
       "['battery_power', 'ram', 'px_area', 'price_range']"
      ]
     },
     "execution_count": 16,
     "metadata": {},
     "output_type": "execute_result"
    }
   ],
   "source": [
    "transformed_column_names"
   ]
  },
  {
   "cell_type": "code",
   "execution_count": 17,
   "id": "ca09424f",
   "metadata": {
    "execution": {
     "iopub.execute_input": "2023-11-25T10:27:36.072248Z",
     "iopub.status.busy": "2023-11-25T10:27:36.071441Z",
     "iopub.status.idle": "2023-11-25T10:27:36.100865Z",
     "shell.execute_reply": "2023-11-25T10:27:36.099792Z"
    },
    "papermill": {
     "duration": 0.052526,
     "end_time": "2023-11-25T10:27:36.103114",
     "exception": false,
     "start_time": "2023-11-25T10:27:36.050588",
     "status": "completed"
    },
    "tags": []
   },
   "outputs": [
    {
     "data": {
      "text/html": [
       "<div>\n",
       "<style scoped>\n",
       "    .dataframe tbody tr th:only-of-type {\n",
       "        vertical-align: middle;\n",
       "    }\n",
       "\n",
       "    .dataframe tbody tr th {\n",
       "        vertical-align: top;\n",
       "    }\n",
       "\n",
       "    .dataframe thead th {\n",
       "        text-align: right;\n",
       "    }\n",
       "</style>\n",
       "<table border=\"1\" class=\"dataframe\">\n",
       "  <thead>\n",
       "    <tr style=\"text-align: right;\">\n",
       "      <th></th>\n",
       "      <th>battery_power</th>\n",
       "      <th>ram</th>\n",
       "      <th>px_area</th>\n",
       "    </tr>\n",
       "  </thead>\n",
       "  <tbody>\n",
       "    <tr>\n",
       "      <th>0</th>\n",
       "      <td>6.690842</td>\n",
       "      <td>7.614805</td>\n",
       "      <td>13.270720</td>\n",
       "    </tr>\n",
       "    <tr>\n",
       "      <th>1</th>\n",
       "      <td>6.949856</td>\n",
       "      <td>7.946971</td>\n",
       "      <td>11.145117</td>\n",
       "    </tr>\n",
       "    <tr>\n",
       "      <th>2</th>\n",
       "      <td>7.301148</td>\n",
       "      <td>7.877018</td>\n",
       "      <td>11.775128</td>\n",
       "    </tr>\n",
       "    <tr>\n",
       "      <th>3</th>\n",
       "      <td>7.007601</td>\n",
       "      <td>7.114769</td>\n",
       "      <td>13.735049</td>\n",
       "    </tr>\n",
       "    <tr>\n",
       "      <th>4</th>\n",
       "      <td>6.481577</td>\n",
       "      <td>6.338594</td>\n",
       "      <td>12.800462</td>\n",
       "    </tr>\n",
       "    <tr>\n",
       "      <th>...</th>\n",
       "      <td>...</td>\n",
       "      <td>...</td>\n",
       "      <td>...</td>\n",
       "    </tr>\n",
       "    <tr>\n",
       "      <th>1395</th>\n",
       "      <td>6.285998</td>\n",
       "      <td>7.100027</td>\n",
       "      <td>12.862649</td>\n",
       "    </tr>\n",
       "    <tr>\n",
       "      <th>1396</th>\n",
       "      <td>7.001246</td>\n",
       "      <td>7.705262</td>\n",
       "      <td>14.361610</td>\n",
       "    </tr>\n",
       "    <tr>\n",
       "      <th>1397</th>\n",
       "      <td>7.073270</td>\n",
       "      <td>5.831882</td>\n",
       "      <td>11.722668</td>\n",
       "    </tr>\n",
       "    <tr>\n",
       "      <th>1398</th>\n",
       "      <td>6.579251</td>\n",
       "      <td>8.291797</td>\n",
       "      <td>13.520251</td>\n",
       "    </tr>\n",
       "    <tr>\n",
       "      <th>1399</th>\n",
       "      <td>7.272398</td>\n",
       "      <td>7.490529</td>\n",
       "      <td>13.276685</td>\n",
       "    </tr>\n",
       "  </tbody>\n",
       "</table>\n",
       "<p>1400 rows × 3 columns</p>\n",
       "</div>"
      ],
      "text/plain": [
       "      battery_power       ram    px_area\n",
       "0          6.690842  7.614805  13.270720\n",
       "1          6.949856  7.946971  11.145117\n",
       "2          7.301148  7.877018  11.775128\n",
       "3          7.007601  7.114769  13.735049\n",
       "4          6.481577  6.338594  12.800462\n",
       "...             ...       ...        ...\n",
       "1395       6.285998  7.100027  12.862649\n",
       "1396       7.001246  7.705262  14.361610\n",
       "1397       7.073270  5.831882  11.722668\n",
       "1398       6.579251  8.291797  13.520251\n",
       "1399       7.272398  7.490529  13.276685\n",
       "\n",
       "[1400 rows x 3 columns]"
      ]
     },
     "execution_count": 17,
     "metadata": {},
     "output_type": "execute_result"
    }
   ],
   "source": [
    "# scaling_test = numericTransformation.fit_transform(validation_df.drop(columns=\"fc\"))\n",
    "\n",
    "# transformed_column_names = numeric_columns + [col for col in train_df.columns if col not in numeric_columns and col != 'fc']\n",
    "\n",
    "# scaled_test = pd.DataFrame(scaling_test, columns = transformed_column_names)\n",
    "\n",
    "validation_tf = full_pipeline.fit_transform(train_df)\n",
    "processed_tf_df = pd.DataFrame(validation_tf, columns = transformed_column_names)\n",
    "y_val = processed_tf_df['price_range']\n",
    "X_val = processed_tf_df.drop(columns=[\"price_range\"])\n",
    "X_val"
   ]
  },
  {
   "cell_type": "code",
   "execution_count": 18,
   "id": "202d8906",
   "metadata": {
    "execution": {
     "iopub.execute_input": "2023-11-25T10:27:36.145423Z",
     "iopub.status.busy": "2023-11-25T10:27:36.144703Z",
     "iopub.status.idle": "2023-11-25T10:27:36.149353Z",
     "shell.execute_reply": "2023-11-25T10:27:36.148545Z"
    },
    "papermill": {
     "duration": 0.028318,
     "end_time": "2023-11-25T10:27:36.151513",
     "exception": false,
     "start_time": "2023-11-25T10:27:36.123195",
     "status": "completed"
    },
    "tags": []
   },
   "outputs": [],
   "source": [
    "def display_scores(scores):\n",
    "    print(\"Scores:\", scores)\n",
    "    print(\"Mean:\", scores.mean())\n",
    "    print(\"Standard deviation:\", scores.std())"
   ]
  },
  {
   "cell_type": "markdown",
   "id": "4302bd4a",
   "metadata": {
    "papermill": {
     "duration": 0.019877,
     "end_time": "2023-11-25T10:27:36.191166",
     "exception": false,
     "start_time": "2023-11-25T10:27:36.171289",
     "status": "completed"
    },
    "tags": []
   },
   "source": [
    "## Using KNN by melihatA"
   ]
  },
  {
   "cell_type": "markdown",
   "id": "e492715f",
   "metadata": {
    "papermill": {
     "duration": 0.019409,
     "end_time": "2023-11-25T10:27:36.230300",
     "exception": false,
     "start_time": "2023-11-25T10:27:36.210891",
     "status": "completed"
    },
    "tags": []
   },
   "source": [
    "### Modelling"
   ]
  },
  {
   "cell_type": "code",
   "execution_count": 19,
   "id": "8a36d785",
   "metadata": {
    "execution": {
     "iopub.execute_input": "2023-11-25T10:27:36.272209Z",
     "iopub.status.busy": "2023-11-25T10:27:36.271133Z",
     "iopub.status.idle": "2023-11-25T10:27:36.282693Z",
     "shell.execute_reply": "2023-11-25T10:27:36.281608Z"
    },
    "papermill": {
     "duration": 0.035096,
     "end_time": "2023-11-25T10:27:36.285031",
     "exception": false,
     "start_time": "2023-11-25T10:27:36.249935",
     "status": "completed"
    },
    "tags": []
   },
   "outputs": [],
   "source": [
    "import numpy as np\n",
    "class KNN_Model():\n",
    "    # Constructor\n",
    "    # Define the number of neighbors to use in prediction\n",
    "    # Default neighbors = 5\n",
    "    def __init__(self, k=3, dist=1):\n",
    "        self.k = k\n",
    "        self.dist = dist\n",
    "    \n",
    "    # Fit Method\n",
    "    # Fit the training dataset to the model\n",
    "    # X are the features, Y is the target\n",
    "    def fit(self, X, y):\n",
    "        self.features = X.columns\n",
    "        self.X_train = X.to_numpy()\n",
    "        self.y_train = y.to_numpy()\n",
    "    \n",
    "    # Predict Method\n",
    "    # Prediction using KNN Algorithm\n",
    "    # X is the data to be predicted\n",
    "    # Return Predicted Data\n",
    "    def __predict(self, X):\n",
    "        if (self.dist == 1):\n",
    "            distances = [self.__euclidean_distance(X, train) for train in self.X_train]\n",
    "        else:\n",
    "            # other distance e.g. : Manhattan\n",
    "            distances = [self.__manhattan_distance(X, train) for train in self.X_train]\n",
    "        k_indices = np.argsort(distances)[:self.k]\n",
    "        k_nearest_labels = [self.y_train[i] for i in k_indices]\n",
    "        most_common = np.bincount(k_nearest_labels)\n",
    "        return np.argmax(most_common)\n",
    "    \n",
    "    def predict(self, X):\n",
    "        X_ = X.to_numpy()\n",
    "        result = [self.__predict(test) for test in X_]\n",
    "        return np.array(result)\n",
    "    \n",
    "    # Distance Method for KNN\n",
    "    def __euclidean_distance(self,p1,p2):\n",
    "        p1_numeric = np.array(p1, dtype=float)\n",
    "        p2_numeric = np.array(p2, dtype=float)\n",
    "        return np.sqrt(np.sum((p1_numeric - p2_numeric) ** 2))\n",
    "    \n",
    "    def __manhattan_distance(self, p1, p2):\n",
    "        p1_numeric = np.array(p1, dtype=float)\n",
    "        p2_numeric = np.array(p2, dtype=float)\n",
    "        return np.abs(p1_numeric - p2_numeric)"
   ]
  },
  {
   "cell_type": "code",
   "execution_count": 20,
   "id": "2aa11f4a",
   "metadata": {
    "execution": {
     "iopub.execute_input": "2023-11-25T10:27:36.326086Z",
     "iopub.status.busy": "2023-11-25T10:27:36.325679Z",
     "iopub.status.idle": "2023-11-25T10:27:36.330803Z",
     "shell.execute_reply": "2023-11-25T10:27:36.330099Z"
    },
    "papermill": {
     "duration": 0.028071,
     "end_time": "2023-11-25T10:27:36.332734",
     "exception": false,
     "start_time": "2023-11-25T10:27:36.304663",
     "status": "completed"
    },
    "tags": []
   },
   "outputs": [
    {
     "data": {
      "text/plain": [
       "(1400, 3)"
      ]
     },
     "execution_count": 20,
     "metadata": {},
     "output_type": "execute_result"
    }
   ],
   "source": [
    "X_train.shape"
   ]
  },
  {
   "cell_type": "code",
   "execution_count": 21,
   "id": "02cdcf1e",
   "metadata": {
    "execution": {
     "iopub.execute_input": "2023-11-25T10:27:36.374358Z",
     "iopub.status.busy": "2023-11-25T10:27:36.373570Z",
     "iopub.status.idle": "2023-11-25T10:27:36.378415Z",
     "shell.execute_reply": "2023-11-25T10:27:36.377617Z"
    },
    "papermill": {
     "duration": 0.02799,
     "end_time": "2023-11-25T10:27:36.380442",
     "exception": false,
     "start_time": "2023-11-25T10:27:36.352452",
     "status": "completed"
    },
    "tags": []
   },
   "outputs": [],
   "source": [
    "knn = KNN_Model(k=5)\n",
    "knn.fit(X_train, y_train)"
   ]
  },
  {
   "cell_type": "code",
   "execution_count": 22,
   "id": "0c2b0e6b",
   "metadata": {
    "execution": {
     "iopub.execute_input": "2023-11-25T10:27:36.423184Z",
     "iopub.status.busy": "2023-11-25T10:27:36.421988Z",
     "iopub.status.idle": "2023-11-25T10:27:36.434588Z",
     "shell.execute_reply": "2023-11-25T10:27:36.433738Z"
    },
    "papermill": {
     "duration": 0.036259,
     "end_time": "2023-11-25T10:27:36.436749",
     "exception": false,
     "start_time": "2023-11-25T10:27:36.400490",
     "status": "completed"
    },
    "tags": []
   },
   "outputs": [
    {
     "data": {
      "text/html": [
       "<div>\n",
       "<style scoped>\n",
       "    .dataframe tbody tr th:only-of-type {\n",
       "        vertical-align: middle;\n",
       "    }\n",
       "\n",
       "    .dataframe tbody tr th {\n",
       "        vertical-align: top;\n",
       "    }\n",
       "\n",
       "    .dataframe thead th {\n",
       "        text-align: right;\n",
       "    }\n",
       "</style>\n",
       "<table border=\"1\" class=\"dataframe\">\n",
       "  <thead>\n",
       "    <tr style=\"text-align: right;\">\n",
       "      <th></th>\n",
       "      <th>battery_power</th>\n",
       "      <th>ram</th>\n",
       "      <th>px_area</th>\n",
       "    </tr>\n",
       "  </thead>\n",
       "  <tbody>\n",
       "    <tr>\n",
       "      <th>0</th>\n",
       "      <td>6.690842</td>\n",
       "      <td>7.614805</td>\n",
       "      <td>13.270720</td>\n",
       "    </tr>\n",
       "    <tr>\n",
       "      <th>1</th>\n",
       "      <td>6.949856</td>\n",
       "      <td>7.946971</td>\n",
       "      <td>11.145117</td>\n",
       "    </tr>\n",
       "    <tr>\n",
       "      <th>2</th>\n",
       "      <td>7.301148</td>\n",
       "      <td>7.877018</td>\n",
       "      <td>11.775128</td>\n",
       "    </tr>\n",
       "    <tr>\n",
       "      <th>3</th>\n",
       "      <td>7.007601</td>\n",
       "      <td>7.114769</td>\n",
       "      <td>13.735049</td>\n",
       "    </tr>\n",
       "    <tr>\n",
       "      <th>4</th>\n",
       "      <td>6.481577</td>\n",
       "      <td>6.338594</td>\n",
       "      <td>12.800462</td>\n",
       "    </tr>\n",
       "    <tr>\n",
       "      <th>...</th>\n",
       "      <td>...</td>\n",
       "      <td>...</td>\n",
       "      <td>...</td>\n",
       "    </tr>\n",
       "    <tr>\n",
       "      <th>1395</th>\n",
       "      <td>6.285998</td>\n",
       "      <td>7.100027</td>\n",
       "      <td>12.862649</td>\n",
       "    </tr>\n",
       "    <tr>\n",
       "      <th>1396</th>\n",
       "      <td>7.001246</td>\n",
       "      <td>7.705262</td>\n",
       "      <td>14.361610</td>\n",
       "    </tr>\n",
       "    <tr>\n",
       "      <th>1397</th>\n",
       "      <td>7.073270</td>\n",
       "      <td>5.831882</td>\n",
       "      <td>11.722668</td>\n",
       "    </tr>\n",
       "    <tr>\n",
       "      <th>1398</th>\n",
       "      <td>6.579251</td>\n",
       "      <td>8.291797</td>\n",
       "      <td>13.520251</td>\n",
       "    </tr>\n",
       "    <tr>\n",
       "      <th>1399</th>\n",
       "      <td>7.272398</td>\n",
       "      <td>7.490529</td>\n",
       "      <td>13.276685</td>\n",
       "    </tr>\n",
       "  </tbody>\n",
       "</table>\n",
       "<p>1400 rows × 3 columns</p>\n",
       "</div>"
      ],
      "text/plain": [
       "      battery_power       ram    px_area\n",
       "0          6.690842  7.614805  13.270720\n",
       "1          6.949856  7.946971  11.145117\n",
       "2          7.301148  7.877018  11.775128\n",
       "3          7.007601  7.114769  13.735049\n",
       "4          6.481577  6.338594  12.800462\n",
       "...             ...       ...        ...\n",
       "1395       6.285998  7.100027  12.862649\n",
       "1396       7.001246  7.705262  14.361610\n",
       "1397       7.073270  5.831882  11.722668\n",
       "1398       6.579251  8.291797  13.520251\n",
       "1399       7.272398  7.490529  13.276685\n",
       "\n",
       "[1400 rows x 3 columns]"
      ]
     },
     "execution_count": 22,
     "metadata": {},
     "output_type": "execute_result"
    }
   ],
   "source": [
    "X_val"
   ]
  },
  {
   "cell_type": "code",
   "execution_count": 23,
   "id": "790c683f",
   "metadata": {
    "execution": {
     "iopub.execute_input": "2023-11-25T10:27:36.479224Z",
     "iopub.status.busy": "2023-11-25T10:27:36.478108Z",
     "iopub.status.idle": "2023-11-25T10:27:36.490702Z",
     "shell.execute_reply": "2023-11-25T10:27:36.489601Z"
    },
    "papermill": {
     "duration": 0.036329,
     "end_time": "2023-11-25T10:27:36.493081",
     "exception": false,
     "start_time": "2023-11-25T10:27:36.456752",
     "status": "completed"
    },
    "tags": []
   },
   "outputs": [
    {
     "data": {
      "text/html": [
       "<div>\n",
       "<style scoped>\n",
       "    .dataframe tbody tr th:only-of-type {\n",
       "        vertical-align: middle;\n",
       "    }\n",
       "\n",
       "    .dataframe tbody tr th {\n",
       "        vertical-align: top;\n",
       "    }\n",
       "\n",
       "    .dataframe thead th {\n",
       "        text-align: right;\n",
       "    }\n",
       "</style>\n",
       "<table border=\"1\" class=\"dataframe\">\n",
       "  <thead>\n",
       "    <tr style=\"text-align: right;\">\n",
       "      <th></th>\n",
       "      <th>battery_power</th>\n",
       "      <th>ram</th>\n",
       "      <th>px_area</th>\n",
       "    </tr>\n",
       "  </thead>\n",
       "  <tbody>\n",
       "    <tr>\n",
       "      <th>0</th>\n",
       "      <td>6.690842</td>\n",
       "      <td>7.614805</td>\n",
       "      <td>13.270720</td>\n",
       "    </tr>\n",
       "    <tr>\n",
       "      <th>1</th>\n",
       "      <td>6.949856</td>\n",
       "      <td>7.946971</td>\n",
       "      <td>11.145117</td>\n",
       "    </tr>\n",
       "    <tr>\n",
       "      <th>2</th>\n",
       "      <td>7.301148</td>\n",
       "      <td>7.877018</td>\n",
       "      <td>11.775128</td>\n",
       "    </tr>\n",
       "    <tr>\n",
       "      <th>3</th>\n",
       "      <td>7.007601</td>\n",
       "      <td>7.114769</td>\n",
       "      <td>13.735049</td>\n",
       "    </tr>\n",
       "    <tr>\n",
       "      <th>4</th>\n",
       "      <td>6.481577</td>\n",
       "      <td>6.338594</td>\n",
       "      <td>12.800462</td>\n",
       "    </tr>\n",
       "    <tr>\n",
       "      <th>...</th>\n",
       "      <td>...</td>\n",
       "      <td>...</td>\n",
       "      <td>...</td>\n",
       "    </tr>\n",
       "    <tr>\n",
       "      <th>1395</th>\n",
       "      <td>6.285998</td>\n",
       "      <td>7.100027</td>\n",
       "      <td>12.862649</td>\n",
       "    </tr>\n",
       "    <tr>\n",
       "      <th>1396</th>\n",
       "      <td>7.001246</td>\n",
       "      <td>7.705262</td>\n",
       "      <td>14.361610</td>\n",
       "    </tr>\n",
       "    <tr>\n",
       "      <th>1397</th>\n",
       "      <td>7.073270</td>\n",
       "      <td>5.831882</td>\n",
       "      <td>11.722668</td>\n",
       "    </tr>\n",
       "    <tr>\n",
       "      <th>1398</th>\n",
       "      <td>6.579251</td>\n",
       "      <td>8.291797</td>\n",
       "      <td>13.520251</td>\n",
       "    </tr>\n",
       "    <tr>\n",
       "      <th>1399</th>\n",
       "      <td>7.272398</td>\n",
       "      <td>7.490529</td>\n",
       "      <td>13.276685</td>\n",
       "    </tr>\n",
       "  </tbody>\n",
       "</table>\n",
       "<p>1400 rows × 3 columns</p>\n",
       "</div>"
      ],
      "text/plain": [
       "      battery_power       ram    px_area\n",
       "0          6.690842  7.614805  13.270720\n",
       "1          6.949856  7.946971  11.145117\n",
       "2          7.301148  7.877018  11.775128\n",
       "3          7.007601  7.114769  13.735049\n",
       "4          6.481577  6.338594  12.800462\n",
       "...             ...       ...        ...\n",
       "1395       6.285998  7.100027  12.862649\n",
       "1396       7.001246  7.705262  14.361610\n",
       "1397       7.073270  5.831882  11.722668\n",
       "1398       6.579251  8.291797  13.520251\n",
       "1399       7.272398  7.490529  13.276685\n",
       "\n",
       "[1400 rows x 3 columns]"
      ]
     },
     "execution_count": 23,
     "metadata": {},
     "output_type": "execute_result"
    }
   ],
   "source": [
    "X_train"
   ]
  },
  {
   "cell_type": "markdown",
   "id": "d2e63cb1",
   "metadata": {
    "papermill": {
     "duration": 0.020137,
     "end_time": "2023-11-25T10:27:36.533418",
     "exception": false,
     "start_time": "2023-11-25T10:27:36.513281",
     "status": "completed"
    },
    "tags": []
   },
   "source": [
    "### Prediction"
   ]
  },
  {
   "cell_type": "code",
   "execution_count": 24,
   "id": "0a081b50",
   "metadata": {
    "execution": {
     "iopub.execute_input": "2023-11-25T10:27:36.575705Z",
     "iopub.status.busy": "2023-11-25T10:27:36.575315Z",
     "iopub.status.idle": "2023-11-25T10:27:55.243487Z",
     "shell.execute_reply": "2023-11-25T10:27:55.242360Z"
    },
    "papermill": {
     "duration": 18.692689,
     "end_time": "2023-11-25T10:27:55.246438",
     "exception": false,
     "start_time": "2023-11-25T10:27:36.553749",
     "status": "completed"
    },
    "tags": []
   },
   "outputs": [],
   "source": [
    "y_pred_knn = knn.predict(X_val)"
   ]
  },
  {
   "cell_type": "markdown",
   "id": "3818a9cb",
   "metadata": {
    "papermill": {
     "duration": 0.020013,
     "end_time": "2023-11-25T10:27:55.286825",
     "exception": false,
     "start_time": "2023-11-25T10:27:55.266812",
     "status": "completed"
    },
    "tags": []
   },
   "source": [
    "### Evaluation"
   ]
  },
  {
   "cell_type": "code",
   "execution_count": 25,
   "id": "1c5080a4",
   "metadata": {
    "execution": {
     "iopub.execute_input": "2023-11-25T10:27:55.330225Z",
     "iopub.status.busy": "2023-11-25T10:27:55.329180Z",
     "iopub.status.idle": "2023-11-25T10:27:55.336536Z",
     "shell.execute_reply": "2023-11-25T10:27:55.335089Z"
    },
    "papermill": {
     "duration": 0.031249,
     "end_time": "2023-11-25T10:27:55.338730",
     "exception": false,
     "start_time": "2023-11-25T10:27:55.307481",
     "status": "completed"
    },
    "tags": []
   },
   "outputs": [
    {
     "name": "stdout",
     "output_type": "stream",
     "text": [
      "Accuracy Percentage 93.64\n"
     ]
    }
   ],
   "source": [
    "acc = np.sum(y_val == y_pred_knn)/len(y_val)\n",
    "print(f\"Accuracy Percentage {np.round(acc*100,2)}\")"
   ]
  },
  {
   "cell_type": "code",
   "execution_count": 26,
   "id": "835e692e",
   "metadata": {
    "execution": {
     "iopub.execute_input": "2023-11-25T10:27:55.381496Z",
     "iopub.status.busy": "2023-11-25T10:27:55.381080Z",
     "iopub.status.idle": "2023-11-25T10:27:55.679195Z",
     "shell.execute_reply": "2023-11-25T10:27:55.677952Z"
    },
    "papermill": {
     "duration": 0.322684,
     "end_time": "2023-11-25T10:27:55.681624",
     "exception": false,
     "start_time": "2023-11-25T10:27:55.358940",
     "status": "completed"
    },
    "tags": []
   },
   "outputs": [
    {
     "data": {
      "image/png": "[encoded data removed]",
      "text/plain": [
       "<Figure size 640x480 with 2 Axes>"
      ]
     },
     "metadata": {},
     "output_type": "display_data"
    }
   ],
   "source": [
    "knn_cm = confusion_matrix(y_val, y_pred_knn)\n",
    "disp = ConfusionMatrixDisplay(knn_cm)\n",
    "disp.plot()\n",
    "plt.show()"
   ]
  },
  {
   "cell_type": "code",
   "execution_count": 27,
   "id": "ed05a8fb",
   "metadata": {
    "execution": {
     "iopub.execute_input": "2023-11-25T10:27:55.724978Z",
     "iopub.status.busy": "2023-11-25T10:27:55.724600Z",
     "iopub.status.idle": "2023-11-25T10:27:55.732676Z",
     "shell.execute_reply": "2023-11-25T10:27:55.731568Z"
    },
    "papermill": {
     "duration": 0.032415,
     "end_time": "2023-11-25T10:27:55.734812",
     "exception": false,
     "start_time": "2023-11-25T10:27:55.702397",
     "status": "completed"
    },
    "tags": []
   },
   "outputs": [
    {
     "data": {
      "text/plain": [
       "['/kaggle/working/knn.pkl']"
      ]
     },
     "execution_count": 27,
     "metadata": {},
     "output_type": "execute_result"
    }
   ],
   "source": [
    "joblib.dump(knn, \"/kaggle/working/knn.pkl\")"
   ]
  },
  {
   "cell_type": "markdown",
   "id": "89837718",
   "metadata": {
    "papermill": {
     "duration": 0.020932,
     "end_time": "2023-11-25T10:27:55.776535",
     "exception": false,
     "start_time": "2023-11-25T10:27:55.755603",
     "status": "completed"
    },
    "tags": []
   },
   "source": [
    "## Using Scikit KNN"
   ]
  },
  {
   "cell_type": "markdown",
   "id": "a74638f8",
   "metadata": {
    "papermill": {
     "duration": 0.020399,
     "end_time": "2023-11-25T10:27:55.818041",
     "exception": false,
     "start_time": "2023-11-25T10:27:55.797642",
     "status": "completed"
    },
    "tags": []
   },
   "source": [
    "### Model"
   ]
  },
  {
   "cell_type": "code",
   "execution_count": 28,
   "id": "7fc3d0e4",
   "metadata": {
    "execution": {
     "iopub.execute_input": "2023-11-25T10:27:55.862198Z",
     "iopub.status.busy": "2023-11-25T10:27:55.861787Z",
     "iopub.status.idle": "2023-11-25T10:27:55.878244Z",
     "shell.execute_reply": "2023-11-25T10:27:55.877188Z"
    },
    "papermill": {
     "duration": 0.04046,
     "end_time": "2023-11-25T10:27:55.880324",
     "exception": false,
     "start_time": "2023-11-25T10:27:55.839864",
     "status": "completed"
    },
    "tags": []
   },
   "outputs": [
    {
     "data": {
      "text/html": [
       "<style>#sk-container-id-1 {color: black;background-color: white;}#sk-container-id-1 pre{padding: 0;}#sk-container-id-1 div.sk-toggleable {background-color: white;}#sk-container-id-1 label.sk-toggleable__label {cursor: pointer;display: block;width: 100%;margin-bottom: 0;padding: 0.3em;box-sizing: border-box;text-align: center;}#sk-container-id-1 label.sk-toggleable__label-arrow:before {content: \"▸\";float: left;margin-right: 0.25em;color: #696969;}#sk-container-id-1 label.sk-toggleable__label-arrow:hover:before {color: black;}#sk-container-id-1 div.sk-estimator:hover label.sk-toggleable__label-arrow:before {color: black;}#sk-container-id-1 div.sk-toggleable__content {max-height: 0;max-width: 0;overflow: hidden;text-align: left;background-color: #f0f8ff;}#sk-container-id-1 div.sk-toggleable__content pre {margin: 0.2em;color: black;border-radius: 0.25em;background-color: #f0f8ff;}#sk-container-id-1 input.sk-toggleable__control:checked~div.sk-toggleable__content {max-height: 200px;max-width: 100%;overflow: auto;}#sk-container-id-1 input.sk-toggleable__control:checked~label.sk-toggleable__label-arrow:before {content: \"▾\";}#sk-container-id-1 div.sk-estimator input.sk-toggleable__control:checked~label.sk-toggleable__label {background-color: #d4ebff;}#sk-container-id-1 div.sk-label input.sk-toggleable__control:checked~label.sk-toggleable__label {background-color: #d4ebff;}#sk-container-id-1 input.sk-hidden--visually {border: 0;clip: rect(1px 1px 1px 1px);clip: rect(1px, 1px, 1px, 1px);height: 1px;margin: -1px;overflow: hidden;padding: 0;position: absolute;width: 1px;}#sk-container-id-1 div.sk-estimator {font-family: monospace;background-color: #f0f8ff;border: 1px dotted black;border-radius: 0.25em;box-sizing: border-box;margin-bottom: 0.5em;}#sk-container-id-1 div.sk-estimator:hover {background-color: #d4ebff;}#sk-container-id-1 div.sk-parallel-item::after {content: \"\";width: 100%;border-bottom: 1px solid gray;flex-grow: 1;}#sk-container-id-1 div.sk-label:hover label.sk-toggleable__label {background-color: #d4ebff;}#sk-container-id-1 div.sk-serial::before {content: \"\";position: absolute;border-left: 1px solid gray;box-sizing: border-box;top: 0;bottom: 0;left: 50%;z-index: 0;}#sk-container-id-1 div.sk-serial {display: flex;flex-direction: column;align-items: center;background-color: white;padding-right: 0.2em;padding-left: 0.2em;position: relative;}#sk-container-id-1 div.sk-item {position: relative;z-index: 1;}#sk-container-id-1 div.sk-parallel {display: flex;align-items: stretch;justify-content: center;background-color: white;position: relative;}#sk-container-id-1 div.sk-item::before, #sk-container-id-1 div.sk-parallel-item::before {content: \"\";position: absolute;border-left: 1px solid gray;box-sizing: border-box;top: 0;bottom: 0;left: 50%;z-index: -1;}#sk-container-id-1 div.sk-parallel-item {display: flex;flex-direction: column;z-index: 1;position: relative;background-color: white;}#sk-container-id-1 div.sk-parallel-item:first-child::after {align-self: flex-end;width: 50%;}#sk-container-id-1 div.sk-parallel-item:last-child::after {align-self: flex-start;width: 50%;}#sk-container-id-1 div.sk-parallel-item:only-child::after {width: 0;}#sk-container-id-1 div.sk-dashed-wrapped {border: 1px dashed gray;margin: 0 0.4em 0.5em 0.4em;box-sizing: border-box;padding-bottom: 0.4em;background-color: white;}#sk-container-id-1 div.sk-label label {font-family: monospace;font-weight: bold;display: inline-block;line-height: 1.2em;}#sk-container-id-1 div.sk-label-container {text-align: center;}#sk-container-id-1 div.sk-container {/* jupyter's `normalize.less` sets `[hidden] { display: none; }` but bootstrap.min.css set `[hidden] { display: none !important; }` so we also need the `!important` here to be able to override the default hidden behavior on the sphinx rendered scikit-learn.org. See: https://github.com/scikit-learn/scikit-learn/issues/21755 */display: inline-block !important;position: relative;}#sk-container-id-1 div.sk-text-repr-fallback {display: none;}</style><div id=\"sk-container-id-1\" class=\"sk-top-container\"><div class=\"sk-text-repr-fallback\"><pre>KNeighborsClassifier()</pre><b>In a Jupyter environment, please rerun this cell to show the HTML representation or trust the notebook. <br />On GitHub, the HTML representation is unable to render, please try loading this page with nbviewer.org.</b></div><div class=\"sk-container\" hidden><div class=\"sk-item\"><div class=\"sk-estimator sk-toggleable\"><input class=\"sk-toggleable__control sk-hidden--visually\" id=\"sk-estimator-id-1\" type=\"checkbox\" checked><label for=\"sk-estimator-id-1\" class=\"sk-toggleable__label sk-toggleable__label-arrow\">KNeighborsClassifier</label><div class=\"sk-toggleable__content\"><pre>KNeighborsClassifier()</pre></div></div></div></div></div>"
      ],
      "text/plain": [
       "KNeighborsClassifier()"
      ]
     },
     "execution_count": 28,
     "metadata": {},
     "output_type": "execute_result"
    }
   ],
   "source": [
    "scikit_knn = KNeighborsClassifier(n_neighbors = 5)\n",
    "scikit_knn.fit(X_train, y_train)"
   ]
  },
  {
   "cell_type": "markdown",
   "id": "f8fdbb78",
   "metadata": {
    "papermill": {
     "duration": 0.020792,
     "end_time": "2023-11-25T10:27:55.922518",
     "exception": false,
     "start_time": "2023-11-25T10:27:55.901726",
     "status": "completed"
    },
    "tags": []
   },
   "source": [
    "### Prediction"
   ]
  },
  {
   "cell_type": "code",
   "execution_count": 29,
   "id": "534d5551",
   "metadata": {
    "execution": {
     "iopub.execute_input": "2023-11-25T10:27:55.966683Z",
     "iopub.status.busy": "2023-11-25T10:27:55.966268Z",
     "iopub.status.idle": "2023-11-25T10:27:56.053222Z",
     "shell.execute_reply": "2023-11-25T10:27:56.052106Z"
    },
    "papermill": {
     "duration": 0.11187,
     "end_time": "2023-11-25T10:27:56.055394",
     "exception": false,
     "start_time": "2023-11-25T10:27:55.943524",
     "status": "completed"
    },
    "tags": []
   },
   "outputs": [
    {
     "data": {
      "text/plain": [
       "array([1., 2., 2., ..., 0., 3., 1.])"
      ]
     },
     "execution_count": 29,
     "metadata": {},
     "output_type": "execute_result"
    }
   ],
   "source": [
    "y_pred = scikit_knn.predict(X_val)\n",
    "y_pred"
   ]
  },
  {
   "cell_type": "markdown",
   "id": "6befa780",
   "metadata": {
    "papermill": {
     "duration": 0.020956,
     "end_time": "2023-11-25T10:27:56.097733",
     "exception": false,
     "start_time": "2023-11-25T10:27:56.076777",
     "status": "completed"
    },
    "tags": []
   },
   "source": [
    "### Evaluation"
   ]
  },
  {
   "cell_type": "code",
   "execution_count": 30,
   "id": "28295cbb",
   "metadata": {
    "execution": {
     "iopub.execute_input": "2023-11-25T10:27:56.142629Z",
     "iopub.status.busy": "2023-11-25T10:27:56.142277Z",
     "iopub.status.idle": "2023-11-25T10:27:56.148436Z",
     "shell.execute_reply": "2023-11-25T10:27:56.147303Z"
    },
    "papermill": {
     "duration": 0.031047,
     "end_time": "2023-11-25T10:27:56.150469",
     "exception": false,
     "start_time": "2023-11-25T10:27:56.119422",
     "status": "completed"
    },
    "tags": []
   },
   "outputs": [
    {
     "name": "stdout",
     "output_type": "stream",
     "text": [
      "Accuracy Percentage 93.64\n"
     ]
    }
   ],
   "source": [
    "acc = np.sum(y_val == y_pred)/len(y_val)\n",
    "print(f\"Accuracy Percentage {np.round(acc*100,2)}\")"
   ]
  },
  {
   "cell_type": "code",
   "execution_count": 31,
   "id": "ab0b3dad",
   "metadata": {
    "execution": {
     "iopub.execute_input": "2023-11-25T10:27:56.196002Z",
     "iopub.status.busy": "2023-11-25T10:27:56.195605Z",
     "iopub.status.idle": "2023-11-25T10:27:56.511219Z",
     "shell.execute_reply": "2023-11-25T10:27:56.510102Z"
    },
    "papermill": {
     "duration": 0.34106,
     "end_time": "2023-11-25T10:27:56.513775",
     "exception": false,
     "start_time": "2023-11-25T10:27:56.172715",
     "status": "completed"
    },
    "tags": []
   },
   "outputs": [
    {
     "data": {
      "image/png": "[encoded data removed]",
      "text/plain": [
       "<Figure size 640x480 with 2 Axes>"
      ]
     },
     "metadata": {},
     "output_type": "display_data"
    }
   ],
   "source": [
    "knn_cm = confusion_matrix(y_val, y_pred)\n",
    "disp = ConfusionMatrixDisplay(knn_cm)\n",
    "disp.plot()\n",
    "plt.show()"
   ]
  },
  {
   "cell_type": "markdown",
   "id": "01348ecd",
   "metadata": {
    "papermill": {
     "duration": 0.021612,
     "end_time": "2023-11-25T10:27:56.557645",
     "exception": false,
     "start_time": "2023-11-25T10:27:56.536033",
     "status": "completed"
    },
    "tags": []
   },
   "source": [
    "### Saving Model"
   ]
  },
  {
   "cell_type": "code",
   "execution_count": 32,
   "id": "5cba53c5",
   "metadata": {
    "execution": {
     "iopub.execute_input": "2023-11-25T10:27:56.603440Z",
     "iopub.status.busy": "2023-11-25T10:27:56.602704Z",
     "iopub.status.idle": "2023-11-25T10:27:56.610959Z",
     "shell.execute_reply": "2023-11-25T10:27:56.610213Z"
    },
    "papermill": {
     "duration": 0.033443,
     "end_time": "2023-11-25T10:27:56.612986",
     "exception": false,
     "start_time": "2023-11-25T10:27:56.579543",
     "status": "completed"
    },
    "tags": []
   },
   "outputs": [
    {
     "data": {
      "text/plain": [
       "['/kaggle/working/scikit_knn.pkl']"
      ]
     },
     "execution_count": 32,
     "metadata": {},
     "output_type": "execute_result"
    }
   ],
   "source": [
    "joblib.dump(scikit_knn, \"/kaggle/working/scikit_knn.pkl\")"
   ]
  },
  {
   "cell_type": "markdown",
   "id": "95e533a6",
   "metadata": {
    "papermill": {
     "duration": 0.021338,
     "end_time": "2023-11-25T10:27:56.658211",
     "exception": false,
     "start_time": "2023-11-25T10:27:56.636873",
     "status": "completed"
    },
    "tags": []
   },
   "source": [
    "## Using Naive Bayes by MelihatA"
   ]
  },
  {
   "cell_type": "markdown",
   "id": "1762c4f4",
   "metadata": {
    "papermill": {
     "duration": 0.021465,
     "end_time": "2023-11-25T10:27:56.701486",
     "exception": false,
     "start_time": "2023-11-25T10:27:56.680021",
     "status": "completed"
    },
    "tags": []
   },
   "source": [
    "### Model"
   ]
  },
  {
   "cell_type": "code",
   "execution_count": 33,
   "id": "4b8ca65e",
   "metadata": {
    "execution": {
     "iopub.execute_input": "2023-11-25T10:27:56.746961Z",
     "iopub.status.busy": "2023-11-25T10:27:56.746322Z",
     "iopub.status.idle": "2023-11-25T10:27:56.756764Z",
     "shell.execute_reply": "2023-11-25T10:27:56.755933Z"
    },
    "papermill": {
     "duration": 0.035996,
     "end_time": "2023-11-25T10:27:56.759037",
     "exception": false,
     "start_time": "2023-11-25T10:27:56.723041",
     "status": "completed"
    },
    "tags": []
   },
   "outputs": [],
   "source": [
    "import numpy as np\n",
    "class NaiveBayes:\n",
    "    def fit(self, X, y):\n",
    "        n_samples, n_features = X.shape\n",
    "        self._classes = np.unique(y)\n",
    "        n_classes = len(self._classes)\n",
    "\n",
    "        # calculate mean, var, and prior for each class\n",
    "        self._mean = np.zeros((n_classes, n_features), dtype=np.float64)\n",
    "        self._var = np.zeros((n_classes, n_features), dtype=np.float64)\n",
    "        self._priors = np.zeros(n_classes, dtype=np.float64)\n",
    "\n",
    "        for idx, c in enumerate(self._classes):\n",
    "            X_c = X[y == c]\n",
    "            self._mean[idx, :] = X_c.mean(axis=0)\n",
    "            self._var[idx, :] = X_c.var(axis=0)\n",
    "            self._priors[idx] = X_c.shape[0] / float(n_samples)\n",
    "            \n",
    "\n",
    "    def predict(self, X):\n",
    "        y_pred = [self._predict(test) for test in np.array(X)]\n",
    "        return np.array(y_pred)\n",
    "\n",
    "    def _predict(self, test):\n",
    "        posteriors = []\n",
    "\n",
    "        # calculate posterior probability for each class\n",
    "        for idx, c in enumerate(self._classes):\n",
    "            prior = np.log(self._priors[idx])\n",
    "            posterior = np.sum(np.log(self._pdf(idx, test)))\n",
    "            posterior = posterior + prior\n",
    "            posteriors.append(posterior)\n",
    "\n",
    "        # return class with the highest posterior\n",
    "        return self._classes[np.argmax(posteriors)]\n",
    "\n",
    "    def _pdf(self, class_idx, x):\n",
    "        mean = self._mean[class_idx]\n",
    "        var = self._var[class_idx]\n",
    "        numerator = np.exp(-((x - mean) ** 2) / (2 * var))\n",
    "        denominator = np.sqrt(2 * np.pi * var)\n",
    "        return numerator / denominator"
   ]
  },
  {
   "cell_type": "code",
   "execution_count": 34,
   "id": "2d70af7b",
   "metadata": {
    "execution": {
     "iopub.execute_input": "2023-11-25T10:27:56.806667Z",
     "iopub.status.busy": "2023-11-25T10:27:56.805971Z",
     "iopub.status.idle": "2023-11-25T10:27:56.816447Z",
     "shell.execute_reply": "2023-11-25T10:27:56.815412Z"
    },
    "papermill": {
     "duration": 0.036604,
     "end_time": "2023-11-25T10:27:56.818978",
     "exception": false,
     "start_time": "2023-11-25T10:27:56.782374",
     "status": "completed"
    },
    "tags": []
   },
   "outputs": [],
   "source": [
    "nb = NaiveBayes()\n",
    "nb.fit(X_train, y_train)"
   ]
  },
  {
   "cell_type": "markdown",
   "id": "b9ee2820",
   "metadata": {
    "papermill": {
     "duration": 0.02195,
     "end_time": "2023-11-25T10:27:56.863361",
     "exception": false,
     "start_time": "2023-11-25T10:27:56.841411",
     "status": "completed"
    },
    "tags": []
   },
   "source": [
    "### Prediction"
   ]
  },
  {
   "cell_type": "code",
   "execution_count": 35,
   "id": "80446ff5",
   "metadata": {
    "execution": {
     "iopub.execute_input": "2023-11-25T10:27:56.908961Z",
     "iopub.status.busy": "2023-11-25T10:27:56.908581Z",
     "iopub.status.idle": "2023-11-25T10:27:57.035978Z",
     "shell.execute_reply": "2023-11-25T10:27:57.034981Z"
    },
    "papermill": {
     "duration": 0.152906,
     "end_time": "2023-11-25T10:27:57.038416",
     "exception": false,
     "start_time": "2023-11-25T10:27:56.885510",
     "status": "completed"
    },
    "tags": []
   },
   "outputs": [
    {
     "data": {
      "text/plain": [
       "array([2., 2., 2., ..., 0., 3., 1.])"
      ]
     },
     "execution_count": 35,
     "metadata": {},
     "output_type": "execute_result"
    }
   ],
   "source": [
    "y_pred_nb = nb.predict(X_val)\n",
    "y_pred_nb"
   ]
  },
  {
   "cell_type": "markdown",
   "id": "798a883a",
   "metadata": {
    "papermill": {
     "duration": 0.022087,
     "end_time": "2023-11-25T10:27:57.082968",
     "exception": false,
     "start_time": "2023-11-25T10:27:57.060881",
     "status": "completed"
    },
    "tags": []
   },
   "source": [
    "### Evaluation"
   ]
  },
  {
   "cell_type": "code",
   "execution_count": 36,
   "id": "b05fd774",
   "metadata": {
    "execution": {
     "iopub.execute_input": "2023-11-25T10:27:57.130029Z",
     "iopub.status.busy": "2023-11-25T10:27:57.129625Z",
     "iopub.status.idle": "2023-11-25T10:27:57.416227Z",
     "shell.execute_reply": "2023-11-25T10:27:57.415228Z"
    },
    "papermill": {
     "duration": 0.312593,
     "end_time": "2023-11-25T10:27:57.418636",
     "exception": false,
     "start_time": "2023-11-25T10:27:57.106043",
     "status": "completed"
    },
    "tags": []
   },
   "outputs": [
    {
     "data": {
      "image/png": "[encoded data removed]",
      "text/plain": [
       "<Figure size 640x480 with 2 Axes>"
      ]
     },
     "metadata": {},
     "output_type": "display_data"
    }
   ],
   "source": [
    "nb_cm = confusion_matrix(y_val, y_pred_nb)\n",
    "disp = ConfusionMatrixDisplay(nb_cm)\n",
    "disp.plot()\n",
    "plt.show()"
   ]
  },
  {
   "cell_type": "code",
   "execution_count": 37,
   "id": "edc4b56f",
   "metadata": {
    "execution": {
     "iopub.execute_input": "2023-11-25T10:27:57.465021Z",
     "iopub.status.busy": "2023-11-25T10:27:57.464658Z",
     "iopub.status.idle": "2023-11-25T10:27:57.470997Z",
     "shell.execute_reply": "2023-11-25T10:27:57.469786Z"
    },
    "papermill": {
     "duration": 0.032163,
     "end_time": "2023-11-25T10:27:57.473359",
     "exception": false,
     "start_time": "2023-11-25T10:27:57.441196",
     "status": "completed"
    },
    "tags": []
   },
   "outputs": [
    {
     "name": "stdout",
     "output_type": "stream",
     "text": [
      "Accuracy Percentage 76.5\n"
     ]
    }
   ],
   "source": [
    "acc = np.sum(y_val == y_pred_nb)/len(y_val)\n",
    "print(f\"Accuracy Percentage {np.round(acc*100,2)}\")"
   ]
  },
  {
   "cell_type": "markdown",
   "id": "8a7d98e2",
   "metadata": {
    "papermill": {
     "duration": 0.023164,
     "end_time": "2023-11-25T10:27:57.519025",
     "exception": false,
     "start_time": "2023-11-25T10:27:57.495861",
     "status": "completed"
    },
    "tags": []
   },
   "source": [
    "### Saving Model"
   ]
  },
  {
   "cell_type": "code",
   "execution_count": 38,
   "id": "238b54f8",
   "metadata": {
    "execution": {
     "iopub.execute_input": "2023-11-25T10:27:57.567023Z",
     "iopub.status.busy": "2023-11-25T10:27:57.565770Z",
     "iopub.status.idle": "2023-11-25T10:27:57.574467Z",
     "shell.execute_reply": "2023-11-25T10:27:57.573384Z"
    },
    "papermill": {
     "duration": 0.034955,
     "end_time": "2023-11-25T10:27:57.576693",
     "exception": false,
     "start_time": "2023-11-25T10:27:57.541738",
     "status": "completed"
    },
    "tags": []
   },
   "outputs": [
    {
     "data": {
      "text/plain": [
       "['/kaggle/working/naive_bayes.pkl']"
      ]
     },
     "execution_count": 38,
     "metadata": {},
     "output_type": "execute_result"
    }
   ],
   "source": [
    "joblib.dump(nb, \"/kaggle/working/naive_bayes.pkl\")"
   ]
  },
  {
   "cell_type": "markdown",
   "id": "84277479",
   "metadata": {
    "papermill": {
     "duration": 0.022805,
     "end_time": "2023-11-25T10:27:57.622203",
     "exception": false,
     "start_time": "2023-11-25T10:27:57.599398",
     "status": "completed"
    },
    "tags": []
   },
   "source": [
    "## Using Scikit Naive Bayes"
   ]
  },
  {
   "cell_type": "markdown",
   "id": "9d87bcd9",
   "metadata": {
    "papermill": {
     "duration": 0.022359,
     "end_time": "2023-11-25T10:27:57.667140",
     "exception": false,
     "start_time": "2023-11-25T10:27:57.644781",
     "status": "completed"
    },
    "tags": []
   },
   "source": [
    "### Model"
   ]
  },
  {
   "cell_type": "code",
   "execution_count": 39,
   "id": "1132631e",
   "metadata": {
    "execution": {
     "iopub.execute_input": "2023-11-25T10:27:57.714702Z",
     "iopub.status.busy": "2023-11-25T10:27:57.714281Z",
     "iopub.status.idle": "2023-11-25T10:27:57.725221Z",
     "shell.execute_reply": "2023-11-25T10:27:57.724189Z"
    },
    "papermill": {
     "duration": 0.037396,
     "end_time": "2023-11-25T10:27:57.727358",
     "exception": false,
     "start_time": "2023-11-25T10:27:57.689962",
     "status": "completed"
    },
    "tags": []
   },
   "outputs": [
    {
     "data": {
      "text/html": [
       "<style>#sk-container-id-2 {color: black;background-color: white;}#sk-container-id-2 pre{padding: 0;}#sk-container-id-2 div.sk-toggleable {background-color: white;}#sk-container-id-2 label.sk-toggleable__label {cursor: pointer;display: block;width: 100%;margin-bottom: 0;padding: 0.3em;box-sizing: border-box;text-align: center;}#sk-container-id-2 label.sk-toggleable__label-arrow:before {content: \"▸\";float: left;margin-right: 0.25em;color: #696969;}#sk-container-id-2 label.sk-toggleable__label-arrow:hover:before {color: black;}#sk-container-id-2 div.sk-estimator:hover label.sk-toggleable__label-arrow:before {color: black;}#sk-container-id-2 div.sk-toggleable__content {max-height: 0;max-width: 0;overflow: hidden;text-align: left;background-color: #f0f8ff;}#sk-container-id-2 div.sk-toggleable__content pre {margin: 0.2em;color: black;border-radius: 0.25em;background-color: #f0f8ff;}#sk-container-id-2 input.sk-toggleable__control:checked~div.sk-toggleable__content {max-height: 200px;max-width: 100%;overflow: auto;}#sk-container-id-2 input.sk-toggleable__control:checked~label.sk-toggleable__label-arrow:before {content: \"▾\";}#sk-container-id-2 div.sk-estimator input.sk-toggleable__control:checked~label.sk-toggleable__label {background-color: #d4ebff;}#sk-container-id-2 div.sk-label input.sk-toggleable__control:checked~label.sk-toggleable__label {background-color: #d4ebff;}#sk-container-id-2 input.sk-hidden--visually {border: 0;clip: rect(1px 1px 1px 1px);clip: rect(1px, 1px, 1px, 1px);height: 1px;margin: -1px;overflow: hidden;padding: 0;position: absolute;width: 1px;}#sk-container-id-2 div.sk-estimator {font-family: monospace;background-color: #f0f8ff;border: 1px dotted black;border-radius: 0.25em;box-sizing: border-box;margin-bottom: 0.5em;}#sk-container-id-2 div.sk-estimator:hover {background-color: #d4ebff;}#sk-container-id-2 div.sk-parallel-item::after {content: \"\";width: 100%;border-bottom: 1px solid gray;flex-grow: 1;}#sk-container-id-2 div.sk-label:hover label.sk-toggleable__label {background-color: #d4ebff;}#sk-container-id-2 div.sk-serial::before {content: \"\";position: absolute;border-left: 1px solid gray;box-sizing: border-box;top: 0;bottom: 0;left: 50%;z-index: 0;}#sk-container-id-2 div.sk-serial {display: flex;flex-direction: column;align-items: center;background-color: white;padding-right: 0.2em;padding-left: 0.2em;position: relative;}#sk-container-id-2 div.sk-item {position: relative;z-index: 1;}#sk-container-id-2 div.sk-parallel {display: flex;align-items: stretch;justify-content: center;background-color: white;position: relative;}#sk-container-id-2 div.sk-item::before, #sk-container-id-2 div.sk-parallel-item::before {content: \"\";position: absolute;border-left: 1px solid gray;box-sizing: border-box;top: 0;bottom: 0;left: 50%;z-index: -1;}#sk-container-id-2 div.sk-parallel-item {display: flex;flex-direction: column;z-index: 1;position: relative;background-color: white;}#sk-container-id-2 div.sk-parallel-item:first-child::after {align-self: flex-end;width: 50%;}#sk-container-id-2 div.sk-parallel-item:last-child::after {align-self: flex-start;width: 50%;}#sk-container-id-2 div.sk-parallel-item:only-child::after {width: 0;}#sk-container-id-2 div.sk-dashed-wrapped {border: 1px dashed gray;margin: 0 0.4em 0.5em 0.4em;box-sizing: border-box;padding-bottom: 0.4em;background-color: white;}#sk-container-id-2 div.sk-label label {font-family: monospace;font-weight: bold;display: inline-block;line-height: 1.2em;}#sk-container-id-2 div.sk-label-container {text-align: center;}#sk-container-id-2 div.sk-container {/* jupyter's `normalize.less` sets `[hidden] { display: none; }` but bootstrap.min.css set `[hidden] { display: none !important; }` so we also need the `!important` here to be able to override the default hidden behavior on the sphinx rendered scikit-learn.org. See: https://github.com/scikit-learn/scikit-learn/issues/21755 */display: inline-block !important;position: relative;}#sk-container-id-2 div.sk-text-repr-fallback {display: none;}</style><div id=\"sk-container-id-2\" class=\"sk-top-container\"><div class=\"sk-text-repr-fallback\"><pre>GaussianNB()</pre><b>In a Jupyter environment, please rerun this cell to show the HTML representation or trust the notebook. <br />On GitHub, the HTML representation is unable to render, please try loading this page with nbviewer.org.</b></div><div class=\"sk-container\" hidden><div class=\"sk-item\"><div class=\"sk-estimator sk-toggleable\"><input class=\"sk-toggleable__control sk-hidden--visually\" id=\"sk-estimator-id-2\" type=\"checkbox\" checked><label for=\"sk-estimator-id-2\" class=\"sk-toggleable__label sk-toggleable__label-arrow\">GaussianNB</label><div class=\"sk-toggleable__content\"><pre>GaussianNB()</pre></div></div></div></div></div>"
      ],
      "text/plain": [
       "GaussianNB()"
      ]
     },
     "execution_count": 39,
     "metadata": {},
     "output_type": "execute_result"
    }
   ],
   "source": [
    "scikit_nb = GaussianNB()\n",
    "scikit_nb.fit(X_train, y_train)"
   ]
  },
  {
   "cell_type": "markdown",
   "id": "da9709f9",
   "metadata": {
    "papermill": {
     "duration": 0.022483,
     "end_time": "2023-11-25T10:27:57.772640",
     "exception": false,
     "start_time": "2023-11-25T10:27:57.750157",
     "status": "completed"
    },
    "tags": []
   },
   "source": [
    "### Prediction"
   ]
  },
  {
   "cell_type": "code",
   "execution_count": 40,
   "id": "7b19978a",
   "metadata": {
    "execution": {
     "iopub.execute_input": "2023-11-25T10:27:57.822114Z",
     "iopub.status.busy": "2023-11-25T10:27:57.821708Z",
     "iopub.status.idle": "2023-11-25T10:27:57.830040Z",
     "shell.execute_reply": "2023-11-25T10:27:57.829221Z"
    },
    "papermill": {
     "duration": 0.035105,
     "end_time": "2023-11-25T10:27:57.832079",
     "exception": false,
     "start_time": "2023-11-25T10:27:57.796974",
     "status": "completed"
    },
    "tags": []
   },
   "outputs": [
    {
     "data": {
      "text/plain": [
       "array([2., 2., 2., ..., 0., 3., 1.])"
      ]
     },
     "execution_count": 40,
     "metadata": {},
     "output_type": "execute_result"
    }
   ],
   "source": [
    "y_pred_nb_scikit = scikit_nb.predict(X_val)\n",
    "y_pred_nb_scikit"
   ]
  },
  {
   "cell_type": "markdown",
   "id": "5c7da3fe",
   "metadata": {
    "papermill": {
     "duration": 0.022652,
     "end_time": "2023-11-25T10:27:57.878134",
     "exception": false,
     "start_time": "2023-11-25T10:27:57.855482",
     "status": "completed"
    },
    "tags": []
   },
   "source": [
    "### Evaluation"
   ]
  },
  {
   "cell_type": "code",
   "execution_count": 41,
   "id": "a881982f",
   "metadata": {
    "execution": {
     "iopub.execute_input": "2023-11-25T10:27:57.926211Z",
     "iopub.status.busy": "2023-11-25T10:27:57.925445Z",
     "iopub.status.idle": "2023-11-25T10:27:58.217235Z",
     "shell.execute_reply": "2023-11-25T10:27:58.216338Z"
    },
    "papermill": {
     "duration": 0.318246,
     "end_time": "2023-11-25T10:27:58.219314",
     "exception": false,
     "start_time": "2023-11-25T10:27:57.901068",
     "status": "completed"
    },
    "tags": []
   },
   "outputs": [
    {
     "data": {
      "image/png": "[encoded data removed]",
      "text/plain": [
       "<Figure size 640x480 with 2 Axes>"
      ]
     },
     "metadata": {},
     "output_type": "display_data"
    }
   ],
   "source": [
    "nb_cm = confusion_matrix(y_val, y_pred_nb_scikit)\n",
    "disp = ConfusionMatrixDisplay(nb_cm)\n",
    "disp.plot()\n",
    "plt.show()"
   ]
  },
  {
   "cell_type": "code",
   "execution_count": 42,
   "id": "be055aff",
   "metadata": {
    "execution": {
     "iopub.execute_input": "2023-11-25T10:27:58.268447Z",
     "iopub.status.busy": "2023-11-25T10:27:58.267731Z",
     "iopub.status.idle": "2023-11-25T10:27:58.274285Z",
     "shell.execute_reply": "2023-11-25T10:27:58.273192Z"
    },
    "papermill": {
     "duration": 0.034102,
     "end_time": "2023-11-25T10:27:58.276738",
     "exception": false,
     "start_time": "2023-11-25T10:27:58.242636",
     "status": "completed"
    },
    "tags": []
   },
   "outputs": [
    {
     "name": "stdout",
     "output_type": "stream",
     "text": [
      "Accuracy Percentage 76.5\n"
     ]
    }
   ],
   "source": [
    "acc = np.sum(y_val == y_pred_nb_scikit)/len(y_val)\n",
    "print(f\"Accuracy Percentage {np.round(acc*100,2)}\")"
   ]
  },
  {
   "cell_type": "markdown",
   "id": "bf8222c4",
   "metadata": {
    "papermill": {
     "duration": 0.023207,
     "end_time": "2023-11-25T10:27:58.323621",
     "exception": false,
     "start_time": "2023-11-25T10:27:58.300414",
     "status": "completed"
    },
    "tags": []
   },
   "source": [
    "### Saving Model"
   ]
  },
  {
   "cell_type": "code",
   "execution_count": 43,
   "id": "a3b962a8",
   "metadata": {
    "execution": {
     "iopub.execute_input": "2023-11-25T10:27:58.374207Z",
     "iopub.status.busy": "2023-11-25T10:27:58.373321Z",
     "iopub.status.idle": "2023-11-25T10:27:58.380648Z",
     "shell.execute_reply": "2023-11-25T10:27:58.379839Z"
    },
    "papermill": {
     "duration": 0.034635,
     "end_time": "2023-11-25T10:27:58.382622",
     "exception": false,
     "start_time": "2023-11-25T10:27:58.347987",
     "status": "completed"
    },
    "tags": []
   },
   "outputs": [
    {
     "data": {
      "text/plain": [
       "['/kaggle/working/scikit_naive_bayes.pkl']"
      ]
     },
     "execution_count": 43,
     "metadata": {},
     "output_type": "execute_result"
    }
   ],
   "source": [
    "joblib.dump(scikit_nb, \"/kaggle/working/scikit_naive_bayes.pkl\")"
   ]
  },
  {
   "cell_type": "markdown",
   "id": "8106f6a0",
   "metadata": {
    "papermill": {
     "duration": 0.023115,
     "end_time": "2023-11-25T10:27:58.429327",
     "exception": false,
     "start_time": "2023-11-25T10:27:58.406212",
     "status": "completed"
    },
    "tags": []
   },
   "source": [
    "# Submission"
   ]
  },
  {
   "cell_type": "code",
   "execution_count": 44,
   "id": "69359143",
   "metadata": {
    "execution": {
     "iopub.execute_input": "2023-11-25T10:27:58.480208Z",
     "iopub.status.busy": "2023-11-25T10:27:58.479764Z",
     "iopub.status.idle": "2023-11-25T10:27:58.485533Z",
     "shell.execute_reply": "2023-11-25T10:27:58.484284Z"
    },
    "papermill": {
     "duration": 0.03376,
     "end_time": "2023-11-25T10:27:58.487785",
     "exception": false,
     "start_time": "2023-11-25T10:27:58.454025",
     "status": "completed"
    },
    "tags": []
   },
   "outputs": [],
   "source": [
    "pipeline = Pipeline([\n",
    "#     ('removing outliers', OutlierRemoval()),\n",
    "    ('invalid data replacement', InvalidReplacement()),\n",
    "    ('area calculation', PixelAreaCalculator()),\n",
    "    ('feature selection', DropColumn(['px_height', 'px_width'] + non_numeric_columns + remove_col))\n",
    "])\n",
    "\n",
    "full_pipeline = Pipeline([\n",
    "    ('preprocessor', pipeline),\n",
    "    ('scaling', numericTransformation)\n",
    "])"
   ]
  },
  {
   "cell_type": "code",
   "execution_count": 45,
   "id": "951a69d4",
   "metadata": {
    "execution": {
     "iopub.execute_input": "2023-11-25T10:27:58.537664Z",
     "iopub.status.busy": "2023-11-25T10:27:58.537250Z",
     "iopub.status.idle": "2023-11-25T10:27:58.542742Z",
     "shell.execute_reply": "2023-11-25T10:27:58.541644Z"
    },
    "papermill": {
     "duration": 0.033411,
     "end_time": "2023-11-25T10:27:58.545066",
     "exception": false,
     "start_time": "2023-11-25T10:27:58.511655",
     "status": "completed"
    },
    "tags": []
   },
   "outputs": [],
   "source": [
    "id_test = test_df['id']"
   ]
  },
  {
   "cell_type": "code",
   "execution_count": 46,
   "id": "6a124084",
   "metadata": {
    "execution": {
     "iopub.execute_input": "2023-11-25T10:27:58.594705Z",
     "iopub.status.busy": "2023-11-25T10:27:58.593900Z",
     "iopub.status.idle": "2023-11-25T10:27:58.617913Z",
     "shell.execute_reply": "2023-11-25T10:27:58.616830Z"
    },
    "papermill": {
     "duration": 0.051458,
     "end_time": "2023-11-25T10:27:58.620367",
     "exception": false,
     "start_time": "2023-11-25T10:27:58.568909",
     "status": "completed"
    },
    "tags": []
   },
   "outputs": [
    {
     "data": {
      "text/html": [
       "<div>\n",
       "<style scoped>\n",
       "    .dataframe tbody tr th:only-of-type {\n",
       "        vertical-align: middle;\n",
       "    }\n",
       "\n",
       "    .dataframe tbody tr th {\n",
       "        vertical-align: top;\n",
       "    }\n",
       "\n",
       "    .dataframe thead th {\n",
       "        text-align: right;\n",
       "    }\n",
       "</style>\n",
       "<table border=\"1\" class=\"dataframe\">\n",
       "  <thead>\n",
       "    <tr style=\"text-align: right;\">\n",
       "      <th></th>\n",
       "      <th>battery_power</th>\n",
       "      <th>blue</th>\n",
       "      <th>clock_speed</th>\n",
       "      <th>dual_sim</th>\n",
       "      <th>fc</th>\n",
       "      <th>four_g</th>\n",
       "      <th>int_memory</th>\n",
       "      <th>m_dep</th>\n",
       "      <th>mobile_wt</th>\n",
       "      <th>n_cores</th>\n",
       "      <th>pc</th>\n",
       "      <th>px_height</th>\n",
       "      <th>px_width</th>\n",
       "      <th>ram</th>\n",
       "      <th>sc_h</th>\n",
       "      <th>sc_w</th>\n",
       "      <th>talk_time</th>\n",
       "      <th>three_g</th>\n",
       "      <th>touch_screen</th>\n",
       "      <th>wifi</th>\n",
       "    </tr>\n",
       "  </thead>\n",
       "  <tbody>\n",
       "    <tr>\n",
       "      <th>0</th>\n",
       "      <td>1076</td>\n",
       "      <td>1</td>\n",
       "      <td>2.2</td>\n",
       "      <td>0</td>\n",
       "      <td>3</td>\n",
       "      <td>1</td>\n",
       "      <td>53</td>\n",
       "      <td>0.1</td>\n",
       "      <td>114</td>\n",
       "      <td>6</td>\n",
       "      <td>6</td>\n",
       "      <td>127</td>\n",
       "      <td>1314</td>\n",
       "      <td>1003</td>\n",
       "      <td>16</td>\n",
       "      <td>9</td>\n",
       "      <td>10</td>\n",
       "      <td>1</td>\n",
       "      <td>0</td>\n",
       "      <td>0</td>\n",
       "    </tr>\n",
       "    <tr>\n",
       "      <th>1</th>\n",
       "      <td>1310</td>\n",
       "      <td>0</td>\n",
       "      <td>2.4</td>\n",
       "      <td>0</td>\n",
       "      <td>0</td>\n",
       "      <td>0</td>\n",
       "      <td>40</td>\n",
       "      <td>0.5</td>\n",
       "      <td>118</td>\n",
       "      <td>5</td>\n",
       "      <td>0</td>\n",
       "      <td>1499</td>\n",
       "      <td>1687</td>\n",
       "      <td>3348</td>\n",
       "      <td>9</td>\n",
       "      <td>2</td>\n",
       "      <td>13</td>\n",
       "      <td>0</td>\n",
       "      <td>0</td>\n",
       "      <td>1</td>\n",
       "    </tr>\n",
       "    <tr>\n",
       "      <th>2</th>\n",
       "      <td>1915</td>\n",
       "      <td>0</td>\n",
       "      <td>1.1</td>\n",
       "      <td>0</td>\n",
       "      <td>6</td>\n",
       "      <td>0</td>\n",
       "      <td>30</td>\n",
       "      <td>0.6</td>\n",
       "      <td>181</td>\n",
       "      <td>3</td>\n",
       "      <td>8</td>\n",
       "      <td>266</td>\n",
       "      <td>1754</td>\n",
       "      <td>3815</td>\n",
       "      <td>13</td>\n",
       "      <td>4</td>\n",
       "      <td>7</td>\n",
       "      <td>0</td>\n",
       "      <td>0</td>\n",
       "      <td>0</td>\n",
       "    </tr>\n",
       "    <tr>\n",
       "      <th>3</th>\n",
       "      <td>587</td>\n",
       "      <td>0</td>\n",
       "      <td>1.4</td>\n",
       "      <td>0</td>\n",
       "      <td>9</td>\n",
       "      <td>1</td>\n",
       "      <td>8</td>\n",
       "      <td>0.5</td>\n",
       "      <td>142</td>\n",
       "      <td>7</td>\n",
       "      <td>13</td>\n",
       "      <td>128</td>\n",
       "      <td>593</td>\n",
       "      <td>3182</td>\n",
       "      <td>9</td>\n",
       "      <td>7</td>\n",
       "      <td>10</td>\n",
       "      <td>1</td>\n",
       "      <td>0</td>\n",
       "      <td>0</td>\n",
       "    </tr>\n",
       "    <tr>\n",
       "      <th>4</th>\n",
       "      <td>1526</td>\n",
       "      <td>0</td>\n",
       "      <td>1.8</td>\n",
       "      <td>0</td>\n",
       "      <td>5</td>\n",
       "      <td>1</td>\n",
       "      <td>11</td>\n",
       "      <td>0.1</td>\n",
       "      <td>131</td>\n",
       "      <td>1</td>\n",
       "      <td>7</td>\n",
       "      <td>150</td>\n",
       "      <td>1606</td>\n",
       "      <td>706</td>\n",
       "      <td>18</td>\n",
       "      <td>7</td>\n",
       "      <td>18</td>\n",
       "      <td>1</td>\n",
       "      <td>1</td>\n",
       "      <td>0</td>\n",
       "    </tr>\n",
       "    <tr>\n",
       "      <th>...</th>\n",
       "      <td>...</td>\n",
       "      <td>...</td>\n",
       "      <td>...</td>\n",
       "      <td>...</td>\n",
       "      <td>...</td>\n",
       "      <td>...</td>\n",
       "      <td>...</td>\n",
       "      <td>...</td>\n",
       "      <td>...</td>\n",
       "      <td>...</td>\n",
       "      <td>...</td>\n",
       "      <td>...</td>\n",
       "      <td>...</td>\n",
       "      <td>...</td>\n",
       "      <td>...</td>\n",
       "      <td>...</td>\n",
       "      <td>...</td>\n",
       "      <td>...</td>\n",
       "      <td>...</td>\n",
       "      <td>...</td>\n",
       "    </tr>\n",
       "    <tr>\n",
       "      <th>1995</th>\n",
       "      <td>1841</td>\n",
       "      <td>0</td>\n",
       "      <td>0.9</td>\n",
       "      <td>0</td>\n",
       "      <td>0</td>\n",
       "      <td>1</td>\n",
       "      <td>13</td>\n",
       "      <td>0.6</td>\n",
       "      <td>112</td>\n",
       "      <td>5</td>\n",
       "      <td>3</td>\n",
       "      <td>1311</td>\n",
       "      <td>1679</td>\n",
       "      <td>1645</td>\n",
       "      <td>15</td>\n",
       "      <td>9</td>\n",
       "      <td>12</td>\n",
       "      <td>1</td>\n",
       "      <td>1</td>\n",
       "      <td>1</td>\n",
       "    </tr>\n",
       "    <tr>\n",
       "      <th>1996</th>\n",
       "      <td>1064</td>\n",
       "      <td>1</td>\n",
       "      <td>1.8</td>\n",
       "      <td>1</td>\n",
       "      <td>0</td>\n",
       "      <td>0</td>\n",
       "      <td>12</td>\n",
       "      <td>0.3</td>\n",
       "      <td>147</td>\n",
       "      <td>2</td>\n",
       "      <td>5</td>\n",
       "      <td>105</td>\n",
       "      <td>717</td>\n",
       "      <td>1509</td>\n",
       "      <td>16</td>\n",
       "      <td>10</td>\n",
       "      <td>14</td>\n",
       "      <td>0</td>\n",
       "      <td>0</td>\n",
       "      <td>0</td>\n",
       "    </tr>\n",
       "    <tr>\n",
       "      <th>1997</th>\n",
       "      <td>1448</td>\n",
       "      <td>0</td>\n",
       "      <td>1.4</td>\n",
       "      <td>1</td>\n",
       "      <td>0</td>\n",
       "      <td>0</td>\n",
       "      <td>22</td>\n",
       "      <td>0.2</td>\n",
       "      <td>142</td>\n",
       "      <td>6</td>\n",
       "      <td>5</td>\n",
       "      <td>345</td>\n",
       "      <td>652</td>\n",
       "      <td>3807</td>\n",
       "      <td>11</td>\n",
       "      <td>7</td>\n",
       "      <td>9</td>\n",
       "      <td>0</td>\n",
       "      <td>0</td>\n",
       "      <td>0</td>\n",
       "    </tr>\n",
       "    <tr>\n",
       "      <th>1998</th>\n",
       "      <td>1085</td>\n",
       "      <td>0</td>\n",
       "      <td>2.4</td>\n",
       "      <td>0</td>\n",
       "      <td>3</td>\n",
       "      <td>1</td>\n",
       "      <td>38</td>\n",
       "      <td>0.7</td>\n",
       "      <td>116</td>\n",
       "      <td>6</td>\n",
       "      <td>8</td>\n",
       "      <td>121</td>\n",
       "      <td>905</td>\n",
       "      <td>885</td>\n",
       "      <td>18</td>\n",
       "      <td>4</td>\n",
       "      <td>8</td>\n",
       "      <td>1</td>\n",
       "      <td>0</td>\n",
       "      <td>0</td>\n",
       "    </tr>\n",
       "    <tr>\n",
       "      <th>1999</th>\n",
       "      <td>1689</td>\n",
       "      <td>0</td>\n",
       "      <td>1.1</td>\n",
       "      <td>0</td>\n",
       "      <td>2</td>\n",
       "      <td>0</td>\n",
       "      <td>25</td>\n",
       "      <td>0.3</td>\n",
       "      <td>105</td>\n",
       "      <td>2</td>\n",
       "      <td>4</td>\n",
       "      <td>248</td>\n",
       "      <td>1342</td>\n",
       "      <td>3726</td>\n",
       "      <td>15</td>\n",
       "      <td>7</td>\n",
       "      <td>9</td>\n",
       "      <td>1</td>\n",
       "      <td>0</td>\n",
       "      <td>0</td>\n",
       "    </tr>\n",
       "  </tbody>\n",
       "</table>\n",
       "<p>2000 rows × 20 columns</p>\n",
       "</div>"
      ],
      "text/plain": [
       "      battery_power  blue  clock_speed  dual_sim  fc  four_g  int_memory  \\\n",
       "0              1076     1          2.2         0   3       1          53   \n",
       "1              1310     0          2.4         0   0       0          40   \n",
       "2              1915     0          1.1         0   6       0          30   \n",
       "3               587     0          1.4         0   9       1           8   \n",
       "4              1526     0          1.8         0   5       1          11   \n",
       "...             ...   ...          ...       ...  ..     ...         ...   \n",
       "1995           1841     0          0.9         0   0       1          13   \n",
       "1996           1064     1          1.8         1   0       0          12   \n",
       "1997           1448     0          1.4         1   0       0          22   \n",
       "1998           1085     0          2.4         0   3       1          38   \n",
       "1999           1689     0          1.1         0   2       0          25   \n",
       "\n",
       "      m_dep  mobile_wt  n_cores  pc  px_height  px_width   ram  sc_h  sc_w  \\\n",
       "0       0.1        114        6   6        127      1314  1003    16     9   \n",
       "1       0.5        118        5   0       1499      1687  3348     9     2   \n",
       "2       0.6        181        3   8        266      1754  3815    13     4   \n",
       "3       0.5        142        7  13        128       593  3182     9     7   \n",
       "4       0.1        131        1   7        150      1606   706    18     7   \n",
       "...     ...        ...      ...  ..        ...       ...   ...   ...   ...   \n",
       "1995    0.6        112        5   3       1311      1679  1645    15     9   \n",
       "1996    0.3        147        2   5        105       717  1509    16    10   \n",
       "1997    0.2        142        6   5        345       652  3807    11     7   \n",
       "1998    0.7        116        6   8        121       905   885    18     4   \n",
       "1999    0.3        105        2   4        248      1342  3726    15     7   \n",
       "\n",
       "      talk_time  three_g  touch_screen  wifi  \n",
       "0            10        1             0     0  \n",
       "1            13        0             0     1  \n",
       "2             7        0             0     0  \n",
       "3            10        1             0     0  \n",
       "4            18        1             1     0  \n",
       "...         ...      ...           ...   ...  \n",
       "1995         12        1             1     1  \n",
       "1996         14        0             0     0  \n",
       "1997          9        0             0     0  \n",
       "1998          8        1             0     0  \n",
       "1999          9        1             0     0  \n",
       "\n",
       "[2000 rows x 20 columns]"
      ]
     },
     "execution_count": 46,
     "metadata": {},
     "output_type": "execute_result"
    }
   ],
   "source": [
    "prep_test_df = test_df.drop(columns=[\"id\"])\n",
    "prep_test_df"
   ]
  },
  {
   "cell_type": "code",
   "execution_count": 47,
   "id": "921c30c2",
   "metadata": {
    "execution": {
     "iopub.execute_input": "2023-11-25T10:27:58.670283Z",
     "iopub.status.busy": "2023-11-25T10:27:58.669885Z",
     "iopub.status.idle": "2023-11-25T10:27:58.674722Z",
     "shell.execute_reply": "2023-11-25T10:27:58.673631Z"
    },
    "papermill": {
     "duration": 0.032393,
     "end_time": "2023-11-25T10:27:58.676873",
     "exception": false,
     "start_time": "2023-11-25T10:27:58.644480",
     "status": "completed"
    },
    "tags": []
   },
   "outputs": [],
   "source": [
    "transformed_column_names.remove('price_range')"
   ]
  },
  {
   "cell_type": "code",
   "execution_count": 48,
   "id": "a6933404",
   "metadata": {
    "execution": {
     "iopub.execute_input": "2023-11-25T10:27:58.726929Z",
     "iopub.status.busy": "2023-11-25T10:27:58.726410Z",
     "iopub.status.idle": "2023-11-25T10:27:58.739061Z",
     "shell.execute_reply": "2023-11-25T10:27:58.737910Z"
    },
    "papermill": {
     "duration": 0.040326,
     "end_time": "2023-11-25T10:27:58.741232",
     "exception": false,
     "start_time": "2023-11-25T10:27:58.700906",
     "status": "completed"
    },
    "tags": []
   },
   "outputs": [],
   "source": [
    "test_tf = full_pipeline.fit_transform(prep_test_df)\n",
    "test_tf_df = pd.DataFrame(test_tf, columns = transformed_column_names)\n",
    "# X_test = test_tf_df.drop(columns=['price_range'])\n",
    "X_test = test_tf_df.copy()"
   ]
  },
  {
   "cell_type": "code",
   "execution_count": 49,
   "id": "fa27fca2",
   "metadata": {
    "execution": {
     "iopub.execute_input": "2023-11-25T10:27:58.792800Z",
     "iopub.status.busy": "2023-11-25T10:27:58.792361Z",
     "iopub.status.idle": "2023-11-25T10:27:58.805896Z",
     "shell.execute_reply": "2023-11-25T10:27:58.804785Z"
    },
    "papermill": {
     "duration": 0.04261,
     "end_time": "2023-11-25T10:27:58.808106",
     "exception": false,
     "start_time": "2023-11-25T10:27:58.765496",
     "status": "completed"
    },
    "tags": []
   },
   "outputs": [
    {
     "data": {
      "text/html": [
       "<div>\n",
       "<style scoped>\n",
       "    .dataframe tbody tr th:only-of-type {\n",
       "        vertical-align: middle;\n",
       "    }\n",
       "\n",
       "    .dataframe tbody tr th {\n",
       "        vertical-align: top;\n",
       "    }\n",
       "\n",
       "    .dataframe thead th {\n",
       "        text-align: right;\n",
       "    }\n",
       "</style>\n",
       "<table border=\"1\" class=\"dataframe\">\n",
       "  <thead>\n",
       "    <tr style=\"text-align: right;\">\n",
       "      <th></th>\n",
       "      <th>battery_power</th>\n",
       "      <th>ram</th>\n",
       "      <th>px_area</th>\n",
       "    </tr>\n",
       "  </thead>\n",
       "  <tbody>\n",
       "    <tr>\n",
       "      <th>0</th>\n",
       "      <td>6.690842</td>\n",
       "      <td>7.614805</td>\n",
       "      <td>13.270720</td>\n",
       "    </tr>\n",
       "    <tr>\n",
       "      <th>1</th>\n",
       "      <td>6.949856</td>\n",
       "      <td>7.946971</td>\n",
       "      <td>11.145117</td>\n",
       "    </tr>\n",
       "    <tr>\n",
       "      <th>2</th>\n",
       "      <td>7.301148</td>\n",
       "      <td>7.877018</td>\n",
       "      <td>11.775128</td>\n",
       "    </tr>\n",
       "    <tr>\n",
       "      <th>3</th>\n",
       "      <td>7.007601</td>\n",
       "      <td>7.114769</td>\n",
       "      <td>13.735049</td>\n",
       "    </tr>\n",
       "    <tr>\n",
       "      <th>4</th>\n",
       "      <td>6.481577</td>\n",
       "      <td>6.338594</td>\n",
       "      <td>12.800462</td>\n",
       "    </tr>\n",
       "    <tr>\n",
       "      <th>...</th>\n",
       "      <td>...</td>\n",
       "      <td>...</td>\n",
       "      <td>...</td>\n",
       "    </tr>\n",
       "    <tr>\n",
       "      <th>1395</th>\n",
       "      <td>6.285998</td>\n",
       "      <td>7.100027</td>\n",
       "      <td>12.862649</td>\n",
       "    </tr>\n",
       "    <tr>\n",
       "      <th>1396</th>\n",
       "      <td>7.001246</td>\n",
       "      <td>7.705262</td>\n",
       "      <td>14.361610</td>\n",
       "    </tr>\n",
       "    <tr>\n",
       "      <th>1397</th>\n",
       "      <td>7.073270</td>\n",
       "      <td>5.831882</td>\n",
       "      <td>11.722668</td>\n",
       "    </tr>\n",
       "    <tr>\n",
       "      <th>1398</th>\n",
       "      <td>6.579251</td>\n",
       "      <td>8.291797</td>\n",
       "      <td>13.520251</td>\n",
       "    </tr>\n",
       "    <tr>\n",
       "      <th>1399</th>\n",
       "      <td>7.272398</td>\n",
       "      <td>7.490529</td>\n",
       "      <td>13.276685</td>\n",
       "    </tr>\n",
       "  </tbody>\n",
       "</table>\n",
       "<p>1400 rows × 3 columns</p>\n",
       "</div>"
      ],
      "text/plain": [
       "      battery_power       ram    px_area\n",
       "0          6.690842  7.614805  13.270720\n",
       "1          6.949856  7.946971  11.145117\n",
       "2          7.301148  7.877018  11.775128\n",
       "3          7.007601  7.114769  13.735049\n",
       "4          6.481577  6.338594  12.800462\n",
       "...             ...       ...        ...\n",
       "1395       6.285998  7.100027  12.862649\n",
       "1396       7.001246  7.705262  14.361610\n",
       "1397       7.073270  5.831882  11.722668\n",
       "1398       6.579251  8.291797  13.520251\n",
       "1399       7.272398  7.490529  13.276685\n",
       "\n",
       "[1400 rows x 3 columns]"
      ]
     },
     "execution_count": 49,
     "metadata": {},
     "output_type": "execute_result"
    }
   ],
   "source": [
    "X_train"
   ]
  },
  {
   "cell_type": "code",
   "execution_count": 50,
   "id": "153d8255",
   "metadata": {
    "execution": {
     "iopub.execute_input": "2023-11-25T10:27:58.859191Z",
     "iopub.status.busy": "2023-11-25T10:27:58.858727Z",
     "iopub.status.idle": "2023-11-25T10:27:58.872953Z",
     "shell.execute_reply": "2023-11-25T10:27:58.871660Z"
    },
    "papermill": {
     "duration": 0.04287,
     "end_time": "2023-11-25T10:27:58.875380",
     "exception": false,
     "start_time": "2023-11-25T10:27:58.832510",
     "status": "completed"
    },
    "tags": []
   },
   "outputs": [
    {
     "data": {
      "text/html": [
       "<div>\n",
       "<style scoped>\n",
       "    .dataframe tbody tr th:only-of-type {\n",
       "        vertical-align: middle;\n",
       "    }\n",
       "\n",
       "    .dataframe tbody tr th {\n",
       "        vertical-align: top;\n",
       "    }\n",
       "\n",
       "    .dataframe thead th {\n",
       "        text-align: right;\n",
       "    }\n",
       "</style>\n",
       "<table border=\"1\" class=\"dataframe\">\n",
       "  <thead>\n",
       "    <tr style=\"text-align: right;\">\n",
       "      <th></th>\n",
       "      <th>battery_power</th>\n",
       "      <th>ram</th>\n",
       "      <th>px_area</th>\n",
       "    </tr>\n",
       "  </thead>\n",
       "  <tbody>\n",
       "    <tr>\n",
       "      <th>0</th>\n",
       "      <td>6.981935</td>\n",
       "      <td>6.911747</td>\n",
       "      <td>12.025024</td>\n",
       "    </tr>\n",
       "    <tr>\n",
       "      <th>1</th>\n",
       "      <td>7.178545</td>\n",
       "      <td>8.116417</td>\n",
       "      <td>14.743261</td>\n",
       "    </tr>\n",
       "    <tr>\n",
       "      <th>2</th>\n",
       "      <td>7.557995</td>\n",
       "      <td>8.246958</td>\n",
       "      <td>13.053153</td>\n",
       "    </tr>\n",
       "    <tr>\n",
       "      <th>3</th>\n",
       "      <td>6.376727</td>\n",
       "      <td>8.065579</td>\n",
       "      <td>11.237238</td>\n",
       "    </tr>\n",
       "    <tr>\n",
       "      <th>4</th>\n",
       "      <td>7.331060</td>\n",
       "      <td>6.561031</td>\n",
       "      <td>12.392141</td>\n",
       "    </tr>\n",
       "    <tr>\n",
       "      <th>...</th>\n",
       "      <td>...</td>\n",
       "      <td>...</td>\n",
       "      <td>...</td>\n",
       "    </tr>\n",
       "    <tr>\n",
       "      <th>1995</th>\n",
       "      <td>7.518607</td>\n",
       "      <td>7.406103</td>\n",
       "      <td>14.604500</td>\n",
       "    </tr>\n",
       "    <tr>\n",
       "      <th>1996</th>\n",
       "      <td>6.970730</td>\n",
       "      <td>7.319865</td>\n",
       "      <td>11.229049</td>\n",
       "    </tr>\n",
       "    <tr>\n",
       "      <th>1997</th>\n",
       "      <td>7.278629</td>\n",
       "      <td>8.244859</td>\n",
       "      <td>12.323593</td>\n",
       "    </tr>\n",
       "    <tr>\n",
       "      <th>1998</th>\n",
       "      <td>6.990257</td>\n",
       "      <td>6.786717</td>\n",
       "      <td>11.603735</td>\n",
       "    </tr>\n",
       "    <tr>\n",
       "      <th>1999</th>\n",
       "      <td>7.432484</td>\n",
       "      <td>8.223359</td>\n",
       "      <td>12.715348</td>\n",
       "    </tr>\n",
       "  </tbody>\n",
       "</table>\n",
       "<p>2000 rows × 3 columns</p>\n",
       "</div>"
      ],
      "text/plain": [
       "      battery_power       ram    px_area\n",
       "0          6.981935  6.911747  12.025024\n",
       "1          7.178545  8.116417  14.743261\n",
       "2          7.557995  8.246958  13.053153\n",
       "3          6.376727  8.065579  11.237238\n",
       "4          7.331060  6.561031  12.392141\n",
       "...             ...       ...        ...\n",
       "1995       7.518607  7.406103  14.604500\n",
       "1996       6.970730  7.319865  11.229049\n",
       "1997       7.278629  8.244859  12.323593\n",
       "1998       6.990257  6.786717  11.603735\n",
       "1999       7.432484  8.223359  12.715348\n",
       "\n",
       "[2000 rows x 3 columns]"
      ]
     },
     "execution_count": 50,
     "metadata": {},
     "output_type": "execute_result"
    }
   ],
   "source": [
    "X_test"
   ]
  },
  {
   "cell_type": "code",
   "execution_count": 51,
   "id": "9a1bb05b",
   "metadata": {
    "execution": {
     "iopub.execute_input": "2023-11-25T10:27:58.926642Z",
     "iopub.status.busy": "2023-11-25T10:27:58.926287Z",
     "iopub.status.idle": "2023-11-25T10:28:25.756481Z",
     "shell.execute_reply": "2023-11-25T10:28:25.755365Z"
    },
    "papermill": {
     "duration": 26.858987,
     "end_time": "2023-11-25T10:28:25.759130",
     "exception": false,
     "start_time": "2023-11-25T10:27:58.900143",
     "status": "completed"
    },
    "tags": []
   },
   "outputs": [
    {
     "data": {
      "text/plain": [
       "array([0, 3, 3, ..., 3, 0, 3])"
      ]
     },
     "execution_count": 51,
     "metadata": {},
     "output_type": "execute_result"
    }
   ],
   "source": [
    "y_submit = knn.predict(X_test)\n",
    "y_submit"
   ]
  },
  {
   "cell_type": "code",
   "execution_count": 52,
   "id": "9d94c72f",
   "metadata": {
    "execution": {
     "iopub.execute_input": "2023-11-25T10:28:25.811610Z",
     "iopub.status.busy": "2023-11-25T10:28:25.811184Z",
     "iopub.status.idle": "2023-11-25T10:28:25.822831Z",
     "shell.execute_reply": "2023-11-25T10:28:25.822082Z"
    },
    "papermill": {
     "duration": 0.040821,
     "end_time": "2023-11-25T10:28:25.824782",
     "exception": false,
     "start_time": "2023-11-25T10:28:25.783961",
     "status": "completed"
    },
    "tags": []
   },
   "outputs": [
    {
     "data": {
      "text/html": [
       "<div>\n",
       "<style scoped>\n",
       "    .dataframe tbody tr th:only-of-type {\n",
       "        vertical-align: middle;\n",
       "    }\n",
       "\n",
       "    .dataframe tbody tr th {\n",
       "        vertical-align: top;\n",
       "    }\n",
       "\n",
       "    .dataframe thead th {\n",
       "        text-align: right;\n",
       "    }\n",
       "</style>\n",
       "<table border=\"1\" class=\"dataframe\">\n",
       "  <thead>\n",
       "    <tr style=\"text-align: right;\">\n",
       "      <th></th>\n",
       "      <th>id</th>\n",
       "      <th>price_range</th>\n",
       "    </tr>\n",
       "  </thead>\n",
       "  <tbody>\n",
       "    <tr>\n",
       "      <th>0</th>\n",
       "      <td>0</td>\n",
       "      <td>0</td>\n",
       "    </tr>\n",
       "    <tr>\n",
       "      <th>1</th>\n",
       "      <td>1</td>\n",
       "      <td>3</td>\n",
       "    </tr>\n",
       "    <tr>\n",
       "      <th>2</th>\n",
       "      <td>2</td>\n",
       "      <td>3</td>\n",
       "    </tr>\n",
       "    <tr>\n",
       "      <th>3</th>\n",
       "      <td>3</td>\n",
       "      <td>2</td>\n",
       "    </tr>\n",
       "    <tr>\n",
       "      <th>4</th>\n",
       "      <td>4</td>\n",
       "      <td>0</td>\n",
       "    </tr>\n",
       "    <tr>\n",
       "      <th>...</th>\n",
       "      <td>...</td>\n",
       "      <td>...</td>\n",
       "    </tr>\n",
       "    <tr>\n",
       "      <th>1995</th>\n",
       "      <td>1995</td>\n",
       "      <td>2</td>\n",
       "    </tr>\n",
       "    <tr>\n",
       "      <th>1996</th>\n",
       "      <td>1996</td>\n",
       "      <td>1</td>\n",
       "    </tr>\n",
       "    <tr>\n",
       "      <th>1997</th>\n",
       "      <td>1997</td>\n",
       "      <td>3</td>\n",
       "    </tr>\n",
       "    <tr>\n",
       "      <th>1998</th>\n",
       "      <td>1998</td>\n",
       "      <td>0</td>\n",
       "    </tr>\n",
       "    <tr>\n",
       "      <th>1999</th>\n",
       "      <td>1999</td>\n",
       "      <td>3</td>\n",
       "    </tr>\n",
       "  </tbody>\n",
       "</table>\n",
       "<p>2000 rows × 2 columns</p>\n",
       "</div>"
      ],
      "text/plain": [
       "        id  price_range\n",
       "0        0            0\n",
       "1        1            3\n",
       "2        2            3\n",
       "3        3            2\n",
       "4        4            0\n",
       "...    ...          ...\n",
       "1995  1995            2\n",
       "1996  1996            1\n",
       "1997  1997            3\n",
       "1998  1998            0\n",
       "1999  1999            3\n",
       "\n",
       "[2000 rows x 2 columns]"
      ]
     },
     "execution_count": 52,
     "metadata": {},
     "output_type": "execute_result"
    }
   ],
   "source": [
    "y_submit_df =  pd.DataFrame(y_submit, columns=[\"price_range\"])\n",
    "submit = pd.concat([id_test, y_submit_df], axis = 1)\n",
    "submit"
   ]
  },
  {
   "cell_type": "code",
   "execution_count": 53,
   "id": "059e1001",
   "metadata": {
    "execution": {
     "iopub.execute_input": "2023-11-25T10:28:25.878638Z",
     "iopub.status.busy": "2023-11-25T10:28:25.877830Z",
     "iopub.status.idle": "2023-11-25T10:28:25.884797Z",
     "shell.execute_reply": "2023-11-25T10:28:25.883616Z"
    },
    "papermill": {
     "duration": 0.046426,
     "end_time": "2023-11-25T10:28:25.896642",
     "exception": false,
     "start_time": "2023-11-25T10:28:25.850216",
     "status": "completed"
    },
    "tags": []
   },
   "outputs": [],
   "source": [
    "y_submit_df['price_range'] = y_submit_df['price_range'].astype(int)\n",
    "submit = pd.concat([id_test, y_submit_df], axis=1)"
   ]
  },
  {
   "cell_type": "code",
   "execution_count": 54,
   "id": "991a1790",
   "metadata": {
    "execution": {
     "iopub.execute_input": "2023-11-25T10:28:25.949554Z",
     "iopub.status.busy": "2023-11-25T10:28:25.948855Z",
     "iopub.status.idle": "2023-11-25T10:28:25.958768Z",
     "shell.execute_reply": "2023-11-25T10:28:25.958030Z"
    },
    "papermill": {
     "duration": 0.03917,
     "end_time": "2023-11-25T10:28:25.960791",
     "exception": false,
     "start_time": "2023-11-25T10:28:25.921621",
     "status": "completed"
    },
    "tags": []
   },
   "outputs": [
    {
     "data": {
      "text/html": [
       "<div>\n",
       "<style scoped>\n",
       "    .dataframe tbody tr th:only-of-type {\n",
       "        vertical-align: middle;\n",
       "    }\n",
       "\n",
       "    .dataframe tbody tr th {\n",
       "        vertical-align: top;\n",
       "    }\n",
       "\n",
       "    .dataframe thead th {\n",
       "        text-align: right;\n",
       "    }\n",
       "</style>\n",
       "<table border=\"1\" class=\"dataframe\">\n",
       "  <thead>\n",
       "    <tr style=\"text-align: right;\">\n",
       "      <th></th>\n",
       "      <th>id</th>\n",
       "      <th>price_range</th>\n",
       "    </tr>\n",
       "  </thead>\n",
       "  <tbody>\n",
       "    <tr>\n",
       "      <th>0</th>\n",
       "      <td>0</td>\n",
       "      <td>0</td>\n",
       "    </tr>\n",
       "    <tr>\n",
       "      <th>1</th>\n",
       "      <td>1</td>\n",
       "      <td>3</td>\n",
       "    </tr>\n",
       "    <tr>\n",
       "      <th>2</th>\n",
       "      <td>2</td>\n",
       "      <td>3</td>\n",
       "    </tr>\n",
       "    <tr>\n",
       "      <th>3</th>\n",
       "      <td>3</td>\n",
       "      <td>2</td>\n",
       "    </tr>\n",
       "    <tr>\n",
       "      <th>4</th>\n",
       "      <td>4</td>\n",
       "      <td>0</td>\n",
       "    </tr>\n",
       "    <tr>\n",
       "      <th>...</th>\n",
       "      <td>...</td>\n",
       "      <td>...</td>\n",
       "    </tr>\n",
       "    <tr>\n",
       "      <th>1995</th>\n",
       "      <td>1995</td>\n",
       "      <td>2</td>\n",
       "    </tr>\n",
       "    <tr>\n",
       "      <th>1996</th>\n",
       "      <td>1996</td>\n",
       "      <td>1</td>\n",
       "    </tr>\n",
       "    <tr>\n",
       "      <th>1997</th>\n",
       "      <td>1997</td>\n",
       "      <td>3</td>\n",
       "    </tr>\n",
       "    <tr>\n",
       "      <th>1998</th>\n",
       "      <td>1998</td>\n",
       "      <td>0</td>\n",
       "    </tr>\n",
       "    <tr>\n",
       "      <th>1999</th>\n",
       "      <td>1999</td>\n",
       "      <td>3</td>\n",
       "    </tr>\n",
       "  </tbody>\n",
       "</table>\n",
       "<p>2000 rows × 2 columns</p>\n",
       "</div>"
      ],
      "text/plain": [
       "        id  price_range\n",
       "0        0            0\n",
       "1        1            3\n",
       "2        2            3\n",
       "3        3            2\n",
       "4        4            0\n",
       "...    ...          ...\n",
       "1995  1995            2\n",
       "1996  1996            1\n",
       "1997  1997            3\n",
       "1998  1998            0\n",
       "1999  1999            3\n",
       "\n",
       "[2000 rows x 2 columns]"
      ]
     },
     "execution_count": 54,
     "metadata": {},
     "output_type": "execute_result"
    }
   ],
   "source": [
    "submit"
   ]
  },
  {
   "cell_type": "code",
   "execution_count": 55,
   "id": "ee298053",
   "metadata": {
    "execution": {
     "iopub.execute_input": "2023-11-25T10:28:26.013573Z",
     "iopub.status.busy": "2023-11-25T10:28:26.013180Z",
     "iopub.status.idle": "2023-11-25T10:28:26.018989Z",
     "shell.execute_reply": "2023-11-25T10:28:26.018237Z"
    },
    "papermill": {
     "duration": 0.035861,
     "end_time": "2023-11-25T10:28:26.021562",
     "exception": false,
     "start_time": "2023-11-25T10:28:25.985701",
     "status": "completed"
    },
    "tags": []
   },
   "outputs": [],
   "source": [
    "# submit.to_csv('submission_13.csv', index=False)"
   ]
  }
 ],
 "metadata": {
  "kaggle": {
   "accelerator": "none",
   "dataSources": [
    {
     "datasetId": 3939900,
     "sourceId": 6945763,
     "sourceType": "datasetVersion"
    }
   ],
   "dockerImageVersionId": 30558,
   "isGpuEnabled": false,
   "isInternetEnabled": true,
   "language": "python",
   "sourceType": "notebook"
  },
  "kernelspec": {
   "display_name": "Python 3",
   "language": "python",
   "name": "python3"
  },
  "language_info": {
   "codemirror_mode": {
    "name": "ipython",
    "version": 3
   },
   "file_extension": ".py",
   "mimetype": "text/x-python",
   "name": "python",
   "nbconvert_exporter": "python",
   "pygments_lexer": "ipython3",
   "version": "3.10.12"
  },
  "papermill": {
   "default_parameters": {},
   "duration": 61.526427,
   "end_time": "2023-11-25T10:28:26.768687",
   "environment_variables": {},
   "exception": null,
   "input_path": "__notebook__.ipynb",
   "output_path": "__notebook__.ipynb",
   "parameters": {},
   "start_time": "2023-11-25T10:27:25.242260",
   "version": "2.4.0"
  }
 },
 "nbformat": 4,
 "nbformat_minor": 5
}
