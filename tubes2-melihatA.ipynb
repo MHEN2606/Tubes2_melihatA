{
 "cells": [
  {
   "cell_type": "code",
   "execution_count": 1,
   "id": "c220ebee",
   "metadata": {
    "_cell_guid": "b1076dfc-b9ad-4769-8c92-a6c4dae69d19",
    "_uuid": "8f2839f25d086af736a60e9eeb907d3b93b6e0e5",
    "execution": {
     "iopub.execute_input": "2023-11-11T07:04:53.851352Z",
     "iopub.status.busy": "2023-11-11T07:04:53.850066Z",
     "iopub.status.idle": "2023-11-11T07:04:57.226452Z",
     "shell.execute_reply": "2023-11-11T07:04:57.224531Z"
    },
    "papermill": {
     "duration": 3.391634,
     "end_time": "2023-11-11T07:04:57.229563",
     "exception": false,
     "start_time": "2023-11-11T07:04:53.837929",
     "status": "completed"
    },
    "tags": []
   },
   "outputs": [
    {
     "name": "stdout",
     "output_type": "stream",
     "text": [
      "/kaggle/input/data-komputer-if3170/data_train.csv\n",
      "/kaggle/input/data-komputer-if3170/data_validation.csv\n"
     ]
    }
   ],
   "source": [
    "# This Python 3 environment comes with many helpful analytics libraries installed\n",
    "# It is defined by the kaggle/python Docker image: https://github.com/kaggle/docker-python\n",
    "# For example, here's several helpful packages to load\n",
    "\n",
    "import numpy as np # linear algebra\n",
    "import pandas as pd # data processing, CSV file I/O (e.g. pd.read_csv)\n",
    "import matplotlib.pyplot as plt\n",
    "import seaborn as sns\n",
    "\n",
    "from sklearn.neighbors import KNeighborsClassifier\n",
    "from sklearn.naive_bayes import GaussianNB\n",
    "from sklearn.preprocessing import MinMaxScaler, Normalizer\n",
    "from sklearn.pipeline import Pipeline\n",
    "from sklearn.metrics import confusion_matrix, ConfusionMatrixDisplay\n",
    "from sklearn.base import BaseEstimator, TransformerMixin\n",
    "from sklearn.compose import ColumnTransformer\n",
    "from sklearn.metrics import mean_squared_error\n",
    "from sklearn.model_selection import cross_val_score\n",
    "import joblib\n",
    "\n",
    "# Input data files are available in the read-only \"../input/\" directory\n",
    "# For example, running this (by clicking run or pressing Shift+Enter) will list all files under the input directory\n",
    "\n",
    "import os\n",
    "for dirname, _, filenames in os.walk('/kaggle/input'):\n",
    "    for filename in filenames:\n",
    "        print(os.path.join(dirname, filename))\n",
    "\n",
    "# You can write up to 20GB to the current directory (/kaggle/working/) that gets preserved as output when you create a version using \"Save & Run All\" \n",
    "# You can also write temporary files to /kaggle/temp/, but they won't be saved outside of the current session"
   ]
  },
  {
   "cell_type": "markdown",
   "id": "3071759e",
   "metadata": {
    "papermill": {
     "duration": 0.009635,
     "end_time": "2023-11-11T07:04:57.249314",
     "exception": false,
     "start_time": "2023-11-11T07:04:57.239679",
     "status": "completed"
    },
    "tags": []
   },
   "source": [
    "# Setup"
   ]
  },
  {
   "cell_type": "code",
   "execution_count": 2,
   "id": "270eeb97",
   "metadata": {
    "execution": {
     "iopub.execute_input": "2023-11-11T07:04:57.270781Z",
     "iopub.status.busy": "2023-11-11T07:04:57.270138Z",
     "iopub.status.idle": "2023-11-11T07:04:57.340213Z",
     "shell.execute_reply": "2023-11-11T07:04:57.338812Z"
    },
    "papermill": {
     "duration": 0.084005,
     "end_time": "2023-11-11T07:04:57.342909",
     "exception": false,
     "start_time": "2023-11-11T07:04:57.258904",
     "status": "completed"
    },
    "tags": []
   },
   "outputs": [
    {
     "data": {
      "text/html": [
       "<div>\n",
       "<style scoped>\n",
       "    .dataframe tbody tr th:only-of-type {\n",
       "        vertical-align: middle;\n",
       "    }\n",
       "\n",
       "    .dataframe tbody tr th {\n",
       "        vertical-align: top;\n",
       "    }\n",
       "\n",
       "    .dataframe thead th {\n",
       "        text-align: right;\n",
       "    }\n",
       "</style>\n",
       "<table border=\"1\" class=\"dataframe\">\n",
       "  <thead>\n",
       "    <tr style=\"text-align: right;\">\n",
       "      <th></th>\n",
       "      <th>battery_power</th>\n",
       "      <th>blue</th>\n",
       "      <th>clock_speed</th>\n",
       "      <th>dual_sim</th>\n",
       "      <th>fc</th>\n",
       "      <th>four_g</th>\n",
       "      <th>int_memory</th>\n",
       "      <th>m_dep</th>\n",
       "      <th>mobile_wt</th>\n",
       "      <th>n_cores</th>\n",
       "      <th>...</th>\n",
       "      <th>px_height</th>\n",
       "      <th>px_width</th>\n",
       "      <th>ram</th>\n",
       "      <th>sc_h</th>\n",
       "      <th>sc_w</th>\n",
       "      <th>talk_time</th>\n",
       "      <th>three_g</th>\n",
       "      <th>touch_screen</th>\n",
       "      <th>wifi</th>\n",
       "      <th>price_range</th>\n",
       "    </tr>\n",
       "  </thead>\n",
       "  <tbody>\n",
       "    <tr>\n",
       "      <th>0</th>\n",
       "      <td>804</td>\n",
       "      <td>1</td>\n",
       "      <td>0.8</td>\n",
       "      <td>1</td>\n",
       "      <td>12</td>\n",
       "      <td>1</td>\n",
       "      <td>41</td>\n",
       "      <td>0.9</td>\n",
       "      <td>89</td>\n",
       "      <td>1</td>\n",
       "      <td>...</td>\n",
       "      <td>709</td>\n",
       "      <td>818</td>\n",
       "      <td>2027</td>\n",
       "      <td>11</td>\n",
       "      <td>5</td>\n",
       "      <td>11</td>\n",
       "      <td>1</td>\n",
       "      <td>0</td>\n",
       "      <td>0</td>\n",
       "      <td>1</td>\n",
       "    </tr>\n",
       "    <tr>\n",
       "      <th>1</th>\n",
       "      <td>1042</td>\n",
       "      <td>0</td>\n",
       "      <td>2.2</td>\n",
       "      <td>0</td>\n",
       "      <td>15</td>\n",
       "      <td>1</td>\n",
       "      <td>11</td>\n",
       "      <td>0.6</td>\n",
       "      <td>139</td>\n",
       "      <td>5</td>\n",
       "      <td>...</td>\n",
       "      <td>68</td>\n",
       "      <td>1018</td>\n",
       "      <td>2826</td>\n",
       "      <td>18</td>\n",
       "      <td>0</td>\n",
       "      <td>2</td>\n",
       "      <td>1</td>\n",
       "      <td>0</td>\n",
       "      <td>0</td>\n",
       "      <td>2</td>\n",
       "    </tr>\n",
       "    <tr>\n",
       "      <th>2</th>\n",
       "      <td>1481</td>\n",
       "      <td>1</td>\n",
       "      <td>2.0</td>\n",
       "      <td>1</td>\n",
       "      <td>0</td>\n",
       "      <td>0</td>\n",
       "      <td>35</td>\n",
       "      <td>0.5</td>\n",
       "      <td>105</td>\n",
       "      <td>3</td>\n",
       "      <td>...</td>\n",
       "      <td>249</td>\n",
       "      <td>522</td>\n",
       "      <td>2635</td>\n",
       "      <td>17</td>\n",
       "      <td>16</td>\n",
       "      <td>4</td>\n",
       "      <td>1</td>\n",
       "      <td>0</td>\n",
       "      <td>1</td>\n",
       "      <td>2</td>\n",
       "    </tr>\n",
       "    <tr>\n",
       "      <th>3</th>\n",
       "      <td>1104</td>\n",
       "      <td>0</td>\n",
       "      <td>1.7</td>\n",
       "      <td>0</td>\n",
       "      <td>1</td>\n",
       "      <td>1</td>\n",
       "      <td>60</td>\n",
       "      <td>0.4</td>\n",
       "      <td>199</td>\n",
       "      <td>2</td>\n",
       "      <td>...</td>\n",
       "      <td>653</td>\n",
       "      <td>1413</td>\n",
       "      <td>1229</td>\n",
       "      <td>6</td>\n",
       "      <td>0</td>\n",
       "      <td>3</td>\n",
       "      <td>1</td>\n",
       "      <td>1</td>\n",
       "      <td>1</td>\n",
       "      <td>0</td>\n",
       "    </tr>\n",
       "    <tr>\n",
       "      <th>4</th>\n",
       "      <td>652</td>\n",
       "      <td>0</td>\n",
       "      <td>0.5</td>\n",
       "      <td>1</td>\n",
       "      <td>1</td>\n",
       "      <td>0</td>\n",
       "      <td>58</td>\n",
       "      <td>0.6</td>\n",
       "      <td>142</td>\n",
       "      <td>3</td>\n",
       "      <td>...</td>\n",
       "      <td>464</td>\n",
       "      <td>781</td>\n",
       "      <td>565</td>\n",
       "      <td>18</td>\n",
       "      <td>12</td>\n",
       "      <td>9</td>\n",
       "      <td>0</td>\n",
       "      <td>0</td>\n",
       "      <td>1</td>\n",
       "      <td>0</td>\n",
       "    </tr>\n",
       "    <tr>\n",
       "      <th>...</th>\n",
       "      <td>...</td>\n",
       "      <td>...</td>\n",
       "      <td>...</td>\n",
       "      <td>...</td>\n",
       "      <td>...</td>\n",
       "      <td>...</td>\n",
       "      <td>...</td>\n",
       "      <td>...</td>\n",
       "      <td>...</td>\n",
       "      <td>...</td>\n",
       "      <td>...</td>\n",
       "      <td>...</td>\n",
       "      <td>...</td>\n",
       "      <td>...</td>\n",
       "      <td>...</td>\n",
       "      <td>...</td>\n",
       "      <td>...</td>\n",
       "      <td>...</td>\n",
       "      <td>...</td>\n",
       "      <td>...</td>\n",
       "      <td>...</td>\n",
       "    </tr>\n",
       "    <tr>\n",
       "      <th>1395</th>\n",
       "      <td>536</td>\n",
       "      <td>1</td>\n",
       "      <td>1.4</td>\n",
       "      <td>0</td>\n",
       "      <td>0</td>\n",
       "      <td>1</td>\n",
       "      <td>53</td>\n",
       "      <td>0.7</td>\n",
       "      <td>135</td>\n",
       "      <td>3</td>\n",
       "      <td>...</td>\n",
       "      <td>547</td>\n",
       "      <td>705</td>\n",
       "      <td>1211</td>\n",
       "      <td>15</td>\n",
       "      <td>10</td>\n",
       "      <td>7</td>\n",
       "      <td>1</td>\n",
       "      <td>0</td>\n",
       "      <td>1</td>\n",
       "      <td>0</td>\n",
       "    </tr>\n",
       "    <tr>\n",
       "      <th>1396</th>\n",
       "      <td>1097</td>\n",
       "      <td>0</td>\n",
       "      <td>0.8</td>\n",
       "      <td>0</td>\n",
       "      <td>10</td>\n",
       "      <td>1</td>\n",
       "      <td>21</td>\n",
       "      <td>0.1</td>\n",
       "      <td>160</td>\n",
       "      <td>7</td>\n",
       "      <td>...</td>\n",
       "      <td>1277</td>\n",
       "      <td>1352</td>\n",
       "      <td>2219</td>\n",
       "      <td>15</td>\n",
       "      <td>6</td>\n",
       "      <td>12</td>\n",
       "      <td>1</td>\n",
       "      <td>0</td>\n",
       "      <td>1</td>\n",
       "      <td>2</td>\n",
       "    </tr>\n",
       "    <tr>\n",
       "      <th>1397</th>\n",
       "      <td>1179</td>\n",
       "      <td>1</td>\n",
       "      <td>0.5</td>\n",
       "      <td>0</td>\n",
       "      <td>7</td>\n",
       "      <td>1</td>\n",
       "      <td>32</td>\n",
       "      <td>0.3</td>\n",
       "      <td>182</td>\n",
       "      <td>2</td>\n",
       "      <td>...</td>\n",
       "      <td>85</td>\n",
       "      <td>1451</td>\n",
       "      <td>340</td>\n",
       "      <td>16</td>\n",
       "      <td>5</td>\n",
       "      <td>16</td>\n",
       "      <td>1</td>\n",
       "      <td>0</td>\n",
       "      <td>0</td>\n",
       "      <td>0</td>\n",
       "    </tr>\n",
       "    <tr>\n",
       "      <th>1398</th>\n",
       "      <td>719</td>\n",
       "      <td>1</td>\n",
       "      <td>0.5</td>\n",
       "      <td>1</td>\n",
       "      <td>0</td>\n",
       "      <td>1</td>\n",
       "      <td>23</td>\n",
       "      <td>0.4</td>\n",
       "      <td>113</td>\n",
       "      <td>6</td>\n",
       "      <td>...</td>\n",
       "      <td>431</td>\n",
       "      <td>1727</td>\n",
       "      <td>3990</td>\n",
       "      <td>14</td>\n",
       "      <td>9</td>\n",
       "      <td>12</td>\n",
       "      <td>1</td>\n",
       "      <td>1</td>\n",
       "      <td>1</td>\n",
       "      <td>3</td>\n",
       "    </tr>\n",
       "    <tr>\n",
       "      <th>1399</th>\n",
       "      <td>1439</td>\n",
       "      <td>0</td>\n",
       "      <td>0.9</td>\n",
       "      <td>0</td>\n",
       "      <td>12</td>\n",
       "      <td>1</td>\n",
       "      <td>20</td>\n",
       "      <td>0.8</td>\n",
       "      <td>147</td>\n",
       "      <td>1</td>\n",
       "      <td>...</td>\n",
       "      <td>626</td>\n",
       "      <td>932</td>\n",
       "      <td>1790</td>\n",
       "      <td>19</td>\n",
       "      <td>12</td>\n",
       "      <td>15</td>\n",
       "      <td>1</td>\n",
       "      <td>0</td>\n",
       "      <td>1</td>\n",
       "      <td>1</td>\n",
       "    </tr>\n",
       "  </tbody>\n",
       "</table>\n",
       "<p>1400 rows × 21 columns</p>\n",
       "</div>"
      ],
      "text/plain": [
       "      battery_power  blue  clock_speed  dual_sim  fc  four_g  int_memory  \\\n",
       "0               804     1          0.8         1  12       1          41   \n",
       "1              1042     0          2.2         0  15       1          11   \n",
       "2              1481     1          2.0         1   0       0          35   \n",
       "3              1104     0          1.7         0   1       1          60   \n",
       "4               652     0          0.5         1   1       0          58   \n",
       "...             ...   ...          ...       ...  ..     ...         ...   \n",
       "1395            536     1          1.4         0   0       1          53   \n",
       "1396           1097     0          0.8         0  10       1          21   \n",
       "1397           1179     1          0.5         0   7       1          32   \n",
       "1398            719     1          0.5         1   0       1          23   \n",
       "1399           1439     0          0.9         0  12       1          20   \n",
       "\n",
       "      m_dep  mobile_wt  n_cores  ...  px_height  px_width   ram  sc_h  sc_w  \\\n",
       "0       0.9         89        1  ...        709       818  2027    11     5   \n",
       "1       0.6        139        5  ...         68      1018  2826    18     0   \n",
       "2       0.5        105        3  ...        249       522  2635    17    16   \n",
       "3       0.4        199        2  ...        653      1413  1229     6     0   \n",
       "4       0.6        142        3  ...        464       781   565    18    12   \n",
       "...     ...        ...      ...  ...        ...       ...   ...   ...   ...   \n",
       "1395    0.7        135        3  ...        547       705  1211    15    10   \n",
       "1396    0.1        160        7  ...       1277      1352  2219    15     6   \n",
       "1397    0.3        182        2  ...         85      1451   340    16     5   \n",
       "1398    0.4        113        6  ...        431      1727  3990    14     9   \n",
       "1399    0.8        147        1  ...        626       932  1790    19    12   \n",
       "\n",
       "      talk_time  three_g  touch_screen  wifi  price_range  \n",
       "0            11        1             0     0            1  \n",
       "1             2        1             0     0            2  \n",
       "2             4        1             0     1            2  \n",
       "3             3        1             1     1            0  \n",
       "4             9        0             0     1            0  \n",
       "...         ...      ...           ...   ...          ...  \n",
       "1395          7        1             0     1            0  \n",
       "1396         12        1             0     1            2  \n",
       "1397         16        1             0     0            0  \n",
       "1398         12        1             1     1            3  \n",
       "1399         15        1             0     1            1  \n",
       "\n",
       "[1400 rows x 21 columns]"
      ]
     },
     "execution_count": 2,
     "metadata": {},
     "output_type": "execute_result"
    }
   ],
   "source": [
    "train_df = pd.read_csv(\"/kaggle/input/data-komputer-if3170/data_train.csv\")\n",
    "train_df"
   ]
  },
  {
   "cell_type": "code",
   "execution_count": 3,
   "id": "2fe74430",
   "metadata": {
    "execution": {
     "iopub.execute_input": "2023-11-11T07:04:57.365452Z",
     "iopub.status.busy": "2023-11-11T07:04:57.364898Z",
     "iopub.status.idle": "2023-11-11T07:04:57.400336Z",
     "shell.execute_reply": "2023-11-11T07:04:57.398868Z"
    },
    "papermill": {
     "duration": 0.050232,
     "end_time": "2023-11-11T07:04:57.403322",
     "exception": false,
     "start_time": "2023-11-11T07:04:57.353090",
     "status": "completed"
    },
    "tags": []
   },
   "outputs": [
    {
     "data": {
      "text/html": [
       "<div>\n",
       "<style scoped>\n",
       "    .dataframe tbody tr th:only-of-type {\n",
       "        vertical-align: middle;\n",
       "    }\n",
       "\n",
       "    .dataframe tbody tr th {\n",
       "        vertical-align: top;\n",
       "    }\n",
       "\n",
       "    .dataframe thead th {\n",
       "        text-align: right;\n",
       "    }\n",
       "</style>\n",
       "<table border=\"1\" class=\"dataframe\">\n",
       "  <thead>\n",
       "    <tr style=\"text-align: right;\">\n",
       "      <th></th>\n",
       "      <th>battery_power</th>\n",
       "      <th>blue</th>\n",
       "      <th>clock_speed</th>\n",
       "      <th>dual_sim</th>\n",
       "      <th>fc</th>\n",
       "      <th>four_g</th>\n",
       "      <th>int_memory</th>\n",
       "      <th>m_dep</th>\n",
       "      <th>mobile_wt</th>\n",
       "      <th>n_cores</th>\n",
       "      <th>...</th>\n",
       "      <th>px_height</th>\n",
       "      <th>px_width</th>\n",
       "      <th>ram</th>\n",
       "      <th>sc_h</th>\n",
       "      <th>sc_w</th>\n",
       "      <th>talk_time</th>\n",
       "      <th>three_g</th>\n",
       "      <th>touch_screen</th>\n",
       "      <th>wifi</th>\n",
       "      <th>price_range</th>\n",
       "    </tr>\n",
       "  </thead>\n",
       "  <tbody>\n",
       "    <tr>\n",
       "      <th>0</th>\n",
       "      <td>842</td>\n",
       "      <td>0</td>\n",
       "      <td>2.2</td>\n",
       "      <td>0</td>\n",
       "      <td>1</td>\n",
       "      <td>0</td>\n",
       "      <td>7</td>\n",
       "      <td>0.6</td>\n",
       "      <td>188</td>\n",
       "      <td>2</td>\n",
       "      <td>...</td>\n",
       "      <td>20</td>\n",
       "      <td>756</td>\n",
       "      <td>2549</td>\n",
       "      <td>9</td>\n",
       "      <td>7</td>\n",
       "      <td>19</td>\n",
       "      <td>0</td>\n",
       "      <td>0</td>\n",
       "      <td>1</td>\n",
       "      <td>1</td>\n",
       "    </tr>\n",
       "    <tr>\n",
       "      <th>1</th>\n",
       "      <td>563</td>\n",
       "      <td>1</td>\n",
       "      <td>0.5</td>\n",
       "      <td>1</td>\n",
       "      <td>2</td>\n",
       "      <td>1</td>\n",
       "      <td>41</td>\n",
       "      <td>0.9</td>\n",
       "      <td>145</td>\n",
       "      <td>5</td>\n",
       "      <td>...</td>\n",
       "      <td>1263</td>\n",
       "      <td>1716</td>\n",
       "      <td>2603</td>\n",
       "      <td>11</td>\n",
       "      <td>2</td>\n",
       "      <td>9</td>\n",
       "      <td>1</td>\n",
       "      <td>1</td>\n",
       "      <td>0</td>\n",
       "      <td>2</td>\n",
       "    </tr>\n",
       "    <tr>\n",
       "      <th>2</th>\n",
       "      <td>769</td>\n",
       "      <td>1</td>\n",
       "      <td>2.9</td>\n",
       "      <td>1</td>\n",
       "      <td>0</td>\n",
       "      <td>0</td>\n",
       "      <td>9</td>\n",
       "      <td>0.1</td>\n",
       "      <td>182</td>\n",
       "      <td>5</td>\n",
       "      <td>...</td>\n",
       "      <td>248</td>\n",
       "      <td>874</td>\n",
       "      <td>3946</td>\n",
       "      <td>5</td>\n",
       "      <td>2</td>\n",
       "      <td>7</td>\n",
       "      <td>0</td>\n",
       "      <td>0</td>\n",
       "      <td>0</td>\n",
       "      <td>3</td>\n",
       "    </tr>\n",
       "    <tr>\n",
       "      <th>3</th>\n",
       "      <td>775</td>\n",
       "      <td>0</td>\n",
       "      <td>1.0</td>\n",
       "      <td>0</td>\n",
       "      <td>3</td>\n",
       "      <td>0</td>\n",
       "      <td>46</td>\n",
       "      <td>0.7</td>\n",
       "      <td>159</td>\n",
       "      <td>2</td>\n",
       "      <td>...</td>\n",
       "      <td>862</td>\n",
       "      <td>1864</td>\n",
       "      <td>568</td>\n",
       "      <td>17</td>\n",
       "      <td>15</td>\n",
       "      <td>11</td>\n",
       "      <td>1</td>\n",
       "      <td>1</td>\n",
       "      <td>1</td>\n",
       "      <td>0</td>\n",
       "    </tr>\n",
       "    <tr>\n",
       "      <th>4</th>\n",
       "      <td>595</td>\n",
       "      <td>0</td>\n",
       "      <td>0.9</td>\n",
       "      <td>1</td>\n",
       "      <td>7</td>\n",
       "      <td>1</td>\n",
       "      <td>23</td>\n",
       "      <td>0.1</td>\n",
       "      <td>121</td>\n",
       "      <td>3</td>\n",
       "      <td>...</td>\n",
       "      <td>441</td>\n",
       "      <td>810</td>\n",
       "      <td>3752</td>\n",
       "      <td>10</td>\n",
       "      <td>2</td>\n",
       "      <td>18</td>\n",
       "      <td>1</td>\n",
       "      <td>1</td>\n",
       "      <td>0</td>\n",
       "      <td>3</td>\n",
       "    </tr>\n",
       "    <tr>\n",
       "      <th>...</th>\n",
       "      <td>...</td>\n",
       "      <td>...</td>\n",
       "      <td>...</td>\n",
       "      <td>...</td>\n",
       "      <td>...</td>\n",
       "      <td>...</td>\n",
       "      <td>...</td>\n",
       "      <td>...</td>\n",
       "      <td>...</td>\n",
       "      <td>...</td>\n",
       "      <td>...</td>\n",
       "      <td>...</td>\n",
       "      <td>...</td>\n",
       "      <td>...</td>\n",
       "      <td>...</td>\n",
       "      <td>...</td>\n",
       "      <td>...</td>\n",
       "      <td>...</td>\n",
       "      <td>...</td>\n",
       "      <td>...</td>\n",
       "      <td>...</td>\n",
       "    </tr>\n",
       "    <tr>\n",
       "      <th>595</th>\n",
       "      <td>1547</td>\n",
       "      <td>1</td>\n",
       "      <td>2.9</td>\n",
       "      <td>0</td>\n",
       "      <td>2</td>\n",
       "      <td>0</td>\n",
       "      <td>57</td>\n",
       "      <td>0.4</td>\n",
       "      <td>114</td>\n",
       "      <td>1</td>\n",
       "      <td>...</td>\n",
       "      <td>347</td>\n",
       "      <td>957</td>\n",
       "      <td>1620</td>\n",
       "      <td>9</td>\n",
       "      <td>2</td>\n",
       "      <td>19</td>\n",
       "      <td>0</td>\n",
       "      <td>1</td>\n",
       "      <td>1</td>\n",
       "      <td>1</td>\n",
       "    </tr>\n",
       "    <tr>\n",
       "      <th>596</th>\n",
       "      <td>1882</td>\n",
       "      <td>0</td>\n",
       "      <td>2.0</td>\n",
       "      <td>0</td>\n",
       "      <td>11</td>\n",
       "      <td>1</td>\n",
       "      <td>44</td>\n",
       "      <td>0.8</td>\n",
       "      <td>113</td>\n",
       "      <td>8</td>\n",
       "      <td>...</td>\n",
       "      <td>4</td>\n",
       "      <td>743</td>\n",
       "      <td>3579</td>\n",
       "      <td>19</td>\n",
       "      <td>8</td>\n",
       "      <td>20</td>\n",
       "      <td>1</td>\n",
       "      <td>1</td>\n",
       "      <td>0</td>\n",
       "      <td>3</td>\n",
       "    </tr>\n",
       "    <tr>\n",
       "      <th>597</th>\n",
       "      <td>674</td>\n",
       "      <td>1</td>\n",
       "      <td>2.9</td>\n",
       "      <td>1</td>\n",
       "      <td>1</td>\n",
       "      <td>0</td>\n",
       "      <td>21</td>\n",
       "      <td>0.2</td>\n",
       "      <td>198</td>\n",
       "      <td>3</td>\n",
       "      <td>...</td>\n",
       "      <td>576</td>\n",
       "      <td>1809</td>\n",
       "      <td>1180</td>\n",
       "      <td>6</td>\n",
       "      <td>3</td>\n",
       "      <td>4</td>\n",
       "      <td>1</td>\n",
       "      <td>1</td>\n",
       "      <td>1</td>\n",
       "      <td>0</td>\n",
       "    </tr>\n",
       "    <tr>\n",
       "      <th>598</th>\n",
       "      <td>1965</td>\n",
       "      <td>1</td>\n",
       "      <td>2.6</td>\n",
       "      <td>1</td>\n",
       "      <td>0</td>\n",
       "      <td>0</td>\n",
       "      <td>39</td>\n",
       "      <td>0.2</td>\n",
       "      <td>187</td>\n",
       "      <td>4</td>\n",
       "      <td>...</td>\n",
       "      <td>915</td>\n",
       "      <td>1965</td>\n",
       "      <td>2032</td>\n",
       "      <td>11</td>\n",
       "      <td>10</td>\n",
       "      <td>16</td>\n",
       "      <td>1</td>\n",
       "      <td>1</td>\n",
       "      <td>1</td>\n",
       "      <td>2</td>\n",
       "    </tr>\n",
       "    <tr>\n",
       "      <th>599</th>\n",
       "      <td>510</td>\n",
       "      <td>1</td>\n",
       "      <td>2.0</td>\n",
       "      <td>1</td>\n",
       "      <td>5</td>\n",
       "      <td>1</td>\n",
       "      <td>45</td>\n",
       "      <td>0.9</td>\n",
       "      <td>168</td>\n",
       "      <td>6</td>\n",
       "      <td>...</td>\n",
       "      <td>483</td>\n",
       "      <td>754</td>\n",
       "      <td>3919</td>\n",
       "      <td>19</td>\n",
       "      <td>4</td>\n",
       "      <td>2</td>\n",
       "      <td>1</td>\n",
       "      <td>1</td>\n",
       "      <td>1</td>\n",
       "      <td>3</td>\n",
       "    </tr>\n",
       "  </tbody>\n",
       "</table>\n",
       "<p>600 rows × 21 columns</p>\n",
       "</div>"
      ],
      "text/plain": [
       "     battery_power  blue  clock_speed  dual_sim  fc  four_g  int_memory  \\\n",
       "0              842     0          2.2         0   1       0           7   \n",
       "1              563     1          0.5         1   2       1          41   \n",
       "2              769     1          2.9         1   0       0           9   \n",
       "3              775     0          1.0         0   3       0          46   \n",
       "4              595     0          0.9         1   7       1          23   \n",
       "..             ...   ...          ...       ...  ..     ...         ...   \n",
       "595           1547     1          2.9         0   2       0          57   \n",
       "596           1882     0          2.0         0  11       1          44   \n",
       "597            674     1          2.9         1   1       0          21   \n",
       "598           1965     1          2.6         1   0       0          39   \n",
       "599            510     1          2.0         1   5       1          45   \n",
       "\n",
       "     m_dep  mobile_wt  n_cores  ...  px_height  px_width   ram  sc_h  sc_w  \\\n",
       "0      0.6        188        2  ...         20       756  2549     9     7   \n",
       "1      0.9        145        5  ...       1263      1716  2603    11     2   \n",
       "2      0.1        182        5  ...        248       874  3946     5     2   \n",
       "3      0.7        159        2  ...        862      1864   568    17    15   \n",
       "4      0.1        121        3  ...        441       810  3752    10     2   \n",
       "..     ...        ...      ...  ...        ...       ...   ...   ...   ...   \n",
       "595    0.4        114        1  ...        347       957  1620     9     2   \n",
       "596    0.8        113        8  ...          4       743  3579    19     8   \n",
       "597    0.2        198        3  ...        576      1809  1180     6     3   \n",
       "598    0.2        187        4  ...        915      1965  2032    11    10   \n",
       "599    0.9        168        6  ...        483       754  3919    19     4   \n",
       "\n",
       "     talk_time  three_g  touch_screen  wifi  price_range  \n",
       "0           19        0             0     1            1  \n",
       "1            9        1             1     0            2  \n",
       "2            7        0             0     0            3  \n",
       "3           11        1             1     1            0  \n",
       "4           18        1             1     0            3  \n",
       "..         ...      ...           ...   ...          ...  \n",
       "595         19        0             1     1            1  \n",
       "596         20        1             1     0            3  \n",
       "597          4        1             1     1            0  \n",
       "598         16        1             1     1            2  \n",
       "599          2        1             1     1            3  \n",
       "\n",
       "[600 rows x 21 columns]"
      ]
     },
     "execution_count": 3,
     "metadata": {},
     "output_type": "execute_result"
    }
   ],
   "source": [
    "validation_df = pd.read_csv(\"/kaggle/input/data-komputer-if3170/data_validation.csv\")\n",
    "validation_df"
   ]
  },
  {
   "cell_type": "code",
   "execution_count": 4,
   "id": "a168a684",
   "metadata": {
    "execution": {
     "iopub.execute_input": "2023-11-11T07:04:57.427508Z",
     "iopub.status.busy": "2023-11-11T07:04:57.426935Z",
     "iopub.status.idle": "2023-11-11T07:04:57.438724Z",
     "shell.execute_reply": "2023-11-11T07:04:57.437308Z"
    },
    "papermill": {
     "duration": 0.026795,
     "end_time": "2023-11-11T07:04:57.441164",
     "exception": false,
     "start_time": "2023-11-11T07:04:57.414369",
     "status": "completed"
    },
    "tags": []
   },
   "outputs": [],
   "source": [
    "non_numeric_columns = [\"blue\", \"wifi\", \"touch_screen\", \"three_g\", \"four_g\", \"dual_sim\"]\n",
    "drop_col = non_numeric_columns.copy()\n",
    "drop_col.append(\"price_range\")\n",
    "numeric_columns = train_df.drop(drop_col, axis=1).columns.tolist()\n",
    "\n",
    "numeric_columns.remove(\"fc\")"
   ]
  },
  {
   "cell_type": "markdown",
   "id": "c636c799",
   "metadata": {
    "papermill": {
     "duration": 0.010917,
     "end_time": "2023-11-11T07:04:57.462675",
     "exception": false,
     "start_time": "2023-11-11T07:04:57.451758",
     "status": "completed"
    },
    "tags": []
   },
   "source": [
    "# Data Preprocessing\n",
    "Dari analisis EDA yang dilakukan akan dilakukan data preprocessing untuk melakukan pelatihan model"
   ]
  },
  {
   "cell_type": "markdown",
   "id": "bc748b5b",
   "metadata": {
    "papermill": {
     "duration": 0.010933,
     "end_time": "2023-11-11T07:04:57.484706",
     "exception": false,
     "start_time": "2023-11-11T07:04:57.473773",
     "status": "completed"
    },
    "tags": []
   },
   "source": [
    "## Removing Outliers\n",
    "\n",
    "Remove outliers using IQR"
   ]
  },
  {
   "cell_type": "code",
   "execution_count": 5,
   "id": "79ddc1dc",
   "metadata": {
    "execution": {
     "iopub.execute_input": "2023-11-11T07:04:57.508630Z",
     "iopub.status.busy": "2023-11-11T07:04:57.508165Z",
     "iopub.status.idle": "2023-11-11T07:04:57.516736Z",
     "shell.execute_reply": "2023-11-11T07:04:57.515091Z"
    },
    "papermill": {
     "duration": 0.023877,
     "end_time": "2023-11-11T07:04:57.519449",
     "exception": false,
     "start_time": "2023-11-11T07:04:57.495572",
     "status": "completed"
    },
    "tags": []
   },
   "outputs": [],
   "source": [
    "class OutlierRemoval(BaseEstimator, TransformerMixin):\n",
    "    def __init__(self):\n",
    "        return None\n",
    "        \n",
    "    def fit(self, X, y = None):\n",
    "        q3 = X['fc'].quantile(q=0.75)\n",
    "        q1 = X['fc'].quantile(q=0.25)\n",
    "        self.IQR = q3-q1\n",
    "        self.lower_bound = q1 - 1.5 * self.IQR\n",
    "        self.upper_bound = q3 + 1.5 * self.IQR\n",
    "        return self\n",
    "    \n",
    "    def transform(self, X):\n",
    "        X_ = X[(X.loc[:,\"fc\"] >= self.lower_bound) & (X.loc[:,\"fc\"]<=self.upper_bound)]\n",
    "        return X_"
   ]
  },
  {
   "cell_type": "markdown",
   "id": "3cb11ef0",
   "metadata": {
    "papermill": {
     "duration": 0.010681,
     "end_time": "2023-11-11T07:04:57.540945",
     "exception": false,
     "start_time": "2023-11-11T07:04:57.530264",
     "status": "completed"
    },
    "tags": []
   },
   "source": [
    "## Invalid Data Filling\n",
    "\n",
    "Invalid data will be filled with median using interpolation"
   ]
  },
  {
   "cell_type": "code",
   "execution_count": 6,
   "id": "0f4bc704",
   "metadata": {
    "execution": {
     "iopub.execute_input": "2023-11-11T07:04:57.567404Z",
     "iopub.status.busy": "2023-11-11T07:04:57.566467Z",
     "iopub.status.idle": "2023-11-11T07:04:57.573807Z",
     "shell.execute_reply": "2023-11-11T07:04:57.572804Z"
    },
    "papermill": {
     "duration": 0.023393,
     "end_time": "2023-11-11T07:04:57.576520",
     "exception": false,
     "start_time": "2023-11-11T07:04:57.553127",
     "status": "completed"
    },
    "tags": []
   },
   "outputs": [],
   "source": [
    "class InvalidReplacement(BaseEstimator, TransformerMixin):\n",
    "    def __init__(self):\n",
    "        return None\n",
    "    \n",
    "    def fit(self, X, y=None):\n",
    "        self.median = X['sc_w'].median()\n",
    "        return self\n",
    "    \n",
    "    def transform(self, X):\n",
    "        X_ = X.copy()\n",
    "        X_['sc_w'] = X_['sc_w'].replace(0, self.median)\n",
    "        return X_"
   ]
  },
  {
   "cell_type": "markdown",
   "id": "e682f8de",
   "metadata": {
    "papermill": {
     "duration": 0.010488,
     "end_time": "2023-11-11T07:04:57.597837",
     "exception": false,
     "start_time": "2023-11-11T07:04:57.587349",
     "status": "completed"
    },
    "tags": []
   },
   "source": [
    "## Feature Selection\n",
    "Remove fc column because it correlates the highest with pc"
   ]
  },
  {
   "cell_type": "code",
   "execution_count": 7,
   "id": "3c5d9893",
   "metadata": {
    "execution": {
     "iopub.execute_input": "2023-11-11T07:04:57.621868Z",
     "iopub.status.busy": "2023-11-11T07:04:57.621389Z",
     "iopub.status.idle": "2023-11-11T07:04:57.628309Z",
     "shell.execute_reply": "2023-11-11T07:04:57.627084Z"
    },
    "papermill": {
     "duration": 0.022221,
     "end_time": "2023-11-11T07:04:57.630702",
     "exception": false,
     "start_time": "2023-11-11T07:04:57.608481",
     "status": "completed"
    },
    "tags": []
   },
   "outputs": [],
   "source": [
    "class DropColumn(BaseEstimator, TransformerMixin):\n",
    "    def __init__(self, column):\n",
    "        self.column = column\n",
    "        return None\n",
    "    \n",
    "    def fit(self, X, y=None):\n",
    "        return self\n",
    "    \n",
    "    def transform(self, X):\n",
    "        X_ = X.drop(columns = self.column)\n",
    "        return X_"
   ]
  },
  {
   "cell_type": "markdown",
   "id": "07ecdaea",
   "metadata": {
    "papermill": {
     "duration": 0.010335,
     "end_time": "2023-11-11T07:04:57.652232",
     "exception": false,
     "start_time": "2023-11-11T07:04:57.641897",
     "status": "completed"
    },
    "tags": []
   },
   "source": [
    "## Scaling and Normalizing\n",
    "Scale values of numeric columns minus column`fc`"
   ]
  },
  {
   "cell_type": "code",
   "execution_count": 8,
   "id": "20cea71c",
   "metadata": {
    "execution": {
     "iopub.execute_input": "2023-11-11T07:04:57.675803Z",
     "iopub.status.busy": "2023-11-11T07:04:57.675336Z",
     "iopub.status.idle": "2023-11-11T07:04:57.681151Z",
     "shell.execute_reply": "2023-11-11T07:04:57.679784Z"
    },
    "papermill": {
     "duration": 0.020808,
     "end_time": "2023-11-11T07:04:57.683638",
     "exception": false,
     "start_time": "2023-11-11T07:04:57.662830",
     "status": "completed"
    },
    "tags": []
   },
   "outputs": [],
   "source": [
    "numericTransformation = ColumnTransformer(\n",
    "    transformers = [\n",
    "#         ('scaling', MinMaxScaler(), numeric_columns)\n",
    "        ('normalizing', Normalizer(), numeric_columns)\n",
    "    ],\n",
    "    remainder = 'passthrough'\n",
    ")"
   ]
  },
  {
   "cell_type": "markdown",
   "id": "20252a21",
   "metadata": {
    "papermill": {
     "duration": 0.010532,
     "end_time": "2023-11-11T07:04:57.705140",
     "exception": false,
     "start_time": "2023-11-11T07:04:57.694608",
     "status": "completed"
    },
    "tags": []
   },
   "source": [
    "## Pipeline\n",
    "Pipeline for all preprocessing"
   ]
  },
  {
   "cell_type": "code",
   "execution_count": 9,
   "id": "79b5d51d",
   "metadata": {
    "execution": {
     "iopub.execute_input": "2023-11-11T07:04:57.731210Z",
     "iopub.status.busy": "2023-11-11T07:04:57.730661Z",
     "iopub.status.idle": "2023-11-11T07:04:57.758865Z",
     "shell.execute_reply": "2023-11-11T07:04:57.757565Z"
    },
    "papermill": {
     "duration": 0.045704,
     "end_time": "2023-11-11T07:04:57.761538",
     "exception": false,
     "start_time": "2023-11-11T07:04:57.715834",
     "status": "completed"
    },
    "tags": []
   },
   "outputs": [
    {
     "name": "stdout",
     "output_type": "stream",
     "text": [
      "(1389, 20)\n"
     ]
    }
   ],
   "source": [
    "pipeline = Pipeline([\n",
    "    ('removing outliers', OutlierRemoval()),\n",
    "    ('invalid data replacement', InvalidReplacement()),\n",
    "    ('feature selection', DropColumn('fc'))\n",
    "])\n",
    "\n",
    "full_pipeline = Pipeline([\n",
    "    ('preprocessor', pipeline),\n",
    "    ('scaling', numericTransformation)\n",
    "])\n",
    "\n",
    "transformed_column_names = numeric_columns + [col for col in train_df.columns if col not in numeric_columns and col != 'fc']\n",
    "processed_data = full_pipeline.fit_transform(train_df)\n",
    "print(processed_data.shape)\n",
    "processed_df = pd.DataFrame(processed_data, columns = transformed_column_names)"
   ]
  },
  {
   "cell_type": "code",
   "execution_count": 10,
   "id": "4bdff2f8",
   "metadata": {
    "execution": {
     "iopub.execute_input": "2023-11-11T07:04:57.785626Z",
     "iopub.status.busy": "2023-11-11T07:04:57.785068Z",
     "iopub.status.idle": "2023-11-11T07:05:01.741667Z",
     "shell.execute_reply": "2023-11-11T07:05:01.740227Z"
    },
    "papermill": {
     "duration": 3.972324,
     "end_time": "2023-11-11T07:05:01.744500",
     "exception": false,
     "start_time": "2023-11-11T07:04:57.772176",
     "status": "completed"
    },
    "tags": []
   },
   "outputs": [
    {
     "data": {
      "image/png": "[encoded data removed]",
      "text/plain": [
       "<Figure size 1000x1000 with 15 Axes>"
      ]
     },
     "metadata": {},
     "output_type": "display_data"
    }
   ],
   "source": [
    "fig, ax = plt.subplots(5, 3, figsize = (10,10))\n",
    "\n",
    "for i, col in enumerate(numeric_columns):\n",
    "    r = i // 3\n",
    "    c = i % 3\n",
    "    \n",
    "    sns.histplot(kde=True,data=processed_df[col], ax=ax[r,c])    \n",
    "    ax[r, c].set_title(f'Distribution of {col}')\n",
    "    ax[r, c].set_xlabel(col)\n",
    "    ax[r, c].set_ylabel(\"Frequency\")\n",
    "    \n",
    "plt.tight_layout()\n",
    "plt.show()"
   ]
  },
  {
   "cell_type": "markdown",
   "id": "47248347",
   "metadata": {
    "papermill": {
     "duration": 0.012485,
     "end_time": "2023-11-11T07:05:01.770877",
     "exception": false,
     "start_time": "2023-11-11T07:05:01.758392",
     "status": "completed"
    },
    "tags": []
   },
   "source": [
    "# Modelling"
   ]
  },
  {
   "cell_type": "code",
   "execution_count": 11,
   "id": "799772a6",
   "metadata": {
    "execution": {
     "iopub.execute_input": "2023-11-11T07:05:01.799176Z",
     "iopub.status.busy": "2023-11-11T07:05:01.798718Z",
     "iopub.status.idle": "2023-11-11T07:05:01.832715Z",
     "shell.execute_reply": "2023-11-11T07:05:01.831866Z"
    },
    "papermill": {
     "duration": 0.050861,
     "end_time": "2023-11-11T07:05:01.834680",
     "exception": false,
     "start_time": "2023-11-11T07:05:01.783819",
     "status": "completed"
    },
    "tags": []
   },
   "outputs": [
    {
     "data": {
      "text/html": [
       "<div>\n",
       "<style scoped>\n",
       "    .dataframe tbody tr th:only-of-type {\n",
       "        vertical-align: middle;\n",
       "    }\n",
       "\n",
       "    .dataframe tbody tr th {\n",
       "        vertical-align: top;\n",
       "    }\n",
       "\n",
       "    .dataframe thead th {\n",
       "        text-align: right;\n",
       "    }\n",
       "</style>\n",
       "<table border=\"1\" class=\"dataframe\">\n",
       "  <thead>\n",
       "    <tr style=\"text-align: right;\">\n",
       "      <th></th>\n",
       "      <th>battery_power</th>\n",
       "      <th>clock_speed</th>\n",
       "      <th>int_memory</th>\n",
       "      <th>m_dep</th>\n",
       "      <th>mobile_wt</th>\n",
       "      <th>n_cores</th>\n",
       "      <th>pc</th>\n",
       "      <th>px_height</th>\n",
       "      <th>px_width</th>\n",
       "      <th>ram</th>\n",
       "      <th>sc_h</th>\n",
       "      <th>sc_w</th>\n",
       "      <th>talk_time</th>\n",
       "      <th>blue</th>\n",
       "      <th>dual_sim</th>\n",
       "      <th>four_g</th>\n",
       "      <th>three_g</th>\n",
       "      <th>touch_screen</th>\n",
       "      <th>wifi</th>\n",
       "    </tr>\n",
       "  </thead>\n",
       "  <tbody>\n",
       "    <tr>\n",
       "      <th>0</th>\n",
       "      <td>0.329969</td>\n",
       "      <td>0.000328</td>\n",
       "      <td>0.016827</td>\n",
       "      <td>0.000369</td>\n",
       "      <td>0.036526</td>\n",
       "      <td>0.000410</td>\n",
       "      <td>0.005335</td>\n",
       "      <td>0.290980</td>\n",
       "      <td>0.335715</td>\n",
       "      <td>0.831899</td>\n",
       "      <td>0.004514</td>\n",
       "      <td>0.002052</td>\n",
       "      <td>0.004514</td>\n",
       "      <td>1.0</td>\n",
       "      <td>1.0</td>\n",
       "      <td>1.0</td>\n",
       "      <td>1.0</td>\n",
       "      <td>0.0</td>\n",
       "      <td>0.0</td>\n",
       "    </tr>\n",
       "    <tr>\n",
       "      <th>1</th>\n",
       "      <td>0.327339</td>\n",
       "      <td>0.000691</td>\n",
       "      <td>0.003456</td>\n",
       "      <td>0.000188</td>\n",
       "      <td>0.043666</td>\n",
       "      <td>0.001571</td>\n",
       "      <td>0.005026</td>\n",
       "      <td>0.021362</td>\n",
       "      <td>0.319799</td>\n",
       "      <td>0.887772</td>\n",
       "      <td>0.005655</td>\n",
       "      <td>0.001571</td>\n",
       "      <td>0.000628</td>\n",
       "      <td>0.0</td>\n",
       "      <td>0.0</td>\n",
       "      <td>1.0</td>\n",
       "      <td>1.0</td>\n",
       "      <td>0.0</td>\n",
       "      <td>0.0</td>\n",
       "    </tr>\n",
       "    <tr>\n",
       "      <th>2</th>\n",
       "      <td>0.480908</td>\n",
       "      <td>0.000649</td>\n",
       "      <td>0.011365</td>\n",
       "      <td>0.000162</td>\n",
       "      <td>0.034095</td>\n",
       "      <td>0.000974</td>\n",
       "      <td>0.000000</td>\n",
       "      <td>0.080855</td>\n",
       "      <td>0.169503</td>\n",
       "      <td>0.855632</td>\n",
       "      <td>0.005520</td>\n",
       "      <td>0.005195</td>\n",
       "      <td>0.001299</td>\n",
       "      <td>1.0</td>\n",
       "      <td>1.0</td>\n",
       "      <td>0.0</td>\n",
       "      <td>1.0</td>\n",
       "      <td>0.0</td>\n",
       "      <td>1.0</td>\n",
       "    </tr>\n",
       "    <tr>\n",
       "      <th>3</th>\n",
       "      <td>0.484337</td>\n",
       "      <td>0.000746</td>\n",
       "      <td>0.026323</td>\n",
       "      <td>0.000175</td>\n",
       "      <td>0.087304</td>\n",
       "      <td>0.000877</td>\n",
       "      <td>0.005703</td>\n",
       "      <td>0.286478</td>\n",
       "      <td>0.619899</td>\n",
       "      <td>0.539176</td>\n",
       "      <td>0.002632</td>\n",
       "      <td>0.002194</td>\n",
       "      <td>0.001316</td>\n",
       "      <td>0.0</td>\n",
       "      <td>0.0</td>\n",
       "      <td>1.0</td>\n",
       "      <td>1.0</td>\n",
       "      <td>1.0</td>\n",
       "      <td>1.0</td>\n",
       "    </tr>\n",
       "    <tr>\n",
       "      <th>4</th>\n",
       "      <td>0.516473</td>\n",
       "      <td>0.000396</td>\n",
       "      <td>0.045944</td>\n",
       "      <td>0.000475</td>\n",
       "      <td>0.112483</td>\n",
       "      <td>0.002376</td>\n",
       "      <td>0.001584</td>\n",
       "      <td>0.367551</td>\n",
       "      <td>0.618658</td>\n",
       "      <td>0.447557</td>\n",
       "      <td>0.014258</td>\n",
       "      <td>0.009506</td>\n",
       "      <td>0.007129</td>\n",
       "      <td>0.0</td>\n",
       "      <td>1.0</td>\n",
       "      <td>0.0</td>\n",
       "      <td>0.0</td>\n",
       "      <td>0.0</td>\n",
       "      <td>1.0</td>\n",
       "    </tr>\n",
       "    <tr>\n",
       "      <th>...</th>\n",
       "      <td>...</td>\n",
       "      <td>...</td>\n",
       "      <td>...</td>\n",
       "      <td>...</td>\n",
       "      <td>...</td>\n",
       "      <td>...</td>\n",
       "      <td>...</td>\n",
       "      <td>...</td>\n",
       "      <td>...</td>\n",
       "      <td>...</td>\n",
       "      <td>...</td>\n",
       "      <td>...</td>\n",
       "      <td>...</td>\n",
       "      <td>...</td>\n",
       "      <td>...</td>\n",
       "      <td>...</td>\n",
       "      <td>...</td>\n",
       "      <td>...</td>\n",
       "      <td>...</td>\n",
       "    </tr>\n",
       "    <tr>\n",
       "      <th>1384</th>\n",
       "      <td>0.334252</td>\n",
       "      <td>0.000873</td>\n",
       "      <td>0.033051</td>\n",
       "      <td>0.000437</td>\n",
       "      <td>0.084187</td>\n",
       "      <td>0.001871</td>\n",
       "      <td>0.000000</td>\n",
       "      <td>0.341112</td>\n",
       "      <td>0.439641</td>\n",
       "      <td>0.755185</td>\n",
       "      <td>0.009354</td>\n",
       "      <td>0.006236</td>\n",
       "      <td>0.004365</td>\n",
       "      <td>1.0</td>\n",
       "      <td>0.0</td>\n",
       "      <td>1.0</td>\n",
       "      <td>1.0</td>\n",
       "      <td>0.0</td>\n",
       "      <td>1.0</td>\n",
       "    </tr>\n",
       "    <tr>\n",
       "      <th>1385</th>\n",
       "      <td>0.353821</td>\n",
       "      <td>0.000258</td>\n",
       "      <td>0.006773</td>\n",
       "      <td>0.000032</td>\n",
       "      <td>0.051606</td>\n",
       "      <td>0.002258</td>\n",
       "      <td>0.004838</td>\n",
       "      <td>0.411877</td>\n",
       "      <td>0.436067</td>\n",
       "      <td>0.715705</td>\n",
       "      <td>0.004838</td>\n",
       "      <td>0.001935</td>\n",
       "      <td>0.003870</td>\n",
       "      <td>0.0</td>\n",
       "      <td>0.0</td>\n",
       "      <td>1.0</td>\n",
       "      <td>1.0</td>\n",
       "      <td>0.0</td>\n",
       "      <td>1.0</td>\n",
       "    </tr>\n",
       "    <tr>\n",
       "      <th>1386</th>\n",
       "      <td>0.616855</td>\n",
       "      <td>0.000262</td>\n",
       "      <td>0.016742</td>\n",
       "      <td>0.000157</td>\n",
       "      <td>0.095223</td>\n",
       "      <td>0.001046</td>\n",
       "      <td>0.006278</td>\n",
       "      <td>0.044472</td>\n",
       "      <td>0.759166</td>\n",
       "      <td>0.177889</td>\n",
       "      <td>0.008371</td>\n",
       "      <td>0.002616</td>\n",
       "      <td>0.008371</td>\n",
       "      <td>1.0</td>\n",
       "      <td>0.0</td>\n",
       "      <td>1.0</td>\n",
       "      <td>1.0</td>\n",
       "      <td>0.0</td>\n",
       "      <td>0.0</td>\n",
       "    </tr>\n",
       "    <tr>\n",
       "      <th>1387</th>\n",
       "      <td>0.162326</td>\n",
       "      <td>0.000113</td>\n",
       "      <td>0.005193</td>\n",
       "      <td>0.000090</td>\n",
       "      <td>0.025512</td>\n",
       "      <td>0.001355</td>\n",
       "      <td>0.002032</td>\n",
       "      <td>0.097305</td>\n",
       "      <td>0.389899</td>\n",
       "      <td>0.900808</td>\n",
       "      <td>0.003161</td>\n",
       "      <td>0.002032</td>\n",
       "      <td>0.002709</td>\n",
       "      <td>1.0</td>\n",
       "      <td>1.0</td>\n",
       "      <td>1.0</td>\n",
       "      <td>1.0</td>\n",
       "      <td>1.0</td>\n",
       "      <td>1.0</td>\n",
       "    </tr>\n",
       "    <tr>\n",
       "      <th>1388</th>\n",
       "      <td>0.561906</td>\n",
       "      <td>0.000351</td>\n",
       "      <td>0.007810</td>\n",
       "      <td>0.000312</td>\n",
       "      <td>0.057401</td>\n",
       "      <td>0.000390</td>\n",
       "      <td>0.006638</td>\n",
       "      <td>0.244443</td>\n",
       "      <td>0.363931</td>\n",
       "      <td>0.698965</td>\n",
       "      <td>0.007419</td>\n",
       "      <td>0.004686</td>\n",
       "      <td>0.005857</td>\n",
       "      <td>0.0</td>\n",
       "      <td>0.0</td>\n",
       "      <td>1.0</td>\n",
       "      <td>1.0</td>\n",
       "      <td>0.0</td>\n",
       "      <td>1.0</td>\n",
       "    </tr>\n",
       "  </tbody>\n",
       "</table>\n",
       "<p>1389 rows × 19 columns</p>\n",
       "</div>"
      ],
      "text/plain": [
       "      battery_power  clock_speed  int_memory     m_dep  mobile_wt   n_cores  \\\n",
       "0          0.329969     0.000328    0.016827  0.000369   0.036526  0.000410   \n",
       "1          0.327339     0.000691    0.003456  0.000188   0.043666  0.001571   \n",
       "2          0.480908     0.000649    0.011365  0.000162   0.034095  0.000974   \n",
       "3          0.484337     0.000746    0.026323  0.000175   0.087304  0.000877   \n",
       "4          0.516473     0.000396    0.045944  0.000475   0.112483  0.002376   \n",
       "...             ...          ...         ...       ...        ...       ...   \n",
       "1384       0.334252     0.000873    0.033051  0.000437   0.084187  0.001871   \n",
       "1385       0.353821     0.000258    0.006773  0.000032   0.051606  0.002258   \n",
       "1386       0.616855     0.000262    0.016742  0.000157   0.095223  0.001046   \n",
       "1387       0.162326     0.000113    0.005193  0.000090   0.025512  0.001355   \n",
       "1388       0.561906     0.000351    0.007810  0.000312   0.057401  0.000390   \n",
       "\n",
       "            pc  px_height  px_width       ram      sc_h      sc_w  talk_time  \\\n",
       "0     0.005335   0.290980  0.335715  0.831899  0.004514  0.002052   0.004514   \n",
       "1     0.005026   0.021362  0.319799  0.887772  0.005655  0.001571   0.000628   \n",
       "2     0.000000   0.080855  0.169503  0.855632  0.005520  0.005195   0.001299   \n",
       "3     0.005703   0.286478  0.619899  0.539176  0.002632  0.002194   0.001316   \n",
       "4     0.001584   0.367551  0.618658  0.447557  0.014258  0.009506   0.007129   \n",
       "...        ...        ...       ...       ...       ...       ...        ...   \n",
       "1384  0.000000   0.341112  0.439641  0.755185  0.009354  0.006236   0.004365   \n",
       "1385  0.004838   0.411877  0.436067  0.715705  0.004838  0.001935   0.003870   \n",
       "1386  0.006278   0.044472  0.759166  0.177889  0.008371  0.002616   0.008371   \n",
       "1387  0.002032   0.097305  0.389899  0.900808  0.003161  0.002032   0.002709   \n",
       "1388  0.006638   0.244443  0.363931  0.698965  0.007419  0.004686   0.005857   \n",
       "\n",
       "      blue  dual_sim  four_g  three_g  touch_screen  wifi  \n",
       "0      1.0       1.0     1.0      1.0           0.0   0.0  \n",
       "1      0.0       0.0     1.0      1.0           0.0   0.0  \n",
       "2      1.0       1.0     0.0      1.0           0.0   1.0  \n",
       "3      0.0       0.0     1.0      1.0           1.0   1.0  \n",
       "4      0.0       1.0     0.0      0.0           0.0   1.0  \n",
       "...    ...       ...     ...      ...           ...   ...  \n",
       "1384   1.0       0.0     1.0      1.0           0.0   1.0  \n",
       "1385   0.0       0.0     1.0      1.0           0.0   1.0  \n",
       "1386   1.0       0.0     1.0      1.0           0.0   0.0  \n",
       "1387   1.0       1.0     1.0      1.0           1.0   1.0  \n",
       "1388   0.0       0.0     1.0      1.0           0.0   1.0  \n",
       "\n",
       "[1389 rows x 19 columns]"
      ]
     },
     "execution_count": 11,
     "metadata": {},
     "output_type": "execute_result"
    }
   ],
   "source": [
    "target_column = processed_df['price_range']\n",
    "feature_column = processed_df.drop(columns=['price_range'])\n",
    "feature_column"
   ]
  },
  {
   "cell_type": "code",
   "execution_count": 12,
   "id": "339d2bf4",
   "metadata": {
    "execution": {
     "iopub.execute_input": "2023-11-11T07:05:01.922221Z",
     "iopub.status.busy": "2023-11-11T07:05:01.921802Z",
     "iopub.status.idle": "2023-11-11T07:05:01.936273Z",
     "shell.execute_reply": "2023-11-11T07:05:01.935150Z"
    },
    "papermill": {
     "duration": 0.090793,
     "end_time": "2023-11-11T07:05:01.938515",
     "exception": false,
     "start_time": "2023-11-11T07:05:01.847722",
     "status": "completed"
    },
    "tags": []
   },
   "outputs": [],
   "source": [
    "scaling_test = numericTransformation.fit_transform(validation_df.drop(columns=\"fc\"))\n",
    "\n",
    "transformed_column_names = numeric_columns + [col for col in train_df.columns if col not in numeric_columns and col != 'fc']\n",
    "\n",
    "scaled_test = pd.DataFrame(scaling_test, columns = transformed_column_names)\n",
    "\n",
    "y_test = scaled_test['price_range']\n",
    "X_test = scaled_test.drop(columns=\"price_range\")"
   ]
  },
  {
   "cell_type": "code",
   "execution_count": 13,
   "id": "39ca1f33",
   "metadata": {
    "execution": {
     "iopub.execute_input": "2023-11-11T07:05:01.967051Z",
     "iopub.status.busy": "2023-11-11T07:05:01.966595Z",
     "iopub.status.idle": "2023-11-11T07:05:01.972131Z",
     "shell.execute_reply": "2023-11-11T07:05:01.971045Z"
    },
    "papermill": {
     "duration": 0.022179,
     "end_time": "2023-11-11T07:05:01.974332",
     "exception": false,
     "start_time": "2023-11-11T07:05:01.952153",
     "status": "completed"
    },
    "tags": []
   },
   "outputs": [],
   "source": [
    "def display_scores(scores):\n",
    "    print(\"Scores:\", scores)\n",
    "    print(\"Mean:\", scores.mean())\n",
    "    print(\"Standard deviation:\", scores.std())"
   ]
  },
  {
   "cell_type": "markdown",
   "id": "a26226aa",
   "metadata": {
    "papermill": {
     "duration": 0.013106,
     "end_time": "2023-11-11T07:05:02.001145",
     "exception": false,
     "start_time": "2023-11-11T07:05:01.988039",
     "status": "completed"
    },
    "tags": []
   },
   "source": [
    "## Using Scikit KNN"
   ]
  },
  {
   "cell_type": "markdown",
   "id": "418cd4b7",
   "metadata": {
    "papermill": {
     "duration": 0.01328,
     "end_time": "2023-11-11T07:05:02.028704",
     "exception": false,
     "start_time": "2023-11-11T07:05:02.015424",
     "status": "completed"
    },
    "tags": []
   },
   "source": [
    "### Model"
   ]
  },
  {
   "cell_type": "code",
   "execution_count": 14,
   "id": "555352a8",
   "metadata": {
    "execution": {
     "iopub.execute_input": "2023-11-11T07:05:02.056952Z",
     "iopub.status.busy": "2023-11-11T07:05:02.056536Z",
     "iopub.status.idle": "2023-11-11T07:05:02.073046Z",
     "shell.execute_reply": "2023-11-11T07:05:02.072002Z"
    },
    "papermill": {
     "duration": 0.033167,
     "end_time": "2023-11-11T07:05:02.075186",
     "exception": false,
     "start_time": "2023-11-11T07:05:02.042019",
     "status": "completed"
    },
    "tags": []
   },
   "outputs": [
    {
     "data": {
      "text/html": [
       "<style>#sk-container-id-1 {color: black;background-color: white;}#sk-container-id-1 pre{padding: 0;}#sk-container-id-1 div.sk-toggleable {background-color: white;}#sk-container-id-1 label.sk-toggleable__label {cursor: pointer;display: block;width: 100%;margin-bottom: 0;padding: 0.3em;box-sizing: border-box;text-align: center;}#sk-container-id-1 label.sk-toggleable__label-arrow:before {content: \"▸\";float: left;margin-right: 0.25em;color: #696969;}#sk-container-id-1 label.sk-toggleable__label-arrow:hover:before {color: black;}#sk-container-id-1 div.sk-estimator:hover label.sk-toggleable__label-arrow:before {color: black;}#sk-container-id-1 div.sk-toggleable__content {max-height: 0;max-width: 0;overflow: hidden;text-align: left;background-color: #f0f8ff;}#sk-container-id-1 div.sk-toggleable__content pre {margin: 0.2em;color: black;border-radius: 0.25em;background-color: #f0f8ff;}#sk-container-id-1 input.sk-toggleable__control:checked~div.sk-toggleable__content {max-height: 200px;max-width: 100%;overflow: auto;}#sk-container-id-1 input.sk-toggleable__control:checked~label.sk-toggleable__label-arrow:before {content: \"▾\";}#sk-container-id-1 div.sk-estimator input.sk-toggleable__control:checked~label.sk-toggleable__label {background-color: #d4ebff;}#sk-container-id-1 div.sk-label input.sk-toggleable__control:checked~label.sk-toggleable__label {background-color: #d4ebff;}#sk-container-id-1 input.sk-hidden--visually {border: 0;clip: rect(1px 1px 1px 1px);clip: rect(1px, 1px, 1px, 1px);height: 1px;margin: -1px;overflow: hidden;padding: 0;position: absolute;width: 1px;}#sk-container-id-1 div.sk-estimator {font-family: monospace;background-color: #f0f8ff;border: 1px dotted black;border-radius: 0.25em;box-sizing: border-box;margin-bottom: 0.5em;}#sk-container-id-1 div.sk-estimator:hover {background-color: #d4ebff;}#sk-container-id-1 div.sk-parallel-item::after {content: \"\";width: 100%;border-bottom: 1px solid gray;flex-grow: 1;}#sk-container-id-1 div.sk-label:hover label.sk-toggleable__label {background-color: #d4ebff;}#sk-container-id-1 div.sk-serial::before {content: \"\";position: absolute;border-left: 1px solid gray;box-sizing: border-box;top: 0;bottom: 0;left: 50%;z-index: 0;}#sk-container-id-1 div.sk-serial {display: flex;flex-direction: column;align-items: center;background-color: white;padding-right: 0.2em;padding-left: 0.2em;position: relative;}#sk-container-id-1 div.sk-item {position: relative;z-index: 1;}#sk-container-id-1 div.sk-parallel {display: flex;align-items: stretch;justify-content: center;background-color: white;position: relative;}#sk-container-id-1 div.sk-item::before, #sk-container-id-1 div.sk-parallel-item::before {content: \"\";position: absolute;border-left: 1px solid gray;box-sizing: border-box;top: 0;bottom: 0;left: 50%;z-index: -1;}#sk-container-id-1 div.sk-parallel-item {display: flex;flex-direction: column;z-index: 1;position: relative;background-color: white;}#sk-container-id-1 div.sk-parallel-item:first-child::after {align-self: flex-end;width: 50%;}#sk-container-id-1 div.sk-parallel-item:last-child::after {align-self: flex-start;width: 50%;}#sk-container-id-1 div.sk-parallel-item:only-child::after {width: 0;}#sk-container-id-1 div.sk-dashed-wrapped {border: 1px dashed gray;margin: 0 0.4em 0.5em 0.4em;box-sizing: border-box;padding-bottom: 0.4em;background-color: white;}#sk-container-id-1 div.sk-label label {font-family: monospace;font-weight: bold;display: inline-block;line-height: 1.2em;}#sk-container-id-1 div.sk-label-container {text-align: center;}#sk-container-id-1 div.sk-container {/* jupyter's `normalize.less` sets `[hidden] { display: none; }` but bootstrap.min.css set `[hidden] { display: none !important; }` so we also need the `!important` here to be able to override the default hidden behavior on the sphinx rendered scikit-learn.org. See: https://github.com/scikit-learn/scikit-learn/issues/21755 */display: inline-block !important;position: relative;}#sk-container-id-1 div.sk-text-repr-fallback {display: none;}</style><div id=\"sk-container-id-1\" class=\"sk-top-container\"><div class=\"sk-text-repr-fallback\"><pre>KNeighborsClassifier()</pre><b>In a Jupyter environment, please rerun this cell to show the HTML representation or trust the notebook. <br />On GitHub, the HTML representation is unable to render, please try loading this page with nbviewer.org.</b></div><div class=\"sk-container\" hidden><div class=\"sk-item\"><div class=\"sk-estimator sk-toggleable\"><input class=\"sk-toggleable__control sk-hidden--visually\" id=\"sk-estimator-id-1\" type=\"checkbox\" checked><label for=\"sk-estimator-id-1\" class=\"sk-toggleable__label sk-toggleable__label-arrow\">KNeighborsClassifier</label><div class=\"sk-toggleable__content\"><pre>KNeighborsClassifier()</pre></div></div></div></div></div>"
      ],
      "text/plain": [
       "KNeighborsClassifier()"
      ]
     },
     "execution_count": 14,
     "metadata": {},
     "output_type": "execute_result"
    }
   ],
   "source": [
    "scikit_knn = KNeighborsClassifier(n_neighbors = 5)\n",
    "scikit_knn.fit(feature_column, target_column)"
   ]
  },
  {
   "cell_type": "markdown",
   "id": "dbef206d",
   "metadata": {
    "papermill": {
     "duration": 0.013168,
     "end_time": "2023-11-11T07:05:02.101840",
     "exception": false,
     "start_time": "2023-11-11T07:05:02.088672",
     "status": "completed"
    },
    "tags": []
   },
   "source": [
    "### Prediction"
   ]
  },
  {
   "cell_type": "code",
   "execution_count": 15,
   "id": "6d030b75",
   "metadata": {
    "execution": {
     "iopub.execute_input": "2023-11-11T07:05:02.130228Z",
     "iopub.status.busy": "2023-11-11T07:05:02.129825Z",
     "iopub.status.idle": "2023-11-11T07:05:02.230172Z",
     "shell.execute_reply": "2023-11-11T07:05:02.229321Z"
    },
    "papermill": {
     "duration": 0.116992,
     "end_time": "2023-11-11T07:05:02.232267",
     "exception": false,
     "start_time": "2023-11-11T07:05:02.115275",
     "status": "completed"
    },
    "tags": []
   },
   "outputs": [
    {
     "data": {
      "text/plain": [
       "array([3., 1., 3., 1., 3., 2., 3., 1., 1., 2., 3., 0., 0., 1., 2., 0., 1.,\n",
       "       1., 0., 2., 1., 1., 1., 0., 1., 2., 2., 2., 2., 2., 1., 3., 3., 3.,\n",
       "       2., 3., 3., 2., 1., 1., 1., 3., 0., 1., 1., 0., 1., 3., 1., 1., 3.,\n",
       "       3., 3., 0., 2., 2., 2., 1., 2., 1., 1., 3., 3., 1., 2., 2., 2., 2.,\n",
       "       0., 2., 1., 3., 2., 0., 3., 2., 0., 2., 1., 0., 3., 2., 1., 1., 3.,\n",
       "       0., 3., 2., 1., 3., 0., 2., 0., 3., 1., 0., 3., 3., 2., 2., 3., 1.,\n",
       "       0., 2., 2., 2., 3., 2., 2., 1., 1., 2., 3., 2., 3., 1., 1., 3., 0.,\n",
       "       2., 1., 3., 1., 3., 1., 3., 2., 3., 1., 3., 2., 2., 1., 0., 2., 0.,\n",
       "       0., 0., 3., 1., 1., 2., 3., 1., 3., 3., 0., 2., 3., 3., 3., 1., 0.,\n",
       "       2., 0., 0., 2., 0., 0., 3., 3., 1., 1., 1., 3., 0., 2., 1., 0., 3.,\n",
       "       3., 0., 1., 0., 1., 1., 3., 0., 2., 0., 2., 3., 1., 3., 0., 3., 0.,\n",
       "       2., 3., 0., 1., 3., 0., 1., 2., 1., 2., 3., 3., 0., 1., 3., 2., 3.,\n",
       "       1., 3., 3., 3., 0., 3., 1., 3., 3., 0., 3., 1., 1., 0., 0., 2., 2.,\n",
       "       1., 1., 1., 0., 3., 0., 2., 1., 2., 3., 2., 2., 0., 3., 0., 0., 3.,\n",
       "       3., 1., 0., 0., 1., 1., 3., 3., 3., 2., 0., 2., 0., 2., 3., 1., 0.,\n",
       "       2., 0., 3., 2., 1., 0., 2., 3., 3., 1., 1., 0., 3., 3., 2., 2., 1.,\n",
       "       3., 0., 3., 0., 3., 2., 3., 1., 0., 1., 0., 1., 1., 0., 2., 0., 3.,\n",
       "       1., 2., 0., 3., 0., 0., 3., 3., 1., 3., 3., 0., 0., 1., 2., 1., 1.,\n",
       "       1., 2., 1., 1., 0., 2., 3., 3., 3., 2., 2., 1., 2., 1., 0., 0., 1.,\n",
       "       1., 3., 1., 0., 2., 0., 3., 3., 3., 3., 3., 1., 3., 3., 0., 0., 0.,\n",
       "       1., 3., 1., 1., 1., 3., 2., 3., 3., 1., 2., 1., 3., 0., 2., 3., 3.,\n",
       "       1., 3., 1., 3., 0., 0., 1., 3., 1., 1., 3., 0., 2., 2., 0., 1., 1.,\n",
       "       3., 1., 0., 0., 2., 2., 0., 2., 1., 1., 2., 3., 1., 3., 1., 1., 0.,\n",
       "       1., 1., 0., 3., 1., 0., 3., 1., 1., 1., 0., 1., 2., 3., 2., 0., 3.,\n",
       "       1., 1., 2., 1., 2., 2., 1., 0., 1., 3., 1., 3., 0., 1., 1., 0., 0.,\n",
       "       2., 0., 1., 0., 3., 1., 0., 2., 1., 3., 3., 0., 0., 2., 3., 3., 0.,\n",
       "       1., 0., 2., 3., 3., 0., 3., 0., 0., 1., 1., 3., 0., 3., 0., 1., 3.,\n",
       "       3., 0., 1., 3., 3., 1., 1., 2., 0., 3., 2., 1., 3., 3., 3., 0., 0.,\n",
       "       2., 1., 3., 0., 0., 3., 0., 0., 3., 0., 3., 2., 2., 2., 1., 2., 3.,\n",
       "       1., 1., 3., 0., 3., 0., 0., 3., 1., 3., 1., 0., 3., 2., 0., 3., 1.,\n",
       "       1., 2., 0., 2., 1., 3., 3., 0., 2., 2., 1., 1., 0., 1., 3., 3., 1.,\n",
       "       2., 2., 3., 2., 3., 3., 0., 2., 0., 2., 1., 1., 1., 1., 1., 0., 1.,\n",
       "       0., 3., 3., 0., 3., 3., 2., 3., 3., 0., 1., 2., 1., 3., 0., 1., 3.,\n",
       "       3., 3., 2., 3., 1., 1., 2., 0., 2., 0., 0., 0., 3., 1., 0., 3., 2.,\n",
       "       0., 1., 1., 1., 1., 2., 1., 0., 1., 2., 1., 2., 1., 0., 1., 1., 2.,\n",
       "       1., 2., 1., 1., 3.])"
      ]
     },
     "execution_count": 15,
     "metadata": {},
     "output_type": "execute_result"
    }
   ],
   "source": [
    "y_pred = scikit_knn.predict(X_test)\n",
    "y_pred"
   ]
  },
  {
   "cell_type": "markdown",
   "id": "9d70dd04",
   "metadata": {
    "papermill": {
     "duration": 0.01324,
     "end_time": "2023-11-11T07:05:02.259817",
     "exception": false,
     "start_time": "2023-11-11T07:05:02.246577",
     "status": "completed"
    },
    "tags": []
   },
   "source": [
    "### Evaluation"
   ]
  },
  {
   "cell_type": "code",
   "execution_count": 16,
   "id": "1b8bb182",
   "metadata": {
    "execution": {
     "iopub.execute_input": "2023-11-11T07:05:02.289056Z",
     "iopub.status.busy": "2023-11-11T07:05:02.288332Z",
     "iopub.status.idle": "2023-11-11T07:05:02.295016Z",
     "shell.execute_reply": "2023-11-11T07:05:02.294174Z"
    },
    "papermill": {
     "duration": 0.023581,
     "end_time": "2023-11-11T07:05:02.296959",
     "exception": false,
     "start_time": "2023-11-11T07:05:02.273378",
     "status": "completed"
    },
    "tags": []
   },
   "outputs": [
    {
     "data": {
      "text/plain": [
       "1.0723805294763609"
      ]
     },
     "execution_count": 16,
     "metadata": {},
     "output_type": "execute_result"
    }
   ],
   "source": [
    "knn_mse = mean_squared_error(y_test, y_pred)\n",
    "knn_mse = np.sqrt(knn_mse) \n",
    "knn_mse"
   ]
  },
  {
   "cell_type": "code",
   "execution_count": 17,
   "id": "d745d027",
   "metadata": {
    "execution": {
     "iopub.execute_input": "2023-11-11T07:05:02.326104Z",
     "iopub.status.busy": "2023-11-11T07:05:02.325686Z",
     "iopub.status.idle": "2023-11-11T07:05:02.495024Z",
     "shell.execute_reply": "2023-11-11T07:05:02.493838Z"
    },
    "papermill": {
     "duration": 0.186858,
     "end_time": "2023-11-11T07:05:02.497658",
     "exception": false,
     "start_time": "2023-11-11T07:05:02.310800",
     "status": "completed"
    },
    "tags": []
   },
   "outputs": [
    {
     "name": "stdout",
     "output_type": "stream",
     "text": [
      "Scores: [1.06615695 1.03534653 1.00716855 0.92136902 1.08951841 1.06615695\n",
      " 1.00716855 1.04571754 0.92914442 0.92077472]\n",
      "Mean: 1.008852164728546\n",
      "Standard deviation: 0.06075002798512403\n"
     ]
    }
   ],
   "source": [
    "knn_scores = cross_val_score(scikit_knn, feature_column, target_column, scoring=\"neg_mean_squared_error\", cv=10)\n",
    "knn_rmse_scores = np.sqrt(-knn_scores)\n",
    "display_scores(knn_rmse_scores)"
   ]
  },
  {
   "cell_type": "code",
   "execution_count": 18,
   "id": "f1c44a58",
   "metadata": {
    "execution": {
     "iopub.execute_input": "2023-11-11T07:05:02.528051Z",
     "iopub.status.busy": "2023-11-11T07:05:02.526803Z",
     "iopub.status.idle": "2023-11-11T07:05:02.823051Z",
     "shell.execute_reply": "2023-11-11T07:05:02.821815Z"
    },
    "papermill": {
     "duration": 0.313589,
     "end_time": "2023-11-11T07:05:02.825366",
     "exception": false,
     "start_time": "2023-11-11T07:05:02.511777",
     "status": "completed"
    },
    "tags": []
   },
   "outputs": [
    {
     "data": {
      "image/png": "[encoded data removed]",
      "text/plain": [
       "<Figure size 640x480 with 2 Axes>"
      ]
     },
     "metadata": {},
     "output_type": "display_data"
    }
   ],
   "source": [
    "knn_cm = confusion_matrix(y_test, y_pred)\n",
    "disp = ConfusionMatrixDisplay(knn_cm)\n",
    "disp.plot()\n",
    "plt.show()"
   ]
  },
  {
   "cell_type": "markdown",
   "id": "ebd05d77",
   "metadata": {
    "papermill": {
     "duration": 0.013892,
     "end_time": "2023-11-11T07:05:02.853618",
     "exception": false,
     "start_time": "2023-11-11T07:05:02.839726",
     "status": "completed"
    },
    "tags": []
   },
   "source": [
    "### Saving Model"
   ]
  },
  {
   "cell_type": "code",
   "execution_count": 19,
   "id": "e4990dd5",
   "metadata": {
    "execution": {
     "iopub.execute_input": "2023-11-11T07:05:02.884262Z",
     "iopub.status.busy": "2023-11-11T07:05:02.883874Z",
     "iopub.status.idle": "2023-11-11T07:05:02.891400Z",
     "shell.execute_reply": "2023-11-11T07:05:02.890405Z"
    },
    "papermill": {
     "duration": 0.025228,
     "end_time": "2023-11-11T07:05:02.893403",
     "exception": false,
     "start_time": "2023-11-11T07:05:02.868175",
     "status": "completed"
    },
    "tags": []
   },
   "outputs": [
    {
     "data": {
      "text/plain": [
       "['/kaggle/working/scikit_knn.pkl']"
      ]
     },
     "execution_count": 19,
     "metadata": {},
     "output_type": "execute_result"
    }
   ],
   "source": [
    "joblib.dump(scikit_knn, \"/kaggle/working/scikit_knn.pkl\")"
   ]
  },
  {
   "cell_type": "markdown",
   "id": "6868e890",
   "metadata": {
    "papermill": {
     "duration": 0.013942,
     "end_time": "2023-11-11T07:05:02.921662",
     "exception": false,
     "start_time": "2023-11-11T07:05:02.907720",
     "status": "completed"
    },
    "tags": []
   },
   "source": [
    "## Using Scikit Naive Bayes"
   ]
  },
  {
   "cell_type": "markdown",
   "id": "13e27de9",
   "metadata": {
    "papermill": {
     "duration": 0.014015,
     "end_time": "2023-11-11T07:05:02.950808",
     "exception": false,
     "start_time": "2023-11-11T07:05:02.936793",
     "status": "completed"
    },
    "tags": []
   },
   "source": [
    "### Model"
   ]
  },
  {
   "cell_type": "code",
   "execution_count": 20,
   "id": "342e4f1a",
   "metadata": {
    "execution": {
     "iopub.execute_input": "2023-11-11T07:05:02.981994Z",
     "iopub.status.busy": "2023-11-11T07:05:02.981337Z",
     "iopub.status.idle": "2023-11-11T07:05:02.991729Z",
     "shell.execute_reply": "2023-11-11T07:05:02.990611Z"
    },
    "papermill": {
     "duration": 0.028883,
     "end_time": "2023-11-11T07:05:02.994309",
     "exception": false,
     "start_time": "2023-11-11T07:05:02.965426",
     "status": "completed"
    },
    "tags": []
   },
   "outputs": [
    {
     "data": {
      "text/html": [
       "<style>#sk-container-id-2 {color: black;background-color: white;}#sk-container-id-2 pre{padding: 0;}#sk-container-id-2 div.sk-toggleable {background-color: white;}#sk-container-id-2 label.sk-toggleable__label {cursor: pointer;display: block;width: 100%;margin-bottom: 0;padding: 0.3em;box-sizing: border-box;text-align: center;}#sk-container-id-2 label.sk-toggleable__label-arrow:before {content: \"▸\";float: left;margin-right: 0.25em;color: #696969;}#sk-container-id-2 label.sk-toggleable__label-arrow:hover:before {color: black;}#sk-container-id-2 div.sk-estimator:hover label.sk-toggleable__label-arrow:before {color: black;}#sk-container-id-2 div.sk-toggleable__content {max-height: 0;max-width: 0;overflow: hidden;text-align: left;background-color: #f0f8ff;}#sk-container-id-2 div.sk-toggleable__content pre {margin: 0.2em;color: black;border-radius: 0.25em;background-color: #f0f8ff;}#sk-container-id-2 input.sk-toggleable__control:checked~div.sk-toggleable__content {max-height: 200px;max-width: 100%;overflow: auto;}#sk-container-id-2 input.sk-toggleable__control:checked~label.sk-toggleable__label-arrow:before {content: \"▾\";}#sk-container-id-2 div.sk-estimator input.sk-toggleable__control:checked~label.sk-toggleable__label {background-color: #d4ebff;}#sk-container-id-2 div.sk-label input.sk-toggleable__control:checked~label.sk-toggleable__label {background-color: #d4ebff;}#sk-container-id-2 input.sk-hidden--visually {border: 0;clip: rect(1px 1px 1px 1px);clip: rect(1px, 1px, 1px, 1px);height: 1px;margin: -1px;overflow: hidden;padding: 0;position: absolute;width: 1px;}#sk-container-id-2 div.sk-estimator {font-family: monospace;background-color: #f0f8ff;border: 1px dotted black;border-radius: 0.25em;box-sizing: border-box;margin-bottom: 0.5em;}#sk-container-id-2 div.sk-estimator:hover {background-color: #d4ebff;}#sk-container-id-2 div.sk-parallel-item::after {content: \"\";width: 100%;border-bottom: 1px solid gray;flex-grow: 1;}#sk-container-id-2 div.sk-label:hover label.sk-toggleable__label {background-color: #d4ebff;}#sk-container-id-2 div.sk-serial::before {content: \"\";position: absolute;border-left: 1px solid gray;box-sizing: border-box;top: 0;bottom: 0;left: 50%;z-index: 0;}#sk-container-id-2 div.sk-serial {display: flex;flex-direction: column;align-items: center;background-color: white;padding-right: 0.2em;padding-left: 0.2em;position: relative;}#sk-container-id-2 div.sk-item {position: relative;z-index: 1;}#sk-container-id-2 div.sk-parallel {display: flex;align-items: stretch;justify-content: center;background-color: white;position: relative;}#sk-container-id-2 div.sk-item::before, #sk-container-id-2 div.sk-parallel-item::before {content: \"\";position: absolute;border-left: 1px solid gray;box-sizing: border-box;top: 0;bottom: 0;left: 50%;z-index: -1;}#sk-container-id-2 div.sk-parallel-item {display: flex;flex-direction: column;z-index: 1;position: relative;background-color: white;}#sk-container-id-2 div.sk-parallel-item:first-child::after {align-self: flex-end;width: 50%;}#sk-container-id-2 div.sk-parallel-item:last-child::after {align-self: flex-start;width: 50%;}#sk-container-id-2 div.sk-parallel-item:only-child::after {width: 0;}#sk-container-id-2 div.sk-dashed-wrapped {border: 1px dashed gray;margin: 0 0.4em 0.5em 0.4em;box-sizing: border-box;padding-bottom: 0.4em;background-color: white;}#sk-container-id-2 div.sk-label label {font-family: monospace;font-weight: bold;display: inline-block;line-height: 1.2em;}#sk-container-id-2 div.sk-label-container {text-align: center;}#sk-container-id-2 div.sk-container {/* jupyter's `normalize.less` sets `[hidden] { display: none; }` but bootstrap.min.css set `[hidden] { display: none !important; }` so we also need the `!important` here to be able to override the default hidden behavior on the sphinx rendered scikit-learn.org. See: https://github.com/scikit-learn/scikit-learn/issues/21755 */display: inline-block !important;position: relative;}#sk-container-id-2 div.sk-text-repr-fallback {display: none;}</style><div id=\"sk-container-id-2\" class=\"sk-top-container\"><div class=\"sk-text-repr-fallback\"><pre>GaussianNB()</pre><b>In a Jupyter environment, please rerun this cell to show the HTML representation or trust the notebook. <br />On GitHub, the HTML representation is unable to render, please try loading this page with nbviewer.org.</b></div><div class=\"sk-container\" hidden><div class=\"sk-item\"><div class=\"sk-estimator sk-toggleable\"><input class=\"sk-toggleable__control sk-hidden--visually\" id=\"sk-estimator-id-2\" type=\"checkbox\" checked><label for=\"sk-estimator-id-2\" class=\"sk-toggleable__label sk-toggleable__label-arrow\">GaussianNB</label><div class=\"sk-toggleable__content\"><pre>GaussianNB()</pre></div></div></div></div></div>"
      ],
      "text/plain": [
       "GaussianNB()"
      ]
     },
     "execution_count": 20,
     "metadata": {},
     "output_type": "execute_result"
    }
   ],
   "source": [
    "scikit_nb = GaussianNB()\n",
    "scikit_nb.fit(feature_column, target_column)"
   ]
  },
  {
   "cell_type": "markdown",
   "id": "9d9274d6",
   "metadata": {
    "papermill": {
     "duration": 0.014123,
     "end_time": "2023-11-11T07:05:03.023398",
     "exception": false,
     "start_time": "2023-11-11T07:05:03.009275",
     "status": "completed"
    },
    "tags": []
   },
   "source": [
    "### Prediction"
   ]
  },
  {
   "cell_type": "code",
   "execution_count": 21,
   "id": "deaf1942",
   "metadata": {
    "execution": {
     "iopub.execute_input": "2023-11-11T07:05:03.054289Z",
     "iopub.status.busy": "2023-11-11T07:05:03.053522Z",
     "iopub.status.idle": "2023-11-11T07:05:03.067189Z",
     "shell.execute_reply": "2023-11-11T07:05:03.066035Z"
    },
    "papermill": {
     "duration": 0.031773,
     "end_time": "2023-11-11T07:05:03.069431",
     "exception": false,
     "start_time": "2023-11-11T07:05:03.037658",
     "status": "completed"
    },
    "tags": []
   },
   "outputs": [
    {
     "data": {
      "text/plain": [
       "array([2., 2., 3., 0., 3., 1., 3., 0., 3., 1., 3., 2., 3., 1., 3., 0., 1.,\n",
       "       1., 0., 3., 2., 1., 0., 0., 1., 0., 2., 1., 0., 2., 1., 3., 3., 0.,\n",
       "       2., 3., 2., 2., 2., 1., 1., 3., 1., 2., 2., 1., 1., 3., 1., 2., 2.,\n",
       "       2., 3., 0., 1., 3., 2., 3., 3., 2., 2., 3., 3., 1., 3., 2., 2., 2.,\n",
       "       3., 3., 2., 3., 2., 0., 1., 3., 0., 3., 1., 0., 2., 3., 0., 2., 3.,\n",
       "       1., 3., 3., 0., 3., 1., 1., 1., 3., 1., 1., 3., 2., 0., 2., 2., 2.,\n",
       "       1., 3., 2., 1., 3., 3., 3., 3., 3., 3., 3., 2., 3., 1., 1., 3., 1.,\n",
       "       3., 1., 3., 2., 3., 3., 0., 2., 2., 1., 3., 3., 2., 0., 0., 3., 1.,\n",
       "       1., 2., 3., 0., 1., 3., 3., 1., 2., 2., 1., 2., 1., 2., 3., 0., 0.,\n",
       "       2., 1., 1., 3., 1., 1., 3., 3., 3., 1., 2., 3., 0., 1., 1., 0., 2.,\n",
       "       3., 1., 0., 1., 1., 1., 3., 0., 2., 0., 3., 1., 1., 2., 0., 2., 0.,\n",
       "       3., 2., 0., 3., 3., 0., 0., 2., 1., 1., 3., 3., 1., 2., 2., 2., 3.,\n",
       "       2., 3., 3., 3., 0., 3., 1., 2., 3., 1., 2., 3., 3., 0., 0., 2., 2.,\n",
       "       3., 2., 3., 0., 3., 0., 3., 0., 2., 2., 2., 2., 1., 3., 0., 1., 3.,\n",
       "       3., 3., 0., 0., 1., 0., 3., 3., 2., 2., 0., 3., 2., 2., 3., 2., 0.,\n",
       "       2., 2., 0., 0., 2., 0., 2., 2., 2., 3., 0., 1., 3., 3., 0., 0., 2.,\n",
       "       1., 1., 2., 0., 3., 2., 2., 2., 0., 2., 0., 2., 1., 1., 0., 1., 3.,\n",
       "       1., 3., 1., 2., 0., 1., 3., 3., 3., 0., 2., 1., 0., 0., 1., 2., 3.,\n",
       "       0., 3., 1., 1., 0., 2., 3., 1., 3., 1., 2., 1., 2., 2., 1., 0., 3.,\n",
       "       1., 2., 1., 0., 1., 1., 0., 3., 2., 3., 2., 2., 2., 3., 0., 1., 0.,\n",
       "       2., 2., 0., 2., 1., 3., 2., 3., 1., 2., 3., 0., 1., 1., 2., 3., 1.,\n",
       "       3., 2., 0., 3., 0., 0., 3., 2., 0., 3., 3., 1., 1., 1., 0., 1., 2.,\n",
       "       2., 3., 0., 1., 2., 2., 0., 2., 1., 1., 3., 3., 3., 3., 1., 1., 0.,\n",
       "       3., 2., 0., 3., 1., 1., 2., 0., 2., 1., 0., 1., 0., 2., 1., 1., 1.,\n",
       "       1., 2., 3., 1., 2., 3., 3., 1., 1., 3., 1., 2., 0., 1., 3., 0., 0.,\n",
       "       1., 0., 0., 0., 3., 1., 1., 2., 0., 0., 2., 1., 0., 3., 2., 0., 0.,\n",
       "       2., 1., 2., 1., 1., 1., 2., 0., 1., 2., 0., 2., 0., 3., 0., 0., 1.,\n",
       "       2., 1., 1., 3., 2., 1., 2., 3., 0., 2., 2., 0., 2., 1., 2., 0., 0.,\n",
       "       3., 0., 2., 0., 1., 3., 0., 1., 3., 0., 2., 2., 3., 2., 1., 3., 2.,\n",
       "       0., 1., 1., 1., 2., 1., 0., 3., 1., 3., 3., 1., 3., 3., 0., 3., 3.,\n",
       "       1., 2., 0., 3., 0., 2., 2., 0., 2., 3., 0., 3., 0., 2., 3., 3., 1.,\n",
       "       2., 1., 1., 3., 3., 3., 1., 2., 1., 3., 3., 3., 1., 2., 2., 1., 0.,\n",
       "       0., 0., 3., 0., 2., 1., 1., 3., 2., 1., 1., 3., 0., 3., 0., 0., 3.,\n",
       "       3., 2., 2., 2., 2., 0., 2., 0., 1., 1., 3., 0., 2., 0., 0., 2., 3.,\n",
       "       0., 1., 1., 2., 0., 1., 2., 0., 1., 2., 0., 2., 2., 1., 1., 2., 3.,\n",
       "       1., 2., 1., 1., 2.])"
      ]
     },
     "execution_count": 21,
     "metadata": {},
     "output_type": "execute_result"
    }
   ],
   "source": [
    "y_pred_nb = scikit_nb.predict(X_test)\n",
    "y_pred_nb"
   ]
  },
  {
   "cell_type": "markdown",
   "id": "0acfe0f1",
   "metadata": {
    "papermill": {
     "duration": 0.014365,
     "end_time": "2023-11-11T07:05:03.098701",
     "exception": false,
     "start_time": "2023-11-11T07:05:03.084336",
     "status": "completed"
    },
    "tags": []
   },
   "source": [
    "### Evaluation"
   ]
  },
  {
   "cell_type": "code",
   "execution_count": 22,
   "id": "b75b6168",
   "metadata": {
    "execution": {
     "iopub.execute_input": "2023-11-11T07:05:03.129525Z",
     "iopub.status.busy": "2023-11-11T07:05:03.129151Z",
     "iopub.status.idle": "2023-11-11T07:05:03.136236Z",
     "shell.execute_reply": "2023-11-11T07:05:03.135406Z"
    },
    "papermill": {
     "duration": 0.024798,
     "end_time": "2023-11-11T07:05:03.138186",
     "exception": false,
     "start_time": "2023-11-11T07:05:03.113388",
     "status": "completed"
    },
    "tags": []
   },
   "outputs": [
    {
     "data": {
      "text/plain": [
       "0.5291502622129182"
      ]
     },
     "execution_count": 22,
     "metadata": {},
     "output_type": "execute_result"
    }
   ],
   "source": [
    "nb_mse = mean_squared_error(y_test, y_pred_nb)\n",
    "nb_mse = np.sqrt(nb_mse) \n",
    "nb_mse"
   ]
  },
  {
   "cell_type": "code",
   "execution_count": 23,
   "id": "edb414e1",
   "metadata": {
    "execution": {
     "iopub.execute_input": "2023-11-11T07:05:03.170218Z",
     "iopub.status.busy": "2023-11-11T07:05:03.169035Z",
     "iopub.status.idle": "2023-11-11T07:05:03.231686Z",
     "shell.execute_reply": "2023-11-11T07:05:03.230639Z"
    },
    "papermill": {
     "duration": 0.081619,
     "end_time": "2023-11-11T07:05:03.234444",
     "exception": false,
     "start_time": "2023-11-11T07:05:03.152825",
     "status": "completed"
    },
    "tags": []
   },
   "outputs": [
    {
     "name": "stdout",
     "output_type": "stream",
     "text": [
      "Scores: [0.49457488 0.50891336 0.56262489 0.54968925 0.53644178 0.54968925\n",
      " 0.49457488 0.59373225 0.53644178 0.47395958]\n",
      "Mean: 0.5300641906574455\n",
      "Standard deviation: 0.034755605511003866\n"
     ]
    }
   ],
   "source": [
    "nb_scores = cross_val_score(scikit_nb, feature_column, target_column, scoring=\"neg_mean_squared_error\", cv=10)\n",
    "nb_rmse_scores = np.sqrt(-nb_scores)\n",
    "display_scores(nb_rmse_scores)"
   ]
  },
  {
   "cell_type": "code",
   "execution_count": 24,
   "id": "c48f20ae",
   "metadata": {
    "execution": {
     "iopub.execute_input": "2023-11-11T07:05:03.266545Z",
     "iopub.status.busy": "2023-11-11T07:05:03.266155Z",
     "iopub.status.idle": "2023-11-11T07:05:03.546011Z",
     "shell.execute_reply": "2023-11-11T07:05:03.544824Z"
    },
    "papermill": {
     "duration": 0.298792,
     "end_time": "2023-11-11T07:05:03.548436",
     "exception": false,
     "start_time": "2023-11-11T07:05:03.249644",
     "status": "completed"
    },
    "tags": []
   },
   "outputs": [
    {
     "data": {
      "image/png": "[encoded data removed]",
      "text/plain": [
       "<Figure size 640x480 with 2 Axes>"
      ]
     },
     "metadata": {},
     "output_type": "display_data"
    }
   ],
   "source": [
    "nb_cm = confusion_matrix(y_test, y_pred_nb)\n",
    "disp = ConfusionMatrixDisplay(nb_cm)\n",
    "disp.plot()\n",
    "plt.show()"
   ]
  },
  {
   "cell_type": "markdown",
   "id": "6f4b73df",
   "metadata": {
    "papermill": {
     "duration": 0.015694,
     "end_time": "2023-11-11T07:05:03.579795",
     "exception": false,
     "start_time": "2023-11-11T07:05:03.564101",
     "status": "completed"
    },
    "tags": []
   },
   "source": [
    "### Saving Model"
   ]
  },
  {
   "cell_type": "code",
   "execution_count": 25,
   "id": "3e9de1e4",
   "metadata": {
    "execution": {
     "iopub.execute_input": "2023-11-11T07:05:03.612440Z",
     "iopub.status.busy": "2023-11-11T07:05:03.612028Z",
     "iopub.status.idle": "2023-11-11T07:05:03.621230Z",
     "shell.execute_reply": "2023-11-11T07:05:03.620065Z"
    },
    "papermill": {
     "duration": 0.02815,
     "end_time": "2023-11-11T07:05:03.623578",
     "exception": false,
     "start_time": "2023-11-11T07:05:03.595428",
     "status": "completed"
    },
    "tags": []
   },
   "outputs": [
    {
     "data": {
      "text/plain": [
       "['/kaggle/working/scikit_naive_bayes.pkl']"
      ]
     },
     "execution_count": 25,
     "metadata": {},
     "output_type": "execute_result"
    }
   ],
   "source": [
    "joblib.dump(scikit_nb, \"/kaggle/working/scikit_naive_bayes.pkl\")"
   ]
  },
  {
   "cell_type": "markdown",
   "id": "9d469483",
   "metadata": {
    "papermill": {
     "duration": 0.015145,
     "end_time": "2023-11-11T07:05:03.654796",
     "exception": false,
     "start_time": "2023-11-11T07:05:03.639651",
     "status": "completed"
    },
    "tags": []
   },
   "source": [
    "# Submission"
   ]
  },
  {
   "cell_type": "code",
   "execution_count": 26,
   "id": "bfbfd6db",
   "metadata": {
    "execution": {
     "iopub.execute_input": "2023-11-11T07:05:03.688201Z",
     "iopub.status.busy": "2023-11-11T07:05:03.687756Z",
     "iopub.status.idle": "2023-11-11T07:05:03.701892Z",
     "shell.execute_reply": "2023-11-11T07:05:03.700744Z"
    },
    "papermill": {
     "duration": 0.033284,
     "end_time": "2023-11-11T07:05:03.704231",
     "exception": false,
     "start_time": "2023-11-11T07:05:03.670947",
     "status": "completed"
    },
    "tags": []
   },
   "outputs": [
    {
     "data": {
      "text/html": [
       "<div>\n",
       "<style scoped>\n",
       "    .dataframe tbody tr th:only-of-type {\n",
       "        vertical-align: middle;\n",
       "    }\n",
       "\n",
       "    .dataframe tbody tr th {\n",
       "        vertical-align: top;\n",
       "    }\n",
       "\n",
       "    .dataframe thead th {\n",
       "        text-align: right;\n",
       "    }\n",
       "</style>\n",
       "<table border=\"1\" class=\"dataframe\">\n",
       "  <thead>\n",
       "    <tr style=\"text-align: right;\">\n",
       "      <th></th>\n",
       "      <th>price_range</th>\n",
       "    </tr>\n",
       "  </thead>\n",
       "  <tbody>\n",
       "    <tr>\n",
       "      <th>0</th>\n",
       "      <td>2.0</td>\n",
       "    </tr>\n",
       "    <tr>\n",
       "      <th>1</th>\n",
       "      <td>2.0</td>\n",
       "    </tr>\n",
       "    <tr>\n",
       "      <th>2</th>\n",
       "      <td>3.0</td>\n",
       "    </tr>\n",
       "    <tr>\n",
       "      <th>3</th>\n",
       "      <td>0.0</td>\n",
       "    </tr>\n",
       "    <tr>\n",
       "      <th>4</th>\n",
       "      <td>3.0</td>\n",
       "    </tr>\n",
       "    <tr>\n",
       "      <th>...</th>\n",
       "      <td>...</td>\n",
       "    </tr>\n",
       "    <tr>\n",
       "      <th>595</th>\n",
       "      <td>1.0</td>\n",
       "    </tr>\n",
       "    <tr>\n",
       "      <th>596</th>\n",
       "      <td>2.0</td>\n",
       "    </tr>\n",
       "    <tr>\n",
       "      <th>597</th>\n",
       "      <td>1.0</td>\n",
       "    </tr>\n",
       "    <tr>\n",
       "      <th>598</th>\n",
       "      <td>1.0</td>\n",
       "    </tr>\n",
       "    <tr>\n",
       "      <th>599</th>\n",
       "      <td>2.0</td>\n",
       "    </tr>\n",
       "  </tbody>\n",
       "</table>\n",
       "<p>600 rows × 1 columns</p>\n",
       "</div>"
      ],
      "text/plain": [
       "     price_range\n",
       "0            2.0\n",
       "1            2.0\n",
       "2            3.0\n",
       "3            0.0\n",
       "4            3.0\n",
       "..           ...\n",
       "595          1.0\n",
       "596          2.0\n",
       "597          1.0\n",
       "598          1.0\n",
       "599          2.0\n",
       "\n",
       "[600 rows x 1 columns]"
      ]
     },
     "execution_count": 26,
     "metadata": {},
     "output_type": "execute_result"
    }
   ],
   "source": [
    "submit_nb_scikit =  pd.DataFrame(y_pred_nb, index=X_test.index, columns=[\"price_range\"])\n",
    "submit_nb_scikit"
   ]
  }
 ],
 "metadata": {
  "kernelspec": {
   "display_name": "Python 3",
   "language": "python",
   "name": "python3"
  },
  "language_info": {
   "codemirror_mode": {
    "name": "ipython",
    "version": 3
   },
   "file_extension": ".py",
   "mimetype": "text/x-python",
   "name": "python",
   "nbconvert_exporter": "python",
   "pygments_lexer": "ipython3",
   "version": "3.10.12"
  },
  "papermill": {
   "default_parameters": {},
   "duration": 14.732011,
   "end_time": "2023-11-11T07:05:04.441202",
   "environment_variables": {},
   "exception": null,
   "input_path": "__notebook__.ipynb",
   "output_path": "__notebook__.ipynb",
   "parameters": {},
   "start_time": "2023-11-11T07:04:49.709191",
   "version": "2.4.0"
  }
 },
 "nbformat": 4,
 "nbformat_minor": 5
}
